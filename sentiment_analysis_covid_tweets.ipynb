{
  "nbformat": 4,
  "nbformat_minor": 0,
  "metadata": {
    "accelerator": "GPU",
    "colab": {
      "name": "sentiment_analysis_covid_tweets.ipynb",
      "provenance": []
    },
    "kernelspec": {
      "display_name": "Python 3",
      "name": "python3"
    },
    "language_info": {
      "name": "python"
    }
  },
  "cells": [
    {
      "cell_type": "markdown",
      "metadata": {
        "id": "d66HjaGQMcQM"
      },
      "source": [
        "# SENTIMENT ANALYSIS OF COVID-19 TWEETS"
      ]
    },
    {
      "cell_type": "markdown",
      "metadata": {
        "id": "HqGyVwXYMyGv"
      },
      "source": [
        "This Notebook is to \n",
        "\n",
        "Text Preprocessing:\n",
        "\n",
        "Tokenization\n",
        "\n",
        "Entity Recognition\n",
        "\n",
        "Score"
      ]
    },
    {
      "cell_type": "markdown",
      "metadata": {
        "id": "xshVBGADNKDx"
      },
      "source": [
        "The repository contains analysis of 1500 tweets associated with novel coronavirus COVID-19, which commenced on January 28,2020.\n",
        "\n",
        "**DATA COLLECTION**\n",
        "\n",
        "I used the Twitter's search API to gather historical tweets.\n",
        "\n",
        "**DATA PREPROCESSING**\n",
        "1. Conversion of tweets text to lowercase\n",
        "2. Removal of Punctuations\n",
        "3. Removal of Stopwords\n",
        "4. Replacement of Emoji with text \n",
        "\n",
        "**Named Entity Recognition**\n",
        "\n",
        "Named entity recognition algorithm of 'spacy' library was used to find entities in tweets\n",
        "\n",
        "**Polarity Scores**\n",
        "The tweets are classified based on positive,negative and neutral polarity scores.\n",
        "\n",
        "**Interpretation of Compound Score:**\n",
        "The Compound score is a metric that calculates the sum of all the lexicon ratings which have been normalized between -1(most extreme negative) and +1 (most extreme positive).\n",
        "positive sentiment : (compound score >= 0.05) \n",
        "neutral sentiment : (compound score > -0.05) and (compound score < 0.05) \n",
        "negative sentiment : (compound score <= -0.05)\n",
        "\n",
        "\n"
      ]
    },
    {
      "cell_type": "code",
      "metadata": {
        "id": "UMugYeZ-eXXz"
      },
      "source": [
        "import pandas as pd\n",
        "import json"
      ],
      "execution_count": null,
      "outputs": []
    },
    {
      "cell_type": "code",
      "metadata": {
        "colab": {
          "base_uri": "https://localhost:8080/"
        },
        "id": "qQvT_FUF1ZLx",
        "outputId": "31223803-3ef7-424e-ee13-770b3319fd24"
      },
      "source": [
        "import tensorflow as tf\n",
        "\n",
        "# Get the GPU device name.\n",
        "device_name = tf.test.gpu_device_name()\n",
        "\n",
        "# The device name should look like the following:\n",
        "if device_name == '/device:GPU:0':\n",
        "    print('Found GPU at: {}'.format(device_name))\n",
        "else:\n",
        "    raise SystemError('GPU device not found')"
      ],
      "execution_count": null,
      "outputs": [
        {
          "output_type": "stream",
          "text": [
            "Found GPU at: /device:GPU:0\n"
          ],
          "name": "stdout"
        }
      ]
    },
    {
      "cell_type": "code",
      "metadata": {
        "colab": {
          "base_uri": "https://localhost:8080/"
        },
        "id": "6cQEG3551iX1",
        "outputId": "d1ba2b8c-f537-4726-ce02-70c3e369c41d"
      },
      "source": [
        "import torch\n",
        "\n",
        "# If there's a GPU available...\n",
        "if torch.cuda.is_available():    \n",
        "\n",
        "    # Tell PyTorch to use the GPU.    \n",
        "    device = torch.device(\"cuda\")\n",
        "\n",
        "    print('There are %d GPU(s) available.' % torch.cuda.device_count())\n",
        "\n",
        "    print('We will use the GPU:', torch.cuda.get_device_name(0))\n",
        "\n",
        "# If not...\n",
        "else:\n",
        "    print('No GPU available, using the CPU instead.')\n",
        "    device = torch.device(\"cpu\")"
      ],
      "execution_count": null,
      "outputs": [
        {
          "output_type": "stream",
          "text": [
            "There are 1 GPU(s) available.\n",
            "We will use the GPU: Tesla T4\n"
          ],
          "name": "stdout"
        }
      ]
    },
    {
      "cell_type": "code",
      "metadata": {
        "colab": {
          "base_uri": "https://localhost:8080/"
        },
        "id": "y-coE7AvtcHP",
        "outputId": "e3cbf4c6-5620-4d98-fe75-b0a6084d701e"
      },
      "source": [
        "from google.colab import drive\n",
        "drive.mount(\"/content/drive\")"
      ],
      "execution_count": null,
      "outputs": [
        {
          "output_type": "stream",
          "text": [
            "Drive already mounted at /content/drive; to attempt to forcibly remount, call drive.mount(\"/content/drive\", force_remount=True).\n"
          ],
          "name": "stdout"
        }
      ]
    },
    {
      "cell_type": "code",
      "metadata": {
        "id": "IBBYBzwRwKdu"
      },
      "source": [
        "import tweepy as tw\n",
        "\n",
        "with open(\"/content/drive/MyDrive/twitter_keys.json\",'r') as f:\n",
        "  data = json.load(f)"
      ],
      "execution_count": null,
      "outputs": []
    },
    {
      "cell_type": "code",
      "metadata": {
        "id": "MQSfkDtzxsTe"
      },
      "source": [
        "auth = tw.OAuthHandler(data[\"consumer_key\"],data[\"consumer_secret\"])\n",
        "api = tw.API(auth,wait_on_rate_limit=True)"
      ],
      "execution_count": null,
      "outputs": []
    },
    {
      "cell_type": "code",
      "metadata": {
        "id": "sMmif2B9xtCm"
      },
      "source": [
        "search_words = [\"#coronavirus\",\"#covid19\",\"#covid-19\"]\n",
        "date_since = \"2020-04-30\""
      ],
      "execution_count": null,
      "outputs": []
    },
    {
      "cell_type": "code",
      "metadata": {
        "id": "4KPukYz7y2FL"
      },
      "source": [
        "tweets = tw.Cursor(api.search,q=search_words,lang=\"en\",since=date_since,count=1500).items()"
      ],
      "execution_count": null,
      "outputs": []
    },
    {
      "cell_type": "code",
      "metadata": {
        "colab": {
          "base_uri": "https://localhost:8080/"
        },
        "id": "t8phcHPaW0n7",
        "outputId": "9b27bc44-6925-4fc9-eca5-ff448e5f3512"
      },
      "source": [
        "tweets"
      ],
      "execution_count": null,
      "outputs": [
        {
          "output_type": "execute_result",
          "data": {
            "text/plain": [
              "<tweepy.cursor.ItemIterator at 0x7f3f7f5ec210>"
            ]
          },
          "metadata": {
            "tags": []
          },
          "execution_count": 110
        }
      ]
    },
    {
      "cell_type": "code",
      "metadata": {
        "id": "Kp2ZxCrKzSb_"
      },
      "source": [
        "tweet_details = [[tweet.geo,tweet.text,tweet.user.screen_name,tweet.user.location] for tweet in tweets]\n",
        "\n",
        "\n"
      ],
      "execution_count": null,
      "outputs": []
    },
    {
      "cell_type": "code",
      "metadata": {
        "id": "IXPjmNmrztXh"
      },
      "source": [
        "tweets_df = pd.DataFrame(data=tweet_details,columns=[\"geo\",\"text\",\"user\",\"location\"])"
      ],
      "execution_count": null,
      "outputs": []
    },
    {
      "cell_type": "code",
      "metadata": {
        "id": "5MfILWeL0CWZ"
      },
      "source": [
        "tweets_df.to_csv(\"/content/drive/MyDrive/covid_tweets.csv\"). ##Saving tweets in a csv file"
      ],
      "execution_count": null,
      "outputs": []
    },
    {
      "cell_type": "code",
      "metadata": {
        "colab": {
          "base_uri": "https://localhost:8080/",
          "height": 204
        },
        "id": "MVUW3KTr2JuU",
        "outputId": "cf7fa83a-d2c6-4a7d-83d8-11fc56f74449"
      },
      "source": [
        "tweets_df.head()"
      ],
      "execution_count": null,
      "outputs": [
        {
          "output_type": "execute_result",
          "data": {
            "text/html": [
              "<div>\n",
              "<style scoped>\n",
              "    .dataframe tbody tr th:only-of-type {\n",
              "        vertical-align: middle;\n",
              "    }\n",
              "\n",
              "    .dataframe tbody tr th {\n",
              "        vertical-align: top;\n",
              "    }\n",
              "\n",
              "    .dataframe thead th {\n",
              "        text-align: right;\n",
              "    }\n",
              "</style>\n",
              "<table border=\"1\" class=\"dataframe\">\n",
              "  <thead>\n",
              "    <tr style=\"text-align: right;\">\n",
              "      <th></th>\n",
              "      <th>geo</th>\n",
              "      <th>text</th>\n",
              "      <th>user</th>\n",
              "      <th>location</th>\n",
              "    </tr>\n",
              "  </thead>\n",
              "  <tbody>\n",
              "    <tr>\n",
              "      <th>0</th>\n",
              "      <td>None</td>\n",
              "      <td>RT @sapiofoxxxxxxxy: How globalists planned th...</td>\n",
              "      <td>Mark79641317</td>\n",
              "      <td>Mallow, Ireland</td>\n",
              "    </tr>\n",
              "    <tr>\n",
              "      <th>1</th>\n",
              "      <td>None</td>\n",
              "      <td>The Mastercard Foundation on Tuesday announced...</td>\n",
              "      <td>SABCNews</td>\n",
              "      <td>South Africa</td>\n",
              "    </tr>\n",
              "    <tr>\n",
              "      <th>2</th>\n",
              "      <td>None</td>\n",
              "      <td>24,000+ COVID-19 infections so far in June in ...</td>\n",
              "      <td>NewsfirstSL</td>\n",
              "      <td>Colombo, Sri Lanka</td>\n",
              "    </tr>\n",
              "    <tr>\n",
              "      <th>3</th>\n",
              "      <td>None</td>\n",
              "      <td>Covid-19 travel update: South Korea seeks trav...</td>\n",
              "      <td>Al_Maldives</td>\n",
              "      <td></td>\n",
              "    </tr>\n",
              "    <tr>\n",
              "      <th>4</th>\n",
              "      <td>None</td>\n",
              "      <td>COVID-19 Home Isolation Care\\nWe are here to H...</td>\n",
              "      <td>QuickwellR</td>\n",
              "      <td></td>\n",
              "    </tr>\n",
              "  </tbody>\n",
              "</table>\n",
              "</div>"
            ],
            "text/plain": [
              "    geo  ...            location\n",
              "0  None  ...    Mallow, Ireland \n",
              "1  None  ...        South Africa\n",
              "2  None  ...  Colombo, Sri Lanka\n",
              "3  None  ...                    \n",
              "4  None  ...                    \n",
              "\n",
              "[5 rows x 4 columns]"
            ]
          },
          "metadata": {
            "tags": []
          },
          "execution_count": 121
        }
      ]
    },
    {
      "cell_type": "code",
      "metadata": {
        "colab": {
          "base_uri": "https://localhost:8080/"
        },
        "id": "HiVBbvxp2aVv",
        "outputId": "dcd28d98-a5d4-4890-a3a1-e36eae41bc31"
      },
      "source": [
        "tweets_df[\"location\"].value_counts()"
      ],
      "execution_count": null,
      "outputs": [
        {
          "output_type": "execute_result",
          "data": {
            "text/plain": [
              "                                 3689\n",
              "Los Angeles, CA                  2573\n",
              "India                             341\n",
              "United Kingdom                    255\n",
              "Karlsruhe, Germany                233\n",
              "                                 ... \n",
              "patreon.com/wordglass               1\n",
              "Aurangabad | Maharashtra            1\n",
              "Bellevue, WA #Navy #Unity2020       1\n",
              "San Marcos, TX                      1\n",
              "Unknown                             1\n",
              "Name: location, Length: 1692, dtype: int64"
            ]
          },
          "metadata": {
            "tags": []
          },
          "execution_count": 122
        }
      ]
    },
    {
      "cell_type": "markdown",
      "metadata": {
        "id": "WIazQc2eajnj"
      },
      "source": [
        "**DATA PREPROCESSING**\n"
      ]
    },
    {
      "cell_type": "code",
      "metadata": {
        "id": "WpK58Ru72hjF"
      },
      "source": [
        "\n",
        "##Removing mentions\n",
        "import re\n",
        "def clean_tweet_text(text):\n",
        "  text = re.sub(\"RT @[\\w]*:\",\"\",text)\n",
        "  text = re.sub(\"@[\\w]*\",\"\",text)\n",
        "  text = re.sub(\"\\n\",\"\",text)\n",
        "  return text"
      ],
      "execution_count": null,
      "outputs": []
    },
    {
      "cell_type": "code",
      "metadata": {
        "id": "clrtcBk44EhK"
      },
      "source": [
        "tweets_df[\"text\"] = tweets_df[\"text\"].apply(lambda x: clean_tweet_text(x))"
      ],
      "execution_count": null,
      "outputs": []
    },
    {
      "cell_type": "code",
      "metadata": {
        "id": "UJqqHy8ynExi"
      },
      "source": [
        "##Converting into lowercase\n",
        "\n",
        "tweets_df[\"text\"] =  tweets_df['text'].str.lower()"
      ],
      "execution_count": null,
      "outputs": []
    },
    {
      "cell_type": "code",
      "metadata": {
        "id": "Mk2E0XElnqdT"
      },
      "source": [
        "##Removing punctuations\n",
        "\n",
        "tweets_df['text'] = tweets_df['text'].str.replace('[^\\w\\s]','')"
      ],
      "execution_count": null,
      "outputs": []
    },
    {
      "cell_type": "code",
      "metadata": {
        "colab": {
          "base_uri": "https://localhost:8080/",
          "height": 448
        },
        "id": "GdEIpKmSGCgV",
        "outputId": "e02382db-81dc-4fe5-f1b8-5f35384440c3"
      },
      "source": [
        "#Spelling correction\n",
        "from textblob import TextBlob\n",
        "clean_text[\"text\"] = clean_text['text'].apply(lambda x: str(TextBlob(x).correct()))"
      ],
      "execution_count": null,
      "outputs": [
        {
          "output_type": "error",
          "ename": "KeyboardInterrupt",
          "evalue": "ignored",
          "traceback": [
            "\u001b[0;31m---------------------------------------------------------------------------\u001b[0m",
            "\u001b[0;31mKeyboardInterrupt\u001b[0m                         Traceback (most recent call last)",
            "\u001b[0;32m<ipython-input-22-f08a4635c4ae>\u001b[0m in \u001b[0;36m<module>\u001b[0;34m()\u001b[0m\n\u001b[1;32m      1\u001b[0m \u001b[0;31m#Spelling correction\u001b[0m\u001b[0;34m\u001b[0m\u001b[0;34m\u001b[0m\u001b[0;34m\u001b[0m\u001b[0m\n\u001b[1;32m      2\u001b[0m \u001b[0;32mfrom\u001b[0m \u001b[0mtextblob\u001b[0m \u001b[0;32mimport\u001b[0m \u001b[0mTextBlob\u001b[0m\u001b[0;34m\u001b[0m\u001b[0;34m\u001b[0m\u001b[0m\n\u001b[0;32m----> 3\u001b[0;31m \u001b[0mclean_text\u001b[0m\u001b[0;34m[\u001b[0m\u001b[0;34m\"text\"\u001b[0m\u001b[0;34m]\u001b[0m \u001b[0;34m=\u001b[0m \u001b[0mclean_text\u001b[0m\u001b[0;34m[\u001b[0m\u001b[0;34m'text'\u001b[0m\u001b[0;34m]\u001b[0m\u001b[0;34m.\u001b[0m\u001b[0mapply\u001b[0m\u001b[0;34m(\u001b[0m\u001b[0;32mlambda\u001b[0m \u001b[0mx\u001b[0m\u001b[0;34m:\u001b[0m \u001b[0mstr\u001b[0m\u001b[0;34m(\u001b[0m\u001b[0mTextBlob\u001b[0m\u001b[0;34m(\u001b[0m\u001b[0mx\u001b[0m\u001b[0;34m)\u001b[0m\u001b[0;34m.\u001b[0m\u001b[0mcorrect\u001b[0m\u001b[0;34m(\u001b[0m\u001b[0;34m)\u001b[0m\u001b[0;34m)\u001b[0m\u001b[0;34m)\u001b[0m\u001b[0;34m\u001b[0m\u001b[0;34m\u001b[0m\u001b[0m\n\u001b[0m",
            "\u001b[0;32m/usr/local/lib/python3.7/dist-packages/pandas/core/series.py\u001b[0m in \u001b[0;36mapply\u001b[0;34m(self, func, convert_dtype, args, **kwds)\u001b[0m\n\u001b[1;32m   4211\u001b[0m             \u001b[0;32melse\u001b[0m\u001b[0;34m:\u001b[0m\u001b[0;34m\u001b[0m\u001b[0;34m\u001b[0m\u001b[0m\n\u001b[1;32m   4212\u001b[0m                 \u001b[0mvalues\u001b[0m \u001b[0;34m=\u001b[0m \u001b[0mself\u001b[0m\u001b[0;34m.\u001b[0m\u001b[0mastype\u001b[0m\u001b[0;34m(\u001b[0m\u001b[0mobject\u001b[0m\u001b[0;34m)\u001b[0m\u001b[0;34m.\u001b[0m\u001b[0m_values\u001b[0m\u001b[0;34m\u001b[0m\u001b[0;34m\u001b[0m\u001b[0m\n\u001b[0;32m-> 4213\u001b[0;31m                 \u001b[0mmapped\u001b[0m \u001b[0;34m=\u001b[0m \u001b[0mlib\u001b[0m\u001b[0;34m.\u001b[0m\u001b[0mmap_infer\u001b[0m\u001b[0;34m(\u001b[0m\u001b[0mvalues\u001b[0m\u001b[0;34m,\u001b[0m \u001b[0mf\u001b[0m\u001b[0;34m,\u001b[0m \u001b[0mconvert\u001b[0m\u001b[0;34m=\u001b[0m\u001b[0mconvert_dtype\u001b[0m\u001b[0;34m)\u001b[0m\u001b[0;34m\u001b[0m\u001b[0;34m\u001b[0m\u001b[0m\n\u001b[0m\u001b[1;32m   4214\u001b[0m \u001b[0;34m\u001b[0m\u001b[0m\n\u001b[1;32m   4215\u001b[0m         \u001b[0;32mif\u001b[0m \u001b[0mlen\u001b[0m\u001b[0;34m(\u001b[0m\u001b[0mmapped\u001b[0m\u001b[0;34m)\u001b[0m \u001b[0;32mand\u001b[0m \u001b[0misinstance\u001b[0m\u001b[0;34m(\u001b[0m\u001b[0mmapped\u001b[0m\u001b[0;34m[\u001b[0m\u001b[0;36m0\u001b[0m\u001b[0;34m]\u001b[0m\u001b[0;34m,\u001b[0m \u001b[0mSeries\u001b[0m\u001b[0;34m)\u001b[0m\u001b[0;34m:\u001b[0m\u001b[0;34m\u001b[0m\u001b[0;34m\u001b[0m\u001b[0m\n",
            "\u001b[0;32mpandas/_libs/lib.pyx\u001b[0m in \u001b[0;36mpandas._libs.lib.map_infer\u001b[0;34m()\u001b[0m\n",
            "\u001b[0;32m<ipython-input-22-f08a4635c4ae>\u001b[0m in \u001b[0;36m<lambda>\u001b[0;34m(x)\u001b[0m\n\u001b[1;32m      1\u001b[0m \u001b[0;31m#Spelling correction\u001b[0m\u001b[0;34m\u001b[0m\u001b[0;34m\u001b[0m\u001b[0;34m\u001b[0m\u001b[0m\n\u001b[1;32m      2\u001b[0m \u001b[0;32mfrom\u001b[0m \u001b[0mtextblob\u001b[0m \u001b[0;32mimport\u001b[0m \u001b[0mTextBlob\u001b[0m\u001b[0;34m\u001b[0m\u001b[0;34m\u001b[0m\u001b[0m\n\u001b[0;32m----> 3\u001b[0;31m \u001b[0mclean_text\u001b[0m\u001b[0;34m[\u001b[0m\u001b[0;34m\"text\"\u001b[0m\u001b[0;34m]\u001b[0m \u001b[0;34m=\u001b[0m \u001b[0mclean_text\u001b[0m\u001b[0;34m[\u001b[0m\u001b[0;34m'text'\u001b[0m\u001b[0;34m]\u001b[0m\u001b[0;34m.\u001b[0m\u001b[0mapply\u001b[0m\u001b[0;34m(\u001b[0m\u001b[0;32mlambda\u001b[0m \u001b[0mx\u001b[0m\u001b[0;34m:\u001b[0m \u001b[0mstr\u001b[0m\u001b[0;34m(\u001b[0m\u001b[0mTextBlob\u001b[0m\u001b[0;34m(\u001b[0m\u001b[0mx\u001b[0m\u001b[0;34m)\u001b[0m\u001b[0;34m.\u001b[0m\u001b[0mcorrect\u001b[0m\u001b[0;34m(\u001b[0m\u001b[0;34m)\u001b[0m\u001b[0;34m)\u001b[0m\u001b[0;34m)\u001b[0m\u001b[0;34m\u001b[0m\u001b[0;34m\u001b[0m\u001b[0m\n\u001b[0m",
            "\u001b[0;32m/usr/local/lib/python3.7/dist-packages/textblob/blob.py\u001b[0m in \u001b[0;36mcorrect\u001b[0;34m(self)\u001b[0m\n\u001b[1;32m    578\u001b[0m         \u001b[0mtokens\u001b[0m \u001b[0;34m=\u001b[0m \u001b[0mnltk\u001b[0m\u001b[0;34m.\u001b[0m\u001b[0mtokenize\u001b[0m\u001b[0;34m.\u001b[0m\u001b[0mregexp_tokenize\u001b[0m\u001b[0;34m(\u001b[0m\u001b[0mself\u001b[0m\u001b[0;34m.\u001b[0m\u001b[0mraw\u001b[0m\u001b[0;34m,\u001b[0m \u001b[0;34mr\"\\w+|[^\\w\\s]|\\s\"\u001b[0m\u001b[0;34m)\u001b[0m\u001b[0;34m\u001b[0m\u001b[0;34m\u001b[0m\u001b[0m\n\u001b[1;32m    579\u001b[0m         \u001b[0mcorrected\u001b[0m \u001b[0;34m=\u001b[0m \u001b[0;34m(\u001b[0m\u001b[0mWord\u001b[0m\u001b[0;34m(\u001b[0m\u001b[0mw\u001b[0m\u001b[0;34m)\u001b[0m\u001b[0;34m.\u001b[0m\u001b[0mcorrect\u001b[0m\u001b[0;34m(\u001b[0m\u001b[0;34m)\u001b[0m \u001b[0;32mfor\u001b[0m \u001b[0mw\u001b[0m \u001b[0;32min\u001b[0m \u001b[0mtokens\u001b[0m\u001b[0;34m)\u001b[0m\u001b[0;34m\u001b[0m\u001b[0;34m\u001b[0m\u001b[0m\n\u001b[0;32m--> 580\u001b[0;31m         \u001b[0mret\u001b[0m \u001b[0;34m=\u001b[0m \u001b[0;34m''\u001b[0m\u001b[0;34m.\u001b[0m\u001b[0mjoin\u001b[0m\u001b[0;34m(\u001b[0m\u001b[0mcorrected\u001b[0m\u001b[0;34m)\u001b[0m\u001b[0;34m\u001b[0m\u001b[0;34m\u001b[0m\u001b[0m\n\u001b[0m\u001b[1;32m    581\u001b[0m         \u001b[0;32mreturn\u001b[0m \u001b[0mself\u001b[0m\u001b[0;34m.\u001b[0m\u001b[0m__class__\u001b[0m\u001b[0;34m(\u001b[0m\u001b[0mret\u001b[0m\u001b[0;34m)\u001b[0m\u001b[0;34m\u001b[0m\u001b[0;34m\u001b[0m\u001b[0m\n\u001b[1;32m    582\u001b[0m \u001b[0;34m\u001b[0m\u001b[0m\n",
            "\u001b[0;32m/usr/local/lib/python3.7/dist-packages/textblob/blob.py\u001b[0m in \u001b[0;36m<genexpr>\u001b[0;34m(.0)\u001b[0m\n\u001b[1;32m    577\u001b[0m         \u001b[0;31m# regex matches: word or punctuation or whitespace\u001b[0m\u001b[0;34m\u001b[0m\u001b[0;34m\u001b[0m\u001b[0;34m\u001b[0m\u001b[0m\n\u001b[1;32m    578\u001b[0m         \u001b[0mtokens\u001b[0m \u001b[0;34m=\u001b[0m \u001b[0mnltk\u001b[0m\u001b[0;34m.\u001b[0m\u001b[0mtokenize\u001b[0m\u001b[0;34m.\u001b[0m\u001b[0mregexp_tokenize\u001b[0m\u001b[0;34m(\u001b[0m\u001b[0mself\u001b[0m\u001b[0;34m.\u001b[0m\u001b[0mraw\u001b[0m\u001b[0;34m,\u001b[0m \u001b[0;34mr\"\\w+|[^\\w\\s]|\\s\"\u001b[0m\u001b[0;34m)\u001b[0m\u001b[0;34m\u001b[0m\u001b[0;34m\u001b[0m\u001b[0m\n\u001b[0;32m--> 579\u001b[0;31m         \u001b[0mcorrected\u001b[0m \u001b[0;34m=\u001b[0m \u001b[0;34m(\u001b[0m\u001b[0mWord\u001b[0m\u001b[0;34m(\u001b[0m\u001b[0mw\u001b[0m\u001b[0;34m)\u001b[0m\u001b[0;34m.\u001b[0m\u001b[0mcorrect\u001b[0m\u001b[0;34m(\u001b[0m\u001b[0;34m)\u001b[0m \u001b[0;32mfor\u001b[0m \u001b[0mw\u001b[0m \u001b[0;32min\u001b[0m \u001b[0mtokens\u001b[0m\u001b[0;34m)\u001b[0m\u001b[0;34m\u001b[0m\u001b[0;34m\u001b[0m\u001b[0m\n\u001b[0m\u001b[1;32m    580\u001b[0m         \u001b[0mret\u001b[0m \u001b[0;34m=\u001b[0m \u001b[0;34m''\u001b[0m\u001b[0;34m.\u001b[0m\u001b[0mjoin\u001b[0m\u001b[0;34m(\u001b[0m\u001b[0mcorrected\u001b[0m\u001b[0;34m)\u001b[0m\u001b[0;34m\u001b[0m\u001b[0;34m\u001b[0m\u001b[0m\n\u001b[1;32m    581\u001b[0m         \u001b[0;32mreturn\u001b[0m \u001b[0mself\u001b[0m\u001b[0;34m.\u001b[0m\u001b[0m__class__\u001b[0m\u001b[0;34m(\u001b[0m\u001b[0mret\u001b[0m\u001b[0;34m)\u001b[0m\u001b[0;34m\u001b[0m\u001b[0;34m\u001b[0m\u001b[0m\n",
            "\u001b[0;32m/usr/local/lib/python3.7/dist-packages/textblob/blob.py\u001b[0m in \u001b[0;36mcorrect\u001b[0;34m(self)\u001b[0m\n\u001b[1;32m    125\u001b[0m         \u001b[0;34m.\u001b[0m\u001b[0;34m.\u001b[0m \u001b[0mversionadded\u001b[0m\u001b[0;34m:\u001b[0m\u001b[0;34m:\u001b[0m \u001b[0;36m0.6\u001b[0m\u001b[0;36m.0\u001b[0m\u001b[0;34m\u001b[0m\u001b[0;34m\u001b[0m\u001b[0m\n\u001b[1;32m    126\u001b[0m         '''\n\u001b[0;32m--> 127\u001b[0;31m         \u001b[0;32mreturn\u001b[0m \u001b[0mWord\u001b[0m\u001b[0;34m(\u001b[0m\u001b[0mself\u001b[0m\u001b[0;34m.\u001b[0m\u001b[0mspellcheck\u001b[0m\u001b[0;34m(\u001b[0m\u001b[0;34m)\u001b[0m\u001b[0;34m[\u001b[0m\u001b[0;36m0\u001b[0m\u001b[0;34m]\u001b[0m\u001b[0;34m[\u001b[0m\u001b[0;36m0\u001b[0m\u001b[0;34m]\u001b[0m\u001b[0;34m)\u001b[0m\u001b[0;34m\u001b[0m\u001b[0;34m\u001b[0m\u001b[0m\n\u001b[0m\u001b[1;32m    128\u001b[0m \u001b[0;34m\u001b[0m\u001b[0m\n\u001b[1;32m    129\u001b[0m     \u001b[0;34m@\u001b[0m\u001b[0mcached_property\u001b[0m\u001b[0;34m\u001b[0m\u001b[0;34m\u001b[0m\u001b[0m\n",
            "\u001b[0;32m/usr/local/lib/python3.7/dist-packages/textblob/blob.py\u001b[0m in \u001b[0;36mspellcheck\u001b[0;34m(self)\u001b[0m\n\u001b[1;32m    117\u001b[0m         \u001b[0;34m.\u001b[0m\u001b[0;34m.\u001b[0m \u001b[0mversionadded\u001b[0m\u001b[0;34m:\u001b[0m\u001b[0;34m:\u001b[0m \u001b[0;36m0.6\u001b[0m\u001b[0;36m.0\u001b[0m\u001b[0;34m\u001b[0m\u001b[0;34m\u001b[0m\u001b[0m\n\u001b[1;32m    118\u001b[0m         '''\n\u001b[0;32m--> 119\u001b[0;31m         \u001b[0;32mreturn\u001b[0m \u001b[0msuggest\u001b[0m\u001b[0;34m(\u001b[0m\u001b[0mself\u001b[0m\u001b[0;34m.\u001b[0m\u001b[0mstring\u001b[0m\u001b[0;34m)\u001b[0m\u001b[0;34m\u001b[0m\u001b[0;34m\u001b[0m\u001b[0m\n\u001b[0m\u001b[1;32m    120\u001b[0m \u001b[0;34m\u001b[0m\u001b[0m\n\u001b[1;32m    121\u001b[0m     \u001b[0;32mdef\u001b[0m \u001b[0mcorrect\u001b[0m\u001b[0;34m(\u001b[0m\u001b[0mself\u001b[0m\u001b[0;34m)\u001b[0m\u001b[0;34m:\u001b[0m\u001b[0;34m\u001b[0m\u001b[0;34m\u001b[0m\u001b[0m\n",
            "\u001b[0;32m/usr/local/lib/python3.7/dist-packages/textblob/en/__init__.py\u001b[0m in \u001b[0;36msuggest\u001b[0;34m(w)\u001b[0m\n\u001b[1;32m    121\u001b[0m     \"\"\" Returns a list of (word, confidence)-tuples of spelling corrections.\n\u001b[1;32m    122\u001b[0m     \"\"\"\n\u001b[0;32m--> 123\u001b[0;31m     \u001b[0;32mreturn\u001b[0m \u001b[0mspelling\u001b[0m\u001b[0;34m.\u001b[0m\u001b[0msuggest\u001b[0m\u001b[0;34m(\u001b[0m\u001b[0mw\u001b[0m\u001b[0;34m)\u001b[0m\u001b[0;34m\u001b[0m\u001b[0;34m\u001b[0m\u001b[0m\n\u001b[0m\u001b[1;32m    124\u001b[0m \u001b[0;34m\u001b[0m\u001b[0m\n\u001b[1;32m    125\u001b[0m \u001b[0;32mdef\u001b[0m \u001b[0mpolarity\u001b[0m\u001b[0;34m(\u001b[0m\u001b[0ms\u001b[0m\u001b[0;34m,\u001b[0m \u001b[0;34m**\u001b[0m\u001b[0mkwargs\u001b[0m\u001b[0;34m)\u001b[0m\u001b[0;34m:\u001b[0m\u001b[0;34m\u001b[0m\u001b[0;34m\u001b[0m\u001b[0m\n",
            "\u001b[0;32m/usr/local/lib/python3.7/dist-packages/textblob/_text.py\u001b[0m in \u001b[0;36msuggest\u001b[0;34m(self, w)\u001b[0m\n\u001b[1;32m   1396\u001b[0m         \u001b[0mcandidates\u001b[0m \u001b[0;34m=\u001b[0m \u001b[0mself\u001b[0m\u001b[0;34m.\u001b[0m\u001b[0m_known\u001b[0m\u001b[0;34m(\u001b[0m\u001b[0;34m[\u001b[0m\u001b[0mw\u001b[0m\u001b[0;34m]\u001b[0m\u001b[0;34m)\u001b[0m\u001b[0;31m \u001b[0m\u001b[0;31m\\\u001b[0m\u001b[0;34m\u001b[0m\u001b[0;34m\u001b[0m\u001b[0m\n\u001b[1;32m   1397\u001b[0m                   \u001b[0;32mor\u001b[0m \u001b[0mself\u001b[0m\u001b[0;34m.\u001b[0m\u001b[0m_known\u001b[0m\u001b[0;34m(\u001b[0m\u001b[0mself\u001b[0m\u001b[0;34m.\u001b[0m\u001b[0m_edit1\u001b[0m\u001b[0;34m(\u001b[0m\u001b[0mw\u001b[0m\u001b[0;34m)\u001b[0m\u001b[0;34m)\u001b[0m\u001b[0;31m \u001b[0m\u001b[0;31m\\\u001b[0m\u001b[0;34m\u001b[0m\u001b[0;34m\u001b[0m\u001b[0m\n\u001b[0;32m-> 1398\u001b[0;31m                   \u001b[0;32mor\u001b[0m \u001b[0mself\u001b[0m\u001b[0;34m.\u001b[0m\u001b[0m_known\u001b[0m\u001b[0;34m(\u001b[0m\u001b[0mself\u001b[0m\u001b[0;34m.\u001b[0m\u001b[0m_edit2\u001b[0m\u001b[0;34m(\u001b[0m\u001b[0mw\u001b[0m\u001b[0;34m)\u001b[0m\u001b[0;34m)\u001b[0m\u001b[0;31m \u001b[0m\u001b[0;31m\\\u001b[0m\u001b[0;34m\u001b[0m\u001b[0;34m\u001b[0m\u001b[0m\n\u001b[0m\u001b[1;32m   1399\u001b[0m                   \u001b[0;32mor\u001b[0m \u001b[0;34m[\u001b[0m\u001b[0mw\u001b[0m\u001b[0;34m]\u001b[0m\u001b[0;34m\u001b[0m\u001b[0;34m\u001b[0m\u001b[0m\n\u001b[1;32m   1400\u001b[0m         \u001b[0mcandidates\u001b[0m \u001b[0;34m=\u001b[0m \u001b[0;34m[\u001b[0m\u001b[0;34m(\u001b[0m\u001b[0mself\u001b[0m\u001b[0;34m.\u001b[0m\u001b[0mget\u001b[0m\u001b[0;34m(\u001b[0m\u001b[0mc\u001b[0m\u001b[0;34m,\u001b[0m \u001b[0;36m0.0\u001b[0m\u001b[0;34m)\u001b[0m\u001b[0;34m,\u001b[0m \u001b[0mc\u001b[0m\u001b[0;34m)\u001b[0m \u001b[0;32mfor\u001b[0m \u001b[0mc\u001b[0m \u001b[0;32min\u001b[0m \u001b[0mcandidates\u001b[0m\u001b[0;34m]\u001b[0m\u001b[0;34m\u001b[0m\u001b[0;34m\u001b[0m\u001b[0m\n",
            "\u001b[0;32m/usr/local/lib/python3.7/dist-packages/textblob/_text.py\u001b[0m in \u001b[0;36m_edit2\u001b[0;34m(self, w)\u001b[0m\n\u001b[1;32m   1373\u001b[0m         \u001b[0;31m# Of all spelling errors, 99% is covered by edit distance 2.\u001b[0m\u001b[0;34m\u001b[0m\u001b[0;34m\u001b[0m\u001b[0;34m\u001b[0m\u001b[0m\n\u001b[1;32m   1374\u001b[0m         \u001b[0;31m# Only keep candidates that are actually known words (20% speedup).\u001b[0m\u001b[0;34m\u001b[0m\u001b[0;34m\u001b[0m\u001b[0;34m\u001b[0m\u001b[0m\n\u001b[0;32m-> 1375\u001b[0;31m         \u001b[0;32mreturn\u001b[0m \u001b[0mset\u001b[0m\u001b[0;34m(\u001b[0m\u001b[0me2\u001b[0m \u001b[0;32mfor\u001b[0m \u001b[0me1\u001b[0m \u001b[0;32min\u001b[0m \u001b[0mself\u001b[0m\u001b[0;34m.\u001b[0m\u001b[0m_edit1\u001b[0m\u001b[0;34m(\u001b[0m\u001b[0mw\u001b[0m\u001b[0;34m)\u001b[0m \u001b[0;32mfor\u001b[0m \u001b[0me2\u001b[0m \u001b[0;32min\u001b[0m \u001b[0mself\u001b[0m\u001b[0;34m.\u001b[0m\u001b[0m_edit1\u001b[0m\u001b[0;34m(\u001b[0m\u001b[0me1\u001b[0m\u001b[0;34m)\u001b[0m \u001b[0;32mif\u001b[0m \u001b[0me2\u001b[0m \u001b[0;32min\u001b[0m \u001b[0mself\u001b[0m\u001b[0;34m)\u001b[0m\u001b[0;34m\u001b[0m\u001b[0;34m\u001b[0m\u001b[0m\n\u001b[0m\u001b[1;32m   1376\u001b[0m \u001b[0;34m\u001b[0m\u001b[0m\n\u001b[1;32m   1377\u001b[0m     \u001b[0;32mdef\u001b[0m \u001b[0m_known\u001b[0m\u001b[0;34m(\u001b[0m\u001b[0mself\u001b[0m\u001b[0;34m,\u001b[0m \u001b[0mwords\u001b[0m\u001b[0;34m=\u001b[0m\u001b[0;34m[\u001b[0m\u001b[0;34m]\u001b[0m\u001b[0;34m)\u001b[0m\u001b[0;34m:\u001b[0m\u001b[0;34m\u001b[0m\u001b[0;34m\u001b[0m\u001b[0m\n",
            "\u001b[0;32m/usr/local/lib/python3.7/dist-packages/textblob/_text.py\u001b[0m in \u001b[0;36m<genexpr>\u001b[0;34m(.0)\u001b[0m\n\u001b[1;32m   1373\u001b[0m         \u001b[0;31m# Of all spelling errors, 99% is covered by edit distance 2.\u001b[0m\u001b[0;34m\u001b[0m\u001b[0;34m\u001b[0m\u001b[0;34m\u001b[0m\u001b[0m\n\u001b[1;32m   1374\u001b[0m         \u001b[0;31m# Only keep candidates that are actually known words (20% speedup).\u001b[0m\u001b[0;34m\u001b[0m\u001b[0;34m\u001b[0m\u001b[0;34m\u001b[0m\u001b[0m\n\u001b[0;32m-> 1375\u001b[0;31m         \u001b[0;32mreturn\u001b[0m \u001b[0mset\u001b[0m\u001b[0;34m(\u001b[0m\u001b[0me2\u001b[0m \u001b[0;32mfor\u001b[0m \u001b[0me1\u001b[0m \u001b[0;32min\u001b[0m \u001b[0mself\u001b[0m\u001b[0;34m.\u001b[0m\u001b[0m_edit1\u001b[0m\u001b[0;34m(\u001b[0m\u001b[0mw\u001b[0m\u001b[0;34m)\u001b[0m \u001b[0;32mfor\u001b[0m \u001b[0me2\u001b[0m \u001b[0;32min\u001b[0m \u001b[0mself\u001b[0m\u001b[0;34m.\u001b[0m\u001b[0m_edit1\u001b[0m\u001b[0;34m(\u001b[0m\u001b[0me1\u001b[0m\u001b[0;34m)\u001b[0m \u001b[0;32mif\u001b[0m \u001b[0me2\u001b[0m \u001b[0;32min\u001b[0m \u001b[0mself\u001b[0m\u001b[0;34m)\u001b[0m\u001b[0;34m\u001b[0m\u001b[0;34m\u001b[0m\u001b[0m\n\u001b[0m\u001b[1;32m   1376\u001b[0m \u001b[0;34m\u001b[0m\u001b[0m\n\u001b[1;32m   1377\u001b[0m     \u001b[0;32mdef\u001b[0m \u001b[0m_known\u001b[0m\u001b[0;34m(\u001b[0m\u001b[0mself\u001b[0m\u001b[0;34m,\u001b[0m \u001b[0mwords\u001b[0m\u001b[0;34m=\u001b[0m\u001b[0;34m[\u001b[0m\u001b[0;34m]\u001b[0m\u001b[0;34m)\u001b[0m\u001b[0;34m:\u001b[0m\u001b[0;34m\u001b[0m\u001b[0;34m\u001b[0m\u001b[0m\n",
            "\u001b[0;31mKeyboardInterrupt\u001b[0m: "
          ]
        }
      ]
    },
    {
      "cell_type": "code",
      "metadata": {
        "colab": {
          "base_uri": "https://localhost:8080/"
        },
        "id": "-SR1piqFoVuH",
        "outputId": "07543e02-bded-49bc-b9de-3bf0ffc0b762"
      },
      "source": [
        "##Stop-word removal\n",
        "\n",
        "import nltk\n",
        "from nltk.corpus import stopwords \n",
        "nltk.download('stopwords')\n",
        "\n",
        "#STOPWORDS = set(sw.words('english'))\n",
        "\n",
        "def remove_stopwords(text):\n",
        "  return \" \".join([word for word in str(text).split() if word not in stopwords.words()])\n",
        "\n",
        "##Applying the removal of stopwords\n",
        "\n",
        "tweets_df[\"text\"] = tweets_df[\"text\"].apply(remove_stopwords)"
      ],
      "execution_count": null,
      "outputs": [
        {
          "output_type": "stream",
          "text": [
            "[nltk_data] Downloading package stopwords to /root/nltk_data...\n",
            "[nltk_data]   Package stopwords is already up-to-date!\n"
          ],
          "name": "stdout"
        }
      ]
    },
    {
      "cell_type": "code",
      "metadata": {
        "colab": {
          "background_save": true,
          "base_uri": "https://localhost:8080/"
        },
        "id": "I6PIzyKWMFcf",
        "outputId": "1a930366-efda-4202-f2b2-ba5177fea598"
      },
      "source": [
        "##Replacing emoji with text [Emoji conversion into text]\n",
        "\n",
        "import pickle\n",
        "import re\n",
        "\n",
        "with open(\"/content/drive/MyDrive/Emoji_Dict.p\",'rb') as emoji_file:\n",
        "  print(emoji_file)\n",
        "  emoji_dict = pickle.load(emoji_file)\n",
        "  print(emoji_dict)\n",
        "emoji_dict = {v: k for k, v in emoji_dict.items()} \n",
        "\n",
        "def convert_emojis_to_word(text):\n",
        "    \n",
        "    for emot in emoji_dict:\n",
        "        text = re.sub(emot,emoji_dict[emot].replace(':',\"\"),text)\n",
        "        #text = re.sub(r'('+emot+')', \"_\".join(emoji_dict[emot].replace(\",\",\"\").replace(\":\",\"\").split()), text)\n",
        "    return text\n",
        "\n",
        "#convert_emojis_to_word(\"I won 🥇 in 🏏\")\n",
        "\n",
        "tweets_df[\"text\"] = tweets_df[\"text\"].apply(convert_emojis_to_word)\n"
      ],
      "execution_count": null,
      "outputs": [
        {
          "output_type": "stream",
          "text": [
            "<_io.BufferedReader name='/content/drive/MyDrive/Emoji_Dict.p'>\n",
            "{':1st_place_medal:': '🥇', ':2nd_place_medal:': '🥈', ':3rd_place_medal:': '🥉', ':AB_button_(blood_type):': '🆎', ':ATM_sign:': '🏧', ':A_button_(blood_type):': '🅰', ':Afghanistan:': '🇦 🇫', ':Albania:': '🇦 🇱', ':Algeria:': '🇩 🇿', ':American_Samoa:': '🇦 🇸', ':Andorra:': '🇦 🇩', ':Angola:': '🇦 🇴', ':Anguilla:': '🇦 🇮', ':Antarctica:': '🇦 🇶', ':Antigua_&_Barbuda:': '🇦 🇬', ':Aquarius:': '♒', ':Argentina:': '🇦 🇷', ':Aries:': '♈', ':Armenia:': '🇦 🇲', ':Aruba:': '🇦 🇼', ':Ascension_Island:': '🇦 🇨', ':Australia:': '🇦 🇺', ':Austria:': '🇦 🇹', ':Azerbaijan:': '🇦 🇿', ':BACK_arrow:': '🔙', ':B_button_(blood_type):': '🅱', ':Bahamas:': '🇧 🇸', ':Bahrain:': '🇧 🇭', ':Bangladesh:': '🇧 🇩', ':Barbados:': '🇧 🇧', ':Belarus:': '🇧 🇾', ':Belgium:': '🇧 🇪', ':Belize:': '🇧 🇿', ':Benin:': '🇧 🇯', ':Bermuda:': '🇧 🇲', ':Bhutan:': '🇧 🇹', ':Bolivia:': '🇧 🇴', ':Bosnia_&_Herzegovina:': '🇧 🇦', ':Botswana:': '🇧 🇼', ':Bouvet_Island:': '🇧 🇻', ':Brazil:': '🇧 🇷', ':British_Indian_Ocean_Territory:': '🇮 🇴', ':British_Virgin_Islands:': '🇻 🇬', ':Brunei:': '🇧 🇳', ':Bulgaria:': '🇧 🇬', ':Burkina_Faso:': '🇧 🇫', ':Burundi:': '🇧 🇮', ':CL_button:': '🆑', ':COOL_button:': '🆒', ':Cambodia:': '🇰 🇭', ':Cameroon:': '🇨 🇲', ':Canada:': '🇨 🇦', ':Canary_Islands:': '🇮 🇨', ':Cancer:': '♋', ':Cape_Verde:': '🇨 🇻', ':Capricorn:': '♑', ':Caribbean_Netherlands:': '🇧 🇶', ':Cayman_Islands:': '🇰 🇾', ':Central_African_Republic:': '🇨 🇫', ':Ceuta_&_Melilla:': '🇪 🇦', ':Chad:': '🇹 🇩', ':Chile:': '🇨 🇱', ':China:': '🇨 🇳', ':Christmas_Island:': '🇨 🇽', ':Christmas_tree:': '🎄', ':Clipperton_Island:': '🇨 🇵', ':Cocos_(Keeling)_Islands:': '🇨 🇨', ':Colombia:': '🇨 🇴', ':Comoros:': '🇰 🇲', ':Congo_-_Brazzaville:': '🇨 🇬', ':Congo_-_Kinshasa:': '🇨 🇩', ':Cook_Islands:': '🇨 🇰', ':Costa_Rica:': '🇨 🇷', ':Croatia:': '🇭 🇷', ':Cuba:': '🇨 🇺', ':Curaçao:': '🇨 🇼', ':Cyprus:': '🇨 🇾', ':Czech_Republic:': '🇨 🇿', ':Côte_d’Ivoire:': '🇨 🇮', ':Denmark:': '🇩 🇰', ':Diego_Garcia:': '🇩 🇬', ':Djibouti:': '🇩 🇯', ':Dominica:': '🇩 🇲', ':Dominican_Republic:': '🇩 🇴', ':END_arrow:': '🔚', ':Ecuador:': '🇪 🇨', ':Egypt:': '🇪 🇬', ':El_Salvador:': '🇸 🇻', ':Equatorial_Guinea:': '🇬 🇶', ':Eritrea:': '🇪 🇷', ':Estonia:': '🇪 🇪', ':Ethiopia:': '🇪 🇹', ':European_Union:': '🇪 🇺', ':FREE_button:': '🆓', ':Falkland_Islands:': '🇫 🇰', ':Faroe_Islands:': '🇫 🇴', ':Fiji:': '🇫 🇯', ':Finland:': '🇫 🇮', ':France:': '🇫 🇷', ':French_Guiana:': '🇬 🇫', ':French_Polynesia:': '🇵 🇫', ':French_Southern_Territories:': '🇹 🇫', ':Gabon:': '🇬 🇦', ':Gambia:': '🇬 🇲', ':Gemini:': '♊', ':Georgia:': '🇬 🇪', ':Germany:': '🇩 🇪', ':Ghana:': '🇬 🇭', ':Gibraltar:': '🇬 🇮', ':Greece:': '🇬 🇷', ':Greenland:': '🇬 🇱', ':Grenada:': '🇬 🇩', ':Guadeloupe:': '🇬 🇵', ':Guam:': '🇬 🇺', ':Guatemala:': '🇬 🇹', ':Guernsey:': '🇬 🇬', ':Guinea:': '🇬 🇳', ':Guinea-Bissau:': '🇬 🇼', ':Guyana:': '🇬 🇾', ':Haiti:': '🇭 🇹', ':Heard_&_McDonald_Islands:': '🇭 🇲', ':Honduras:': '🇭 🇳', ':Hong_Kong_SAR_China:': '🇭 🇰', ':Hungary:': '🇭 🇺', ':ID_button:': '🆔', ':Iceland:': '🇮 🇸', ':India:': '🇮 🇳', ':Indonesia:': '🇮 🇩', ':Iran:': '🇮 🇷', ':Iraq:': '🇮 🇶', ':Ireland:': '🇮 🇪', ':Isle_of_Man:': '🇮 🇲', ':Israel:': '🇮 🇱', ':Italy:': '🇮 🇹', ':Jamaica:': '🇯 🇲', ':Japan:': '🇯 🇵', ':Japanese_acceptable_button:': '🉑', ':Japanese_application_button:': '🈸', ':Japanese_bargain_button:': '🉐', ':Japanese_castle:': '🏯', ':Japanese_congratulations_button:': '㊗', ':Japanese_discount_button:': '🈹', ':Japanese_dolls:': '🎎', ':Japanese_free_of_charge_button:': '🈚', ':Japanese_here_button:': '🈁', ':Japanese_monthly_amount_button:': '🈷', ':Japanese_no_vacancy_button:': '🈵', ':Japanese_not_free_of_charge_button:': '🈶', ':Japanese_open_for_business_button:': '🈺', ':Japanese_passing_grade_button:': '🈴', ':Japanese_post_office:': '🏣', ':Japanese_prohibited_button:': '🈲', ':Japanese_reserved_button:': '🈯', ':Japanese_secret_button:': '㊙', ':Japanese_service_charge_button:': '🈂', ':Japanese_symbol_for_beginner:': '🔰', ':Japanese_vacancy_button:': '🈳', ':Jersey:': '🇯 🇪', ':Jordan:': '🇯 🇴', ':Kazakhstan:': '🇰 🇿', ':Kenya:': '🇰 🇪', ':Kiribati:': '🇰 🇮', ':Kosovo:': '🇽 🇰', ':Kuwait:': '🇰 🇼', ':Kyrgyzstan:': '🇰 🇬', ':Laos:': '🇱 🇦', ':Latvia:': '🇱 🇻', ':Lebanon:': '🇱 🇧', ':Leo:': '♌', ':Lesotho:': '🇱 🇸', ':Liberia:': '🇱 🇷', ':Libra:': '♎', ':Libya:': '🇱 🇾', ':Liechtenstein:': '🇱 🇮', ':Lithuania:': '🇱 🇹', ':Luxembourg:': '🇱 🇺', ':Macau_SAR_China:': '🇲 🇴', ':Macedonia:': '🇲 🇰', ':Madagascar:': '🇲 🇬', ':Malawi:': '🇲 🇼', ':Malaysia:': '🇲 🇾', ':Maldives:': '🇲 🇻', ':Mali:': '🇲 🇱', ':Malta:': '🇲 🇹', ':Marshall_Islands:': '🇲 🇭', ':Martinique:': '🇲 🇶', ':Mauritania:': '🇲 🇷', ':Mauritius:': '🇲 🇺', ':Mayotte:': '🇾 🇹', ':Mexico:': '🇲 🇽', ':Micronesia:': '🇫 🇲', ':Moldova:': '🇲 🇩', ':Monaco:': '🇲 🇨', ':Mongolia:': '🇲 🇳', ':Montenegro:': '🇲 🇪', ':Montserrat:': '🇲 🇸', ':Morocco:': '🇲 🇦', ':Mozambique:': '🇲 🇿', ':Mrs._Claus:': '🤶', ':Mrs._Claus_dark_skin_tone:': '🤶 🏿', ':Mrs._Claus_light_skin_tone:': '🤶 🏻', ':Mrs._Claus_medium-dark_skin_tone:': '🤶 🏾', ':Mrs._Claus_medium-light_skin_tone:': '🤶 🏼', ':Mrs._Claus_medium_skin_tone:': '🤶 🏽', ':Myanmar_(Burma):': '🇲 🇲', ':NEW_button:': '🆕', ':NG_button:': '🆖', ':Namibia:': '🇳 🇦', ':Nauru:': '🇳 🇷', ':Nepal:': '🇳 🇵', ':Netherlands:': '🇳 🇱', ':New_Caledonia:': '🇳 🇨', ':New_Zealand:': '🇳 🇿', ':Nicaragua:': '🇳 🇮', ':Niger:': '🇳 🇪', ':Nigeria:': '🇳 🇬', ':Niue:': '🇳 🇺', ':Norfolk_Island:': '🇳 🇫', ':North_Korea:': '🇰 🇵', ':Northern_Mariana_Islands:': '🇲 🇵', ':Norway:': '🇳 🇴', ':OK_button:': '🆗', ':OK_hand:': '👌', ':OK_hand_dark_skin_tone:': '👌 🏿', ':OK_hand_light_skin_tone:': '👌 🏻', ':OK_hand_medium-dark_skin_tone:': '👌 🏾', ':OK_hand_medium-light_skin_tone:': '👌 🏼', ':OK_hand_medium_skin_tone:': '👌 🏽', ':ON!_arrow:': '🔛', ':O_button_(blood_type):': '🅾', ':Oman:': '🇴 🇲', ':Ophiuchus:': '⛎', ':P_button:': '🅿', ':Pakistan:': '🇵 🇰', ':Palau:': '🇵 🇼', ':Palestinian_Territories:': '🇵 🇸', ':Panama:': '🇵 🇦', ':Papua_New_Guinea:': '🇵 🇬', ':Paraguay:': '🇵 🇾', ':Peru:': '🇵 🇪', ':Philippines:': '🇵 🇭', ':Pisces:': '♓', ':Pitcairn_Islands:': '🇵 🇳', ':Poland:': '🇵 🇱', ':Portugal:': '🇵 🇹', ':Puerto_Rico:': '🇵 🇷', ':Qatar:': '🇶 🇦', ':Romania:': '🇷 🇴', ':Russia:': '🇷 🇺', ':Rwanda:': '🇷 🇼', ':Réunion:': '🇷 🇪', ':SOON_arrow:': '🔜', ':SOS_button:': '🆘', ':Sagittarius:': '♐', ':Samoa:': '🇼 🇸', ':San_Marino:': '🇸 🇲', ':Santa_Claus:': '🎅', ':Santa_Claus_dark_skin_tone:': '🎅 🏿', ':Santa_Claus_light_skin_tone:': '🎅 🏻', ':Santa_Claus_medium-dark_skin_tone:': '🎅 🏾', ':Santa_Claus_medium-light_skin_tone:': '🎅 🏼', ':Santa_Claus_medium_skin_tone:': '🎅 🏽', ':Saudi_Arabia:': '🇸 🇦', ':Scorpius:': '♏', ':Senegal:': '🇸 🇳', ':Serbia:': '🇷 🇸', ':Seychelles:': '🇸 🇨', ':Sierra_Leone:': '🇸 🇱', ':Singapore:': '🇸 🇬', ':Sint_Maarten:': '🇸 🇽', ':Slovakia:': '🇸 🇰', ':Slovenia:': '🇸 🇮', ':Solomon_Islands:': '🇸 🇧', ':Somalia:': '🇸 🇴', ':South_Africa:': '🇿 🇦', ':South_Georgia_&_South_Sandwich_Islands:': '🇬 🇸', ':South_Korea:': '🇰 🇷', ':South_Sudan:': '🇸 🇸', ':Spain:': '🇪 🇸', ':Sri_Lanka:': '🇱 🇰', ':St._Barthélemy:': '🇧 🇱', ':St._Helena:': '🇸 🇭', ':St._Kitts_&_Nevis:': '🇰 🇳', ':St._Lucia:': '🇱 🇨', ':St._Martin:': '🇲 🇫', ':St._Pierre_&_Miquelon:': '🇵 🇲', ':St._Vincent_&_Grenadines:': '🇻 🇨', ':Statue_of_Liberty:': '🗽', ':Sudan:': '🇸 🇩', ':Suriname:': '🇸 🇷', ':Svalbard_&_Jan_Mayen:': '🇸 🇯', ':Swaziland:': '🇸 🇿', ':Sweden:': '🇸 🇪', ':Switzerland:': '🇨 🇭', ':Syria:': '🇸 🇾', ':São_Tomé_&_Príncipe:': '🇸 🇹', ':TOP_arrow:': '🔝', ':Taiwan:': '🇹 🇼', ':Tajikistan:': '🇹 🇯', ':Tanzania:': '🇹 🇿', ':Taurus:': '♉', ':Thailand:': '🇹 🇭', ':Timor-Leste:': '🇹 🇱', ':Togo:': '🇹 🇬', ':Tokelau:': '🇹 🇰', ':Tokyo_tower:': '🗼', ':Tonga:': '🇹 🇴', ':Trinidad_&_Tobago:': '🇹 🇹', ':Tristan_da_Cunha:': '🇹 🇦', ':Tunisia:': '🇹 🇳', ':Turkey:': '🇹 🇷', ':Turkmenistan:': '🇹 🇲', ':Turks_&_Caicos_Islands:': '🇹 🇨', ':Tuvalu:': '🇹 🇻', ':U.S._Outlying_Islands:': '🇺 🇲', ':U.S._Virgin_Islands:': '🇻 🇮', ':UP!_button:': '🆙', ':Uganda:': '🇺 🇬', ':Ukraine:': '🇺 🇦', ':United_Arab_Emirates:': '🇦 🇪', ':United_Kingdom:': '🇬 🇧', ':United_Nations:': '🇺 🇳', ':United_States:': '🇺 🇸', ':Uruguay:': '🇺 🇾', ':Uzbekistan:': '🇺 🇿', ':VS_button:': '🆚', ':Vanuatu:': '🇻 🇺', ':Vatican_City:': '🇻 🇦', ':Venezuela:': '🇻 🇪', ':Vietnam:': '🇻 🇳', ':Virgo:': '♍', ':Wallis_&_Futuna:': '🇼 🇫', ':Western_Sahara:': '🇪 🇭', ':Yemen:': '🇾 🇪', ':Zambia:': '🇿 🇲', ':Zimbabwe:': '🇿 🇼', ':admission_tickets:': '🎟', ':aerial_tramway:': '🚡', ':airplane:': '✈', ':airplane_arrival:': '🛬', ':airplane_departure:': '🛫', ':alarm_clock:': '⏰', ':alembic:': '⚗', ':alien:': '👽', ':alien_monster:': '👾', ':ambulance:': '🚑', ':american_football:': '🏈', ':amphora:': '🏺', ':anchor:': '⚓', ':anger_symbol:': '💢', ':angry_face:': '😠', ':angry_face_with_horns:': '👿', ':anguished_face:': '😧', ':ant:': '🐜', ':antenna_bars:': '📶', ':anticlockwise_arrows_button:': '🔄', ':articulated_lorry:': '🚛', ':artist_palette:': '🎨', ':astonished_face:': '😲', ':atom_symbol:': '⚛', ':automobile:': '🚗', ':avocado:': '🥑', ':baby:': '👶', ':baby_angel:': '👼', ':baby_angel_dark_skin_tone:': '👼 🏿', ':baby_angel_light_skin_tone:': '👼 🏻', ':baby_angel_medium-dark_skin_tone:': '👼 🏾', ':baby_angel_medium-light_skin_tone:': '👼 🏼', ':baby_angel_medium_skin_tone:': '👼 🏽', ':baby_bottle:': '🍼', ':baby_chick:': '🐤', ':baby_dark_skin_tone:': '👶 🏿', ':baby_light_skin_tone:': '👶 🏻', ':baby_medium-dark_skin_tone:': '👶 🏾', ':baby_medium-light_skin_tone:': '👶 🏼', ':baby_medium_skin_tone:': '👶 🏽', ':baby_symbol:': '🚼', ':backhand_index_pointing_down:': '👇', ':backhand_index_pointing_down_dark_skin_tone:': '👇 🏿', ':backhand_index_pointing_down_light_skin_tone:': '👇 🏻', ':backhand_index_pointing_down_medium-dark_skin_tone:': '👇 🏾', ':backhand_index_pointing_down_medium-light_skin_tone:': '👇 🏼', ':backhand_index_pointing_down_medium_skin_tone:': '👇 🏽', ':backhand_index_pointing_left:': '👈', ':backhand_index_pointing_left_dark_skin_tone:': '👈 🏿', ':backhand_index_pointing_left_light_skin_tone:': '👈 🏻', ':backhand_index_pointing_left_medium-dark_skin_tone:': '👈 🏾', ':backhand_index_pointing_left_medium-light_skin_tone:': '👈 🏼', ':backhand_index_pointing_left_medium_skin_tone:': '👈 🏽', ':backhand_index_pointing_right:': '👉', ':backhand_index_pointing_right_dark_skin_tone:': '👉 🏿', ':backhand_index_pointing_right_light_skin_tone:': '👉 🏻', ':backhand_index_pointing_right_medium-dark_skin_tone:': '👉 🏾', ':backhand_index_pointing_right_medium-light_skin_tone:': '👉 🏼', ':backhand_index_pointing_right_medium_skin_tone:': '👉 🏽', ':backhand_index_pointing_up:': '👆', ':backhand_index_pointing_up_dark_skin_tone:': '👆 🏿', ':backhand_index_pointing_up_light_skin_tone:': '👆 🏻', ':backhand_index_pointing_up_medium-dark_skin_tone:': '👆 🏾', ':backhand_index_pointing_up_medium-light_skin_tone:': '👆 🏼', ':backhand_index_pointing_up_medium_skin_tone:': '👆 🏽', ':bacon:': '🥓', ':badminton:': '🏸', ':baggage_claim:': '🛄', ':baguette_bread:': '🥖', ':balance_scale:': '⚖', ':balloon:': '🎈', ':ballot_box_with_ballot:': '🗳', ':ballot_box_with_check:': '☑', ':banana:': '🍌', ':bank:': '🏦', ':bar_chart:': '📊', ':barber_pole:': '💈', ':baseball:': '⚾', ':basketball:': '🏀', ':bat:': '🦇', ':bathtub:': '🛁', ':battery:': '🔋', ':beach_with_umbrella:': '🏖', ':bear_face:': '🐻', ':beating_heart:': '💓', ':bed:': '🛏', ':beer_mug:': '🍺', ':bell:': '🔔', ':bell_with_slash:': '🔕', ':bellhop_bell:': '🛎', ':bento_box:': '🍱', ':bicycle:': '🚲', ':bikini:': '👙', ':biohazard:': '☣', ':bird:': '🐦', ':birthday_cake:': '🎂', ':black_circle:': '⚫', ':black_flag:': '🏴', ':black_heart:': '🖤', ':black_large_square:': '⬛', ':black_medium-small_square:': '◾', ':black_medium_square:': '◼', ':black_nib:': '✒', ':black_small_square:': '▪', ':black_square_button:': '🔲', ':blond-haired_man:': '👱 \\u200d ♂ ️', ':blond-haired_man_dark_skin_tone:': '👱 🏿 \\u200d ♂ ️', ':blond-haired_man_light_skin_tone:': '👱 🏻 \\u200d ♂ ️', ':blond-haired_man_medium-dark_skin_tone:': '👱 🏾 \\u200d ♂ ️', ':blond-haired_man_medium-light_skin_tone:': '👱 🏼 \\u200d ♂ ️', ':blond-haired_man_medium_skin_tone:': '👱 🏽 \\u200d ♂ ️', ':blond-haired_person:': '👱', ':blond-haired_person_dark_skin_tone:': '👱 🏿', ':blond-haired_person_light_skin_tone:': '👱 🏻', ':blond-haired_person_medium-dark_skin_tone:': '👱 🏾', ':blond-haired_person_medium-light_skin_tone:': '👱 🏼', ':blond-haired_person_medium_skin_tone:': '👱 🏽', ':blond-haired_woman:': '👱 \\u200d ♀ ️', ':blond-haired_woman_dark_skin_tone:': '👱 🏿 \\u200d ♀ ️', ':blond-haired_woman_light_skin_tone:': '👱 🏻 \\u200d ♀ ️', ':blond-haired_woman_medium-dark_skin_tone:': '👱 🏾 \\u200d ♀ ️', ':blond-haired_woman_medium-light_skin_tone:': '👱 🏼 \\u200d ♀ ️', ':blond-haired_woman_medium_skin_tone:': '👱 🏽 \\u200d ♀ ️', ':blossom:': '🌼', ':blowfish:': '🐡', ':blue_book:': '📘', ':blue_circle:': '🔵', ':blue_heart:': '💙', ':boar:': '🐗', ':bomb:': '💣', ':bookmark:': '🔖', ':bookmark_tabs:': '📑', ':books:': '📚', ':bottle_with_popping_cork:': '🍾', ':bouquet:': '💐', ':bow_and_arrow:': '🏹', ':bowling:': '🎳', ':boxing_glove:': '🥊', ':boy:': '👦', ':boy_dark_skin_tone:': '👦 🏿', ':boy_light_skin_tone:': '👦 🏻', ':boy_medium-dark_skin_tone:': '👦 🏾', ':boy_medium-light_skin_tone:': '👦 🏼', ':boy_medium_skin_tone:': '👦 🏽', ':bread:': '🍞', ':bride_with_veil:': '👰', ':bride_with_veil_dark_skin_tone:': '👰 🏿', ':bride_with_veil_light_skin_tone:': '👰 🏻', ':bride_with_veil_medium-dark_skin_tone:': '👰 🏾', ':bride_with_veil_medium-light_skin_tone:': '👰 🏼', ':bride_with_veil_medium_skin_tone:': '👰 🏽', ':bridge_at_night:': '🌉', ':briefcase:': '💼', ':bright_button:': '🔆', ':broken_heart:': '💔', ':bug:': '🐛', ':building_construction:': '🏗', ':burrito:': '🌯', ':bus:': '🚌', ':bus_stop:': '🚏', ':bust_in_silhouette:': '👤', ':busts_in_silhouette:': '👥', ':butterfly:': '🦋', ':cactus:': '🌵', ':calendar:': '📅', ':call_me_hand:': '🤙', ':call_me_hand_dark_skin_tone:': '🤙 🏿', ':call_me_hand_light_skin_tone:': '🤙 🏻', ':call_me_hand_medium-dark_skin_tone:': '🤙 🏾', ':call_me_hand_medium-light_skin_tone:': '🤙 🏼', ':call_me_hand_medium_skin_tone:': '🤙 🏽', ':camel:': '🐪', ':camera:': '📷', ':camera_with_flash:': '📸', ':camping:': '🏕', ':candle:': '🕯', ':candy:': '🍬', ':canoe:': '🛶', ':card_file_box:': '🗃', ':card_index:': '📇', ':card_index_dividers:': '🗂', ':carousel_horse:': '🎠', ':carp_streamer:': '🎏', ':carrot:': '🥕', ':castle:': '🏰', ':cat:': '🐈', ':cat_face:': '🐱', ':cat_face_with_tears_of_joy:': '😹', ':cat_face_with_wry_smile:': '😼', ':chains:': '⛓', ':chart_decreasing:': '📉', ':chart_increasing:': '📈', ':chart_increasing_with_yen:': '💹', ':cheese_wedge:': '🧀', ':chequered_flag:': '🏁', ':cherries:': '🍒', ':cherry_blossom:': '🌸', ':chestnut:': '🌰', ':chicken:': '🐔', ':children_crossing:': '🚸', ':chipmunk:': '🐿', ':chocolate_bar:': '🍫', ':church:': '⛪', ':cigarette:': '🚬', ':cinema:': '🎦', ':circled_M:': 'Ⓜ', ':circus_tent:': '🎪', ':cityscape:': '🏙', ':cityscape_at_dusk:': '🌆', ':clamp:': '🗜', ':clapper_board:': '🎬', ':clapping_hands:': '👏', ':clapping_hands_dark_skin_tone:': '👏 🏿', ':clapping_hands_light_skin_tone:': '👏 🏻', ':clapping_hands_medium-dark_skin_tone:': '👏 🏾', ':clapping_hands_medium-light_skin_tone:': '👏 🏼', ':clapping_hands_medium_skin_tone:': '👏 🏽', ':classical_building:': '🏛', ':clinking_beer_mugs:': '🍻', ':clinking_glasses:': '🥂', ':clipboard:': '📋', ':clockwise_vertical_arrows:': '🔃', ':closed_book:': '📕', ':closed_mailbox_with_lowered_flag:': '📪', ':closed_mailbox_with_raised_flag:': '📫', ':closed_umbrella:': '🌂', ':cloud:': '☁', ':cloud_with_lightning:': '🌩', ':cloud_with_lightning_and_rain:': '⛈', ':cloud_with_rain:': '🌧', ':cloud_with_snow:': '🌨', ':clown_face:': '🤡', ':club_suit:': '♣', ':clutch_bag:': '👝', ':cocktail_glass:': '🍸', ':coffin:': '⚰', ':collision:': '💥', ':comet:': '☄', ':computer_disk:': '💽', ':computer_mouse:': '🖱', ':confetti_ball:': '🎊', ':confounded_face:': '😖', ':confused_face:': '😕', ':construction:': '🚧', ':construction_worker:': '👷', ':construction_worker_dark_skin_tone:': '👷 🏿', ':construction_worker_light_skin_tone:': '👷 🏻', ':construction_worker_medium-dark_skin_tone:': '👷 🏾', ':construction_worker_medium-light_skin_tone:': '👷 🏼', ':construction_worker_medium_skin_tone:': '👷 🏽', ':control_knobs:': '🎛', ':convenience_store:': '🏪', ':cooked_rice:': '🍚', ':cookie:': '🍪', ':cooking:': '🍳', ':copyright:': '©', ':couch_and_lamp:': '🛋', ':couple_with_heart:': '💑', ':couple_with_heart_man_man:': '👨 \\u200d ❤ ️ \\u200d 👨', ':couple_with_heart_woman_man:': '👩 \\u200d ❤ ️ \\u200d 👨', ':couple_with_heart_woman_woman:': '👩 \\u200d ❤ ️ \\u200d 👩', ':cow:': '🐄', ':cow_face:': '🐮', ':cowboy_hat_face:': '🤠', ':crab:': '🦀', ':crayon:': '🖍', ':credit_card:': '💳', ':crescent_moon:': '🌙', ':cricket:': '🏏', ':crocodile:': '🐊', ':croissant:': '🥐', ':cross_mark:': '❌', ':cross_mark_button:': '❎', ':crossed_fingers:': '🤞', ':crossed_fingers_dark_skin_tone:': '🤞 🏿', ':crossed_fingers_light_skin_tone:': '🤞 🏻', ':crossed_fingers_medium-dark_skin_tone:': '🤞 🏾', ':crossed_fingers_medium-light_skin_tone:': '🤞 🏼', ':crossed_fingers_medium_skin_tone:': '🤞 🏽', ':crossed_flags:': '🎌', ':crossed_swords:': '⚔', ':crown:': '👑', ':crying_cat_face:': '😿', ':crying_face:': '😢', ':crystal_ball:': '🔮', ':cucumber:': '🥒', ':curly_loop:': '➰', ':currency_exchange:': '💱', ':curry_rice:': '🍛', ':custard:': '🍮', ':customs:': '🛃', ':cyclone:': '🌀', ':dagger:': '🗡', ':dango:': '🍡', ':dark_skin_tone:': '🏿', ':dashing_away:': '💨', ':deciduous_tree:': '🌳', ':deer:': '🦌', ':delivery_truck:': '🚚', ':department_store:': '🏬', ':derelict_house:': '🏚', ':desert:': '🏜', ':desert_island:': '🏝', ':desktop_computer:': '🖥', ':detective:': '🕵', ':detective_dark_skin_tone:': '🕵 🏿', ':detective_light_skin_tone:': '🕵 🏻', ':detective_medium-dark_skin_tone:': '🕵 🏾', ':detective_medium-light_skin_tone:': '🕵 🏼', ':detective_medium_skin_tone:': '🕵 🏽', ':diamond_suit:': '♦', ':diamond_with_a_dot:': '💠', ':dim_button:': '🔅', ':direct_hit:': '🎯', ':disappointed_but_relieved_face:': '😥', ':disappointed_face:': '😞', ':dizzy:': '💫', ':dizzy_face:': '😵', ':dog:': '🐕', ':dog_face:': '🐶', ':dollar_banknote:': '💵', ':dolphin:': '🐬', ':door:': '🚪', ':dotted_six-pointed_star:': '🔯', ':double_curly_loop:': '➿', ':double_exclamation_mark:': '‼', ':doughnut:': '🍩', ':dove:': '🕊', ':down-left_arrow:': '↙', ':down-right_arrow:': '↘', ':down_arrow:': '⬇', ':down_button:': '🔽', ':dragon:': '🐉', ':dragon_face:': '🐲', ':dress:': '👗', ':drooling_face:': '🤤', ':droplet:': '💧', ':drum:': '🥁', ':duck:': '🦆', ':dvd:': '📀', ':e-mail:': '📧', ':eagle:': '🦅', ':ear:': '👂', ':ear_dark_skin_tone:': '👂 🏿', ':ear_light_skin_tone:': '👂 🏻', ':ear_medium-dark_skin_tone:': '👂 🏾', ':ear_medium-light_skin_tone:': '👂 🏼', ':ear_medium_skin_tone:': '👂 🏽', ':ear_of_corn:': '🌽', ':egg:': '🥚', ':eggplant:': '🍆', ':eight-pointed_star:': '✴', ':eight-spoked_asterisk:': '✳', ':eight-thirty:': '🕣', ':eight_o’clock:': '🕗', ':eject_button:': '⏏', ':electric_plug:': '🔌', ':elephant:': '🐘', ':eleven-thirty:': '🕦', ':eleven_o’clock:': '🕚', ':envelope:': '✉', ':envelope_with_arrow:': '📩', ':euro_banknote:': '💶', ':evergreen_tree:': '🌲', ':exclamation_mark:': '❗', ':exclamation_question_mark:': '⁉', ':expressionless_face:': '😑', ':eye:': '👁', ':eye_in_speech_bubble:': '👁 ️ \\u200d 🗨 ️', ':eyes:': '👀', ':face_blowing_a_kiss:': '😘', ':face_savouring_delicious_food:': '😋', ':face_screaming_in_fear:': '😱', ':face_with_cold_sweat:': '😓', ':face_with_head-bandage:': '🤕', ':face_with_medical_mask:': '😷', ':face_with_open_mouth:': '😮', ':face_with_open_mouth_&_cold_sweat:': '😰', ':face_with_rolling_eyes:': '🙄', ':face_with_steam_from_nose:': '😤', ':face_with_stuck-out_tongue:': '😛', ':face_with_stuck-out_tongue_&_closed_eyes:': '😝', ':face_with_stuck-out_tongue_&_winking_eye:': '😜', ':face_with_tears_of_joy:': '😂', ':face_with_thermometer:': '🤒', ':face_without_mouth:': '😶', ':factory:': '🏭', ':fallen_leaf:': '🍂', ':family:': '👪', ':family_man_boy:': '👨 \\u200d 👦', ':family_man_boy_boy:': '👨 \\u200d 👦 \\u200d 👦', ':family_man_girl:': '👨 \\u200d 👧', ':family_man_girl_boy:': '👨 \\u200d 👧 \\u200d 👦', ':family_man_girl_girl:': '👨 \\u200d 👧 \\u200d 👧', ':family_man_man_boy:': '👨 \\u200d 👨 \\u200d 👦', ':family_man_man_boy_boy:': '👨 \\u200d 👨 \\u200d 👦 \\u200d 👦', ':family_man_man_girl:': '👨 \\u200d 👨 \\u200d 👧', ':family_man_man_girl_boy:': '👨 \\u200d 👨 \\u200d 👧 \\u200d 👦', ':family_man_man_girl_girl:': '👨 \\u200d 👨 \\u200d 👧 \\u200d 👧', ':family_man_woman_boy:': '👨 \\u200d 👩 \\u200d 👦', ':family_man_woman_boy_boy:': '👨 \\u200d 👩 \\u200d 👦 \\u200d 👦', ':family_man_woman_girl:': '👨 \\u200d 👩 \\u200d 👧', ':family_man_woman_girl_boy:': '👨 \\u200d 👩 \\u200d 👧 \\u200d 👦', ':family_man_woman_girl_girl:': '👨 \\u200d 👩 \\u200d 👧 \\u200d 👧', ':family_woman_boy:': '👩 \\u200d 👦', ':family_woman_boy_boy:': '👩 \\u200d 👦 \\u200d 👦', ':family_woman_girl:': '👩 \\u200d 👧', ':family_woman_girl_boy:': '👩 \\u200d 👧 \\u200d 👦', ':family_woman_girl_girl:': '👩 \\u200d 👧 \\u200d 👧', ':family_woman_woman_boy:': '👩 \\u200d 👩 \\u200d 👦', ':family_woman_woman_boy_boy:': '👩 \\u200d 👩 \\u200d 👦 \\u200d 👦', ':family_woman_woman_girl:': '👩 \\u200d 👩 \\u200d 👧', ':family_woman_woman_girl_boy:': '👩 \\u200d 👩 \\u200d 👧 \\u200d 👦', ':family_woman_woman_girl_girl:': '👩 \\u200d 👩 \\u200d 👧 \\u200d 👧', ':fast-forward_button:': '⏩', ':fast_down_button:': '⏬', ':fast_reverse_button:': '⏪', ':fast_up_button:': '⏫', ':fax_machine:': '📠', ':fearful_face:': '😨', ':female_sign:': '♀', ':ferris_wheel:': '🎡', ':ferry:': '⛴', ':field_hockey:': '🏑', ':file_cabinet:': '🗄', ':file_folder:': '📁', ':film_frames:': '🎞', ':film_projector:': '📽', ':fire:': '🔥', ':fire_engine:': '🚒', ':fireworks:': '🎆', ':first_quarter_moon:': '🌓', ':first_quarter_moon_with_face:': '🌛', ':fish:': '🐟', ':fish_cake_with_swirl:': '🍥', ':fishing_pole:': '🎣', ':five-thirty:': '🕠', ':five_o’clock:': '🕔', ':flag_in_hole:': '⛳', ':flashlight:': '🔦', ':fleur-de-lis:': '⚜', ':flexed_biceps:': '💪', ':flexed_biceps_dark_skin_tone:': '💪 🏿', ':flexed_biceps_light_skin_tone:': '💪 🏻', ':flexed_biceps_medium-dark_skin_tone:': '💪 🏾', ':flexed_biceps_medium-light_skin_tone:': '💪 🏼', ':flexed_biceps_medium_skin_tone:': '💪 🏽', ':floppy_disk:': '💾', ':flower_playing_cards:': '🎴', ':flushed_face:': '😳', ':fog:': '🌫', ':foggy:': '🌁', ':folded_hands:': '🙏', ':folded_hands_dark_skin_tone:': '🙏 🏿', ':folded_hands_light_skin_tone:': '🙏 🏻', ':folded_hands_medium-dark_skin_tone:': '🙏 🏾', ':folded_hands_medium-light_skin_tone:': '🙏 🏼', ':folded_hands_medium_skin_tone:': '🙏 🏽', ':footprints:': '👣', ':fork_and_knife:': '🍴', ':fork_and_knife_with_plate:': '🍽', ':fountain:': '⛲', ':fountain_pen:': '🖋', ':four-thirty:': '🕟', ':four_leaf_clover:': '🍀', ':four_o’clock:': '🕓', ':fox_face:': '🦊', ':framed_picture:': '🖼', ':french_fries:': '🍟', ':fried_shrimp:': '🍤', ':frog_face:': '🐸', ':front-facing_baby_chick:': '🐥', ':frowning_face:': '☹', ':frowning_face_with_open_mouth:': '😦', ':fuel_pump:': '⛽', ':full_moon:': '🌕', ':full_moon_with_face:': '🌝', ':funeral_urn:': '⚱', ':game_die:': '🎲', ':gear:': '⚙', ':gem_stone:': '💎', ':ghost:': '👻', ':girl:': '👧', ':girl_dark_skin_tone:': '👧 🏿', ':girl_light_skin_tone:': '👧 🏻', ':girl_medium-dark_skin_tone:': '👧 🏾', ':girl_medium-light_skin_tone:': '👧 🏼', ':girl_medium_skin_tone:': '👧 🏽', ':glass_of_milk:': '🥛', ':glasses:': '👓', ':globe_showing_Americas:': '🌎', ':globe_showing_Asia-Australia:': '🌏', ':globe_showing_Europe-Africa:': '🌍', ':globe_with_meridians:': '🌐', ':glowing_star:': '🌟', ':goal_net:': '🥅', ':goat:': '🐐', ':goblin:': '👺', ':gorilla:': '🦍', ':graduation_cap:': '🎓', ':grapes:': '🍇', ':green_apple:': '🍏', ':green_book:': '📗', ':green_heart:': '💚', ':green_salad:': '🥗', ':grimacing_face:': '😬', ':grinning_cat_face_with_smiling_eyes:': '😸', ':grinning_face:': '😀', ':grinning_face_with_smiling_eyes:': '😁', ':growing_heart:': '💗', ':guard:': '💂', ':guard_dark_skin_tone:': '💂 🏿', ':guard_light_skin_tone:': '💂 🏻', ':guard_medium-dark_skin_tone:': '💂 🏾', ':guard_medium-light_skin_tone:': '💂 🏼', ':guard_medium_skin_tone:': '💂 🏽', ':guitar:': '🎸', ':hamburger:': '🍔', ':hammer:': '🔨', ':hammer_and_pick:': '⚒', ':hammer_and_wrench:': '🛠', ':hamster_face:': '🐹', ':handbag:': '👜', ':handshake:': '🤝', ':hatching_chick:': '🐣', ':headphone:': '🎧', ':hear-no-evil_monkey:': '🙉', ':heart_decoration:': '💟', ':heart_suit:': '♥', ':heart_with_arrow:': '💘', ':heart_with_ribbon:': '💝', ':heavy_check_mark:': '✔', ':heavy_division_sign:': '➗', ':heavy_dollar_sign:': '💲', ':heavy_heart_exclamation:': '❣', ':heavy_large_circle:': '⭕', ':heavy_minus_sign:': '➖', ':heavy_multiplication_x:': '✖', ':heavy_plus_sign:': '➕', ':helicopter:': '🚁', ':herb:': '🌿', ':hibiscus:': '🌺', ':high-heeled_shoe:': '👠', ':high-speed_train:': '🚄', ':high-speed_train_with_bullet_nose:': '🚅', ':high_voltage:': '⚡', ':hole:': '🕳', ':honey_pot:': '🍯', ':honeybee:': '🐝', ':horizontal_traffic_light:': '🚥', ':horse:': '🐎', ':horse_face:': '🐴', ':horse_racing:': '🏇', ':horse_racing_dark_skin_tone:': '🏇 🏿', ':horse_racing_light_skin_tone:': '🏇 🏻', ':horse_racing_medium-dark_skin_tone:': '🏇 🏾', ':horse_racing_medium-light_skin_tone:': '🏇 🏼', ':horse_racing_medium_skin_tone:': '🏇 🏽', ':hospital:': '🏥', ':hot_beverage:': '☕', ':hot_dog:': '🌭', ':hot_pepper:': '🌶', ':hot_springs:': '♨', ':hotel:': '🏨', ':hourglass:': '⌛', ':hourglass_with_flowing_sand:': '⏳', ':house:': '🏠', ':house_with_garden:': '🏡', ':hugging_face:': '🤗', ':hundred_points:': '💯', ':hushed_face:': '😯', ':ice_cream:': '🍨', ':ice_hockey:': '🏒', ':ice_skate:': '⛸', ':inbox_tray:': '📥', ':incoming_envelope:': '📨', ':index_pointing_up:': '☝', ':index_pointing_up_dark_skin_tone:': '☝ 🏿', ':index_pointing_up_light_skin_tone:': '☝ 🏻', ':index_pointing_up_medium-dark_skin_tone:': '☝ 🏾', ':index_pointing_up_medium-light_skin_tone:': '☝ 🏼', ':index_pointing_up_medium_skin_tone:': '☝ 🏽', ':information:': 'ℹ', ':input_latin_letters:': '🔤', ':input_latin_lowercase:': '🔡', ':input_latin_uppercase:': '🔠', ':input_numbers:': '🔢', ':input_symbols:': '🔣', ':jack-o-lantern:': '🎃', ':jeans:': '👖', ':joker:': '🃏', ':joystick:': '🕹', ':kaaba:': '🕋', ':key:': '🔑', ':keyboard:': '⌨', ':keycap_#:': '# ️ ⃣', ':keycap_0:': '0 ️ ⃣', ':keycap_1:': '1 ️ ⃣', ':keycap_10:': '🔟', ':keycap_2:': '2 ️ ⃣', ':keycap_3:': '3 ️ ⃣', ':keycap_4:': '4 ️ ⃣', ':keycap_5:': '5 ️ ⃣', ':keycap_6:': '6 ️ ⃣', ':keycap_7:': '7 ️ ⃣', ':keycap_8:': '8 ️ ⃣', ':keycap_9:': '9 ️ ⃣', ':kick_scooter:': '🛴', ':kimono:': '👘', ':kiss:': '💏', ':kiss_man_man:': '👨 \\u200d ❤ ️ \\u200d 💋 \\u200d 👨', ':kiss_mark:': '💋', ':kiss_woman_man:': '👩 \\u200d ❤ ️ \\u200d 💋 \\u200d 👨', ':kiss_woman_woman:': '👩 \\u200d ❤ ️ \\u200d 💋 \\u200d 👩', ':kissing_cat_face_with_closed_eyes:': '😽', ':kissing_face:': '😗', ':kissing_face_with_closed_eyes:': '😚', ':kissing_face_with_smiling_eyes:': '😙', ':kitchen_knife:': '🔪', ':kiwi_fruit:': '🥝', ':koala:': '🐨', ':label:': '🏷', ':lady_beetle:': '🐞', ':laptop_computer:': '💻', ':large_blue_diamond:': '🔷', ':large_orange_diamond:': '🔶', ':last_quarter_moon:': '🌗', ':last_quarter_moon_with_face:': '🌜', ':last_track_button:': '⏮', ':latin_cross:': '✝', ':leaf_fluttering_in_wind:': '🍃', ':ledger:': '📒', ':left-facing_fist:': '🤛', ':left-facing_fist_dark_skin_tone:': '🤛 🏿', ':left-facing_fist_light_skin_tone:': '🤛 🏻', ':left-facing_fist_medium-dark_skin_tone:': '🤛 🏾', ':left-facing_fist_medium-light_skin_tone:': '🤛 🏼', ':left-facing_fist_medium_skin_tone:': '🤛 🏽', ':left-pointing_magnifying_glass:': '🔍', ':left-right_arrow:': '↔', ':left_arrow:': '⬅', ':left_arrow_curving_right:': '↪', ':left_luggage:': '🛅', ':left_speech_bubble:': '🗨', ':lemon:': '🍋', ':leopard:': '🐆', ':level_slider:': '🎚', ':light_bulb:': '💡', ':light_rail:': '🚈', ':light_skin_tone:': '🏻', ':link:': '🔗', ':linked_paperclips:': '🖇', ':lion_face:': '🦁', ':lipstick:': '💄', ':litter_in_bin_sign:': '🚮', ':lizard:': '🦎', ':locked:': '🔒', ':locked_with_key:': '🔐', ':locked_with_pen:': '🔏', ':locomotive:': '🚂', ':lollipop:': '🍭', ':loudly_crying_face:': '😭', ':loudspeaker:': '📢', ':love_hotel:': '🏩', ':love_letter:': '💌', ':lying_face:': '🤥', ':mahjong_red_dragon:': '🀄', ':male_sign:': '♂', ':man:': '👨', ':man_and_woman_holding_hands:': '👫', ':man_artist:': '👨 \\u200d 🎨', ':man_artist_dark_skin_tone:': '👨 🏿 \\u200d 🎨', ':man_artist_light_skin_tone:': '👨 🏻 \\u200d 🎨', ':man_artist_medium-dark_skin_tone:': '👨 🏾 \\u200d 🎨', ':man_artist_medium-light_skin_tone:': '👨 🏼 \\u200d 🎨', ':man_artist_medium_skin_tone:': '👨 🏽 \\u200d 🎨', ':man_astronaut:': '👨 \\u200d 🚀', ':man_astronaut_dark_skin_tone:': '👨 🏿 \\u200d 🚀', ':man_astronaut_light_skin_tone:': '👨 🏻 \\u200d 🚀', ':man_astronaut_medium-dark_skin_tone:': '👨 🏾 \\u200d 🚀', ':man_astronaut_medium-light_skin_tone:': '👨 🏼 \\u200d 🚀', ':man_astronaut_medium_skin_tone:': '👨 🏽 \\u200d 🚀', ':man_biking:': '🚴 \\u200d ♂ ️', ':man_biking_dark_skin_tone:': '🚴 🏿 \\u200d ♂ ️', ':man_biking_light_skin_tone:': '🚴 🏻 \\u200d ♂ ️', ':man_biking_medium-dark_skin_tone:': '🚴 🏾 \\u200d ♂ ️', ':man_biking_medium-light_skin_tone:': '🚴 🏼 \\u200d ♂ ️', ':man_biking_medium_skin_tone:': '🚴 🏽 \\u200d ♂ ️', ':man_bouncing_ball:': '⛹ ️ \\u200d ♂ ️', ':man_bouncing_ball_dark_skin_tone:': '⛹ 🏿 \\u200d ♂ ️', ':man_bouncing_ball_light_skin_tone:': '⛹ 🏻 \\u200d ♂ ️', ':man_bouncing_ball_medium-dark_skin_tone:': '⛹ 🏾 \\u200d ♂ ️', ':man_bouncing_ball_medium-light_skin_tone:': '⛹ 🏼 \\u200d ♂ ️', ':man_bouncing_ball_medium_skin_tone:': '⛹ 🏽 \\u200d ♂ ️', ':man_bowing:': '🙇 \\u200d ♂ ️', ':man_bowing_dark_skin_tone:': '🙇 🏿 \\u200d ♂ ️', ':man_bowing_light_skin_tone:': '🙇 🏻 \\u200d ♂ ️', ':man_bowing_medium-dark_skin_tone:': '🙇 🏾 \\u200d ♂ ️', ':man_bowing_medium-light_skin_tone:': '🙇 🏼 \\u200d ♂ ️', ':man_bowing_medium_skin_tone:': '🙇 🏽 \\u200d ♂ ️', ':man_cartwheeling:': '🤸 \\u200d ♂ ️', ':man_cartwheeling_dark_skin_tone:': '🤸 🏿 \\u200d ♂ ️', ':man_cartwheeling_light_skin_tone:': '🤸 🏻 \\u200d ♂ ️', ':man_cartwheeling_medium-dark_skin_tone:': '🤸 🏾 \\u200d ♂ ️', ':man_cartwheeling_medium-light_skin_tone:': '🤸 🏼 \\u200d ♂ ️', ':man_cartwheeling_medium_skin_tone:': '🤸 🏽 \\u200d ♂ ️', ':man_construction_worker:': '👷 \\u200d ♂ ️', ':man_construction_worker_dark_skin_tone:': '👷 🏿 \\u200d ♂ ️', ':man_construction_worker_light_skin_tone:': '👷 🏻 \\u200d ♂ ️', ':man_construction_worker_medium-dark_skin_tone:': '👷 🏾 \\u200d ♂ ️', ':man_construction_worker_medium-light_skin_tone:': '👷 🏼 \\u200d ♂ ️', ':man_construction_worker_medium_skin_tone:': '👷 🏽 \\u200d ♂ ️', ':man_cook:': '👨 \\u200d 🍳', ':man_cook_dark_skin_tone:': '👨 🏿 \\u200d 🍳', ':man_cook_light_skin_tone:': '👨 🏻 \\u200d 🍳', ':man_cook_medium-dark_skin_tone:': '👨 🏾 \\u200d 🍳', ':man_cook_medium-light_skin_tone:': '👨 🏼 \\u200d 🍳', ':man_cook_medium_skin_tone:': '👨 🏽 \\u200d 🍳', ':man_dancing:': '🕺', ':man_dancing_dark_skin_tone:': '🕺 🏿', ':man_dancing_light_skin_tone:': '🕺 🏻', ':man_dancing_medium-dark_skin_tone:': '🕺 🏾', ':man_dancing_medium-light_skin_tone:': '🕺 🏼', ':man_dancing_medium_skin_tone:': '🕺 🏽', ':man_dark_skin_tone:': '👨 🏿', ':man_detective:': '🕵 ️ \\u200d ♂ ️', ':man_detective_dark_skin_tone:': '🕵 🏿 \\u200d ♂ ️', ':man_detective_light_skin_tone:': '🕵 🏻 \\u200d ♂ ️', ':man_detective_medium-dark_skin_tone:': '🕵 🏾 \\u200d ♂ ️', ':man_detective_medium-light_skin_tone:': '🕵 🏼 \\u200d ♂ ️', ':man_detective_medium_skin_tone:': '🕵 🏽 \\u200d ♂ ️', ':man_facepalming:': '🤦 \\u200d ♂ ️', ':man_facepalming_dark_skin_tone:': '🤦 🏿 \\u200d ♂ ️', ':man_facepalming_light_skin_tone:': '🤦 🏻 \\u200d ♂ ️', ':man_facepalming_medium-dark_skin_tone:': '🤦 🏾 \\u200d ♂ ️', ':man_facepalming_medium-light_skin_tone:': '🤦 🏼 \\u200d ♂ ️', ':man_facepalming_medium_skin_tone:': '🤦 🏽 \\u200d ♂ ️', ':man_factory_worker:': '👨 \\u200d 🏭', ':man_factory_worker_dark_skin_tone:': '👨 🏿 \\u200d 🏭', ':man_factory_worker_light_skin_tone:': '👨 🏻 \\u200d 🏭', ':man_factory_worker_medium-dark_skin_tone:': '👨 🏾 \\u200d 🏭', ':man_factory_worker_medium-light_skin_tone:': '👨 🏼 \\u200d 🏭', ':man_factory_worker_medium_skin_tone:': '👨 🏽 \\u200d 🏭', ':man_farmer:': '👨 \\u200d 🌾', ':man_farmer_dark_skin_tone:': '👨 🏿 \\u200d 🌾', ':man_farmer_light_skin_tone:': '👨 🏻 \\u200d 🌾', ':man_farmer_medium-dark_skin_tone:': '👨 🏾 \\u200d 🌾', ':man_farmer_medium-light_skin_tone:': '👨 🏼 \\u200d 🌾', ':man_farmer_medium_skin_tone:': '👨 🏽 \\u200d 🌾', ':man_firefighter:': '👨 \\u200d 🚒', ':man_firefighter_dark_skin_tone:': '👨 🏿 \\u200d 🚒', ':man_firefighter_light_skin_tone:': '👨 🏻 \\u200d 🚒', ':man_firefighter_medium-dark_skin_tone:': '👨 🏾 \\u200d 🚒', ':man_firefighter_medium-light_skin_tone:': '👨 🏼 \\u200d 🚒', ':man_firefighter_medium_skin_tone:': '👨 🏽 \\u200d 🚒', ':man_frowning:': '🙍 \\u200d ♂ ️', ':man_frowning_dark_skin_tone:': '🙍 🏿 \\u200d ♂ ️', ':man_frowning_light_skin_tone:': '🙍 🏻 \\u200d ♂ ️', ':man_frowning_medium-dark_skin_tone:': '🙍 🏾 \\u200d ♂ ️', ':man_frowning_medium-light_skin_tone:': '🙍 🏼 \\u200d ♂ ️', ':man_frowning_medium_skin_tone:': '🙍 🏽 \\u200d ♂ ️', ':man_gesturing_NO:': '🙅 \\u200d ♂ ️', ':man_gesturing_NO_dark_skin_tone:': '🙅 🏿 \\u200d ♂ ️', ':man_gesturing_NO_light_skin_tone:': '🙅 🏻 \\u200d ♂ ️', ':man_gesturing_NO_medium-dark_skin_tone:': '🙅 🏾 \\u200d ♂ ️', ':man_gesturing_NO_medium-light_skin_tone:': '🙅 🏼 \\u200d ♂ ️', ':man_gesturing_NO_medium_skin_tone:': '🙅 🏽 \\u200d ♂ ️', ':man_gesturing_OK:': '🙆 \\u200d ♂ ️', ':man_gesturing_OK_dark_skin_tone:': '🙆 🏿 \\u200d ♂ ️', ':man_gesturing_OK_light_skin_tone:': '🙆 🏻 \\u200d ♂ ️', ':man_gesturing_OK_medium-dark_skin_tone:': '🙆 🏾 \\u200d ♂ ️', ':man_gesturing_OK_medium-light_skin_tone:': '🙆 🏼 \\u200d ♂ ️', ':man_gesturing_OK_medium_skin_tone:': '🙆 🏽 \\u200d ♂ ️', ':man_getting_haircut:': '💇 \\u200d ♂ ️', ':man_getting_haircut_dark_skin_tone:': '💇 🏿 \\u200d ♂ ️', ':man_getting_haircut_light_skin_tone:': '💇 🏻 \\u200d ♂ ️', ':man_getting_haircut_medium-dark_skin_tone:': '💇 🏾 \\u200d ♂ ️', ':man_getting_haircut_medium-light_skin_tone:': '💇 🏼 \\u200d ♂ ️', ':man_getting_haircut_medium_skin_tone:': '💇 🏽 \\u200d ♂ ️', ':man_getting_massage:': '💆 \\u200d ♂ ️', ':man_getting_massage_dark_skin_tone:': '💆 🏿 \\u200d ♂ ️', ':man_getting_massage_light_skin_tone:': '💆 🏻 \\u200d ♂ ️', ':man_getting_massage_medium-dark_skin_tone:': '💆 🏾 \\u200d ♂ ️', ':man_getting_massage_medium-light_skin_tone:': '💆 🏼 \\u200d ♂ ️', ':man_getting_massage_medium_skin_tone:': '💆 🏽 \\u200d ♂ ️', ':man_golfing:': '🏌 ️ \\u200d ♂ ️', ':man_golfing_dark_skin_tone:': '🏌 🏿 \\u200d ♂ ️', ':man_golfing_light_skin_tone:': '🏌 🏻 \\u200d ♂ ️', ':man_golfing_medium-dark_skin_tone:': '🏌 🏾 \\u200d ♂ ️', ':man_golfing_medium-light_skin_tone:': '🏌 🏼 \\u200d ♂ ️', ':man_golfing_medium_skin_tone:': '🏌 🏽 \\u200d ♂ ️', ':man_guard:': '💂 \\u200d ♂ ️', ':man_guard_dark_skin_tone:': '💂 🏿 \\u200d ♂ ️', ':man_guard_light_skin_tone:': '💂 🏻 \\u200d ♂ ️', ':man_guard_medium-dark_skin_tone:': '💂 🏾 \\u200d ♂ ️', ':man_guard_medium-light_skin_tone:': '💂 🏼 \\u200d ♂ ️', ':man_guard_medium_skin_tone:': '💂 🏽 \\u200d ♂ ️', ':man_health_worker:': '👨 \\u200d ⚕ ️', ':man_health_worker_dark_skin_tone:': '👨 🏿 \\u200d ⚕ ️', ':man_health_worker_light_skin_tone:': '👨 🏻 \\u200d ⚕ ️', ':man_health_worker_medium-dark_skin_tone:': '👨 🏾 \\u200d ⚕ ️', ':man_health_worker_medium-light_skin_tone:': '👨 🏼 \\u200d ⚕ ️', ':man_health_worker_medium_skin_tone:': '👨 🏽 \\u200d ⚕ ️', ':man_in_business_suit_levitating:': '🕴', ':man_in_business_suit_levitating_dark_skin_tone:': '🕴 🏿', ':man_in_business_suit_levitating_light_skin_tone:': '🕴 🏻', ':man_in_business_suit_levitating_medium-dark_skin_tone:': '🕴 🏾', ':man_in_business_suit_levitating_medium-light_skin_tone:': '🕴 🏼', ':man_in_business_suit_levitating_medium_skin_tone:': '🕴 🏽', ':man_in_tuxedo:': '🤵', ':man_in_tuxedo_dark_skin_tone:': '🤵 🏿', ':man_in_tuxedo_light_skin_tone:': '🤵 🏻', ':man_in_tuxedo_medium-dark_skin_tone:': '🤵 🏾', ':man_in_tuxedo_medium-light_skin_tone:': '🤵 🏼', ':man_in_tuxedo_medium_skin_tone:': '🤵 🏽', ':man_judge:': '👨 \\u200d ⚖ ️', ':man_judge_dark_skin_tone:': '👨 🏿 \\u200d ⚖ ️', ':man_judge_light_skin_tone:': '👨 🏻 \\u200d ⚖ ️', ':man_judge_medium-dark_skin_tone:': '👨 🏾 \\u200d ⚖ ️', ':man_judge_medium-light_skin_tone:': '👨 🏼 \\u200d ⚖ ️', ':man_judge_medium_skin_tone:': '👨 🏽 \\u200d ⚖ ️', ':man_juggling:': '🤹 \\u200d ♂ ️', ':man_juggling_dark_skin_tone:': '🤹 🏿 \\u200d ♂ ️', ':man_juggling_light_skin_tone:': '🤹 🏻 \\u200d ♂ ️', ':man_juggling_medium-dark_skin_tone:': '🤹 🏾 \\u200d ♂ ️', ':man_juggling_medium-light_skin_tone:': '🤹 🏼 \\u200d ♂ ️', ':man_juggling_medium_skin_tone:': '🤹 🏽 \\u200d ♂ ️', ':man_lifting_weights:': '🏋 ️ \\u200d ♂ ️', ':man_lifting_weights_dark_skin_tone:': '🏋 🏿 \\u200d ♂ ️', ':man_lifting_weights_light_skin_tone:': '🏋 🏻 \\u200d ♂ ️', ':man_lifting_weights_medium-dark_skin_tone:': '🏋 🏾 \\u200d ♂ ️', ':man_lifting_weights_medium-light_skin_tone:': '🏋 🏼 \\u200d ♂ ️', ':man_lifting_weights_medium_skin_tone:': '🏋 🏽 \\u200d ♂ ️', ':man_light_skin_tone:': '👨 🏻', ':man_mechanic:': '👨 \\u200d 🔧', ':man_mechanic_dark_skin_tone:': '👨 🏿 \\u200d 🔧', ':man_mechanic_light_skin_tone:': '👨 🏻 \\u200d 🔧', ':man_mechanic_medium-dark_skin_tone:': '👨 🏾 \\u200d 🔧', ':man_mechanic_medium-light_skin_tone:': '👨 🏼 \\u200d 🔧', ':man_mechanic_medium_skin_tone:': '👨 🏽 \\u200d 🔧', ':man_medium-dark_skin_tone:': '👨 🏾', ':man_medium-light_skin_tone:': '👨 🏼', ':man_medium_skin_tone:': '👨 🏽', ':man_mountain_biking:': '🚵 \\u200d ♂ ️', ':man_mountain_biking_dark_skin_tone:': '🚵 🏿 \\u200d ♂ ️', ':man_mountain_biking_light_skin_tone:': '🚵 🏻 \\u200d ♂ ️', ':man_mountain_biking_medium-dark_skin_tone:': '🚵 🏾 \\u200d ♂ ️', ':man_mountain_biking_medium-light_skin_tone:': '🚵 🏼 \\u200d ♂ ️', ':man_mountain_biking_medium_skin_tone:': '🚵 🏽 \\u200d ♂ ️', ':man_office_worker:': '👨 \\u200d 💼', ':man_office_worker_dark_skin_tone:': '👨 🏿 \\u200d 💼', ':man_office_worker_light_skin_tone:': '👨 🏻 \\u200d 💼', ':man_office_worker_medium-dark_skin_tone:': '👨 🏾 \\u200d 💼', ':man_office_worker_medium-light_skin_tone:': '👨 🏼 \\u200d 💼', ':man_office_worker_medium_skin_tone:': '👨 🏽 \\u200d 💼', ':man_pilot:': '👨 \\u200d ✈ ️', ':man_pilot_dark_skin_tone:': '👨 🏿 \\u200d ✈ ️', ':man_pilot_light_skin_tone:': '👨 🏻 \\u200d ✈ ️', ':man_pilot_medium-dark_skin_tone:': '👨 🏾 \\u200d ✈ ️', ':man_pilot_medium-light_skin_tone:': '👨 🏼 \\u200d ✈ ️', ':man_pilot_medium_skin_tone:': '👨 🏽 \\u200d ✈ ️', ':man_playing_handball:': '🤾 \\u200d ♂ ️', ':man_playing_handball_dark_skin_tone:': '🤾 🏿 \\u200d ♂ ️', ':man_playing_handball_light_skin_tone:': '🤾 🏻 \\u200d ♂ ️', ':man_playing_handball_medium-dark_skin_tone:': '🤾 🏾 \\u200d ♂ ️', ':man_playing_handball_medium-light_skin_tone:': '🤾 🏼 \\u200d ♂ ️', ':man_playing_handball_medium_skin_tone:': '🤾 🏽 \\u200d ♂ ️', ':man_playing_water_polo:': '🤽 \\u200d ♂ ️', ':man_playing_water_polo_dark_skin_tone:': '🤽 🏿 \\u200d ♂ ️', ':man_playing_water_polo_light_skin_tone:': '🤽 🏻 \\u200d ♂ ️', ':man_playing_water_polo_medium-dark_skin_tone:': '🤽 🏾 \\u200d ♂ ️', ':man_playing_water_polo_medium-light_skin_tone:': '🤽 🏼 \\u200d ♂ ️', ':man_playing_water_polo_medium_skin_tone:': '🤽 🏽 \\u200d ♂ ️', ':man_police_officer:': '👮 \\u200d ♂ ️', ':man_police_officer_dark_skin_tone:': '👮 🏿 \\u200d ♂ ️', ':man_police_officer_light_skin_tone:': '👮 🏻 \\u200d ♂ ️', ':man_police_officer_medium-dark_skin_tone:': '👮 🏾 \\u200d ♂ ️', ':man_police_officer_medium-light_skin_tone:': '👮 🏼 \\u200d ♂ ️', ':man_police_officer_medium_skin_tone:': '👮 🏽 \\u200d ♂ ️', ':man_pouting:': '🙎 \\u200d ♂ ️', ':man_pouting_dark_skin_tone:': '🙎 🏿 \\u200d ♂ ️', ':man_pouting_light_skin_tone:': '🙎 🏻 \\u200d ♂ ️', ':man_pouting_medium-dark_skin_tone:': '🙎 🏾 \\u200d ♂ ️', ':man_pouting_medium-light_skin_tone:': '🙎 🏼 \\u200d ♂ ️', ':man_pouting_medium_skin_tone:': '🙎 🏽 \\u200d ♂ ️', ':man_raising_hand:': '🙋 \\u200d ♂ ️', ':man_raising_hand_dark_skin_tone:': '🙋 🏿 \\u200d ♂ ️', ':man_raising_hand_light_skin_tone:': '🙋 🏻 \\u200d ♂ ️', ':man_raising_hand_medium-dark_skin_tone:': '🙋 🏾 \\u200d ♂ ️', ':man_raising_hand_medium-light_skin_tone:': '🙋 🏼 \\u200d ♂ ️', ':man_raising_hand_medium_skin_tone:': '🙋 🏽 \\u200d ♂ ️', ':man_rowing_boat:': '🚣 \\u200d ♂ ️', ':man_rowing_boat_dark_skin_tone:': '🚣 🏿 \\u200d ♂ ️', ':man_rowing_boat_light_skin_tone:': '🚣 🏻 \\u200d ♂ ️', ':man_rowing_boat_medium-dark_skin_tone:': '🚣 🏾 \\u200d ♂ ️', ':man_rowing_boat_medium-light_skin_tone:': '🚣 🏼 \\u200d ♂ ️', ':man_rowing_boat_medium_skin_tone:': '🚣 🏽 \\u200d ♂ ️', ':man_running:': '🏃 \\u200d ♂ ️', ':man_running_dark_skin_tone:': '🏃 🏿 \\u200d ♂ ️', ':man_running_light_skin_tone:': '🏃 🏻 \\u200d ♂ ️', ':man_running_medium-dark_skin_tone:': '🏃 🏾 \\u200d ♂ ️', ':man_running_medium-light_skin_tone:': '🏃 🏼 \\u200d ♂ ️', ':man_running_medium_skin_tone:': '🏃 🏽 \\u200d ♂ ️', ':man_scientist:': '👨 \\u200d 🔬', ':man_scientist_dark_skin_tone:': '👨 🏿 \\u200d 🔬', ':man_scientist_light_skin_tone:': '👨 🏻 \\u200d 🔬', ':man_scientist_medium-dark_skin_tone:': '👨 🏾 \\u200d 🔬', ':man_scientist_medium-light_skin_tone:': '👨 🏼 \\u200d 🔬', ':man_scientist_medium_skin_tone:': '👨 🏽 \\u200d 🔬', ':man_shrugging:': '🤷 \\u200d ♂ ️', ':man_shrugging_dark_skin_tone:': '🤷 🏿 \\u200d ♂ ️', ':man_shrugging_light_skin_tone:': '🤷 🏻 \\u200d ♂ ️', ':man_shrugging_medium-dark_skin_tone:': '🤷 🏾 \\u200d ♂ ️', ':man_shrugging_medium-light_skin_tone:': '🤷 🏼 \\u200d ♂ ️', ':man_shrugging_medium_skin_tone:': '🤷 🏽 \\u200d ♂ ️', ':man_singer:': '👨 \\u200d 🎤', ':man_singer_dark_skin_tone:': '👨 🏿 \\u200d 🎤', ':man_singer_light_skin_tone:': '👨 🏻 \\u200d 🎤', ':man_singer_medium-dark_skin_tone:': '👨 🏾 \\u200d 🎤', ':man_singer_medium-light_skin_tone:': '👨 🏼 \\u200d 🎤', ':man_singer_medium_skin_tone:': '👨 🏽 \\u200d 🎤', ':man_student:': '👨 \\u200d 🎓', ':man_student_dark_skin_tone:': '👨 🏿 \\u200d 🎓', ':man_student_light_skin_tone:': '👨 🏻 \\u200d 🎓', ':man_student_medium-dark_skin_tone:': '👨 🏾 \\u200d 🎓', ':man_student_medium-light_skin_tone:': '👨 🏼 \\u200d 🎓', ':man_student_medium_skin_tone:': '👨 🏽 \\u200d 🎓', ':man_surfing:': '🏄 \\u200d ♂ ️', ':man_surfing_dark_skin_tone:': '🏄 🏿 \\u200d ♂ ️', ':man_surfing_light_skin_tone:': '🏄 🏻 \\u200d ♂ ️', ':man_surfing_medium-dark_skin_tone:': '🏄 🏾 \\u200d ♂ ️', ':man_surfing_medium-light_skin_tone:': '🏄 🏼 \\u200d ♂ ️', ':man_surfing_medium_skin_tone:': '🏄 🏽 \\u200d ♂ ️', ':man_swimming:': '🏊 \\u200d ♂ ️', ':man_swimming_dark_skin_tone:': '🏊 🏿 \\u200d ♂ ️', ':man_swimming_light_skin_tone:': '🏊 🏻 \\u200d ♂ ️', ':man_swimming_medium-dark_skin_tone:': '🏊 🏾 \\u200d ♂ ️', ':man_swimming_medium-light_skin_tone:': '🏊 🏼 \\u200d ♂ ️', ':man_swimming_medium_skin_tone:': '🏊 🏽 \\u200d ♂ ️', ':man_teacher:': '👨 \\u200d 🏫', ':man_teacher_dark_skin_tone:': '👨 🏿 \\u200d 🏫', ':man_teacher_light_skin_tone:': '👨 🏻 \\u200d 🏫', ':man_teacher_medium-dark_skin_tone:': '👨 🏾 \\u200d 🏫', ':man_teacher_medium-light_skin_tone:': '👨 🏼 \\u200d 🏫', ':man_teacher_medium_skin_tone:': '👨 🏽 \\u200d 🏫', ':man_technologist:': '👨 \\u200d 💻', ':man_technologist_dark_skin_tone:': '👨 🏿 \\u200d 💻', ':man_technologist_light_skin_tone:': '👨 🏻 \\u200d 💻', ':man_technologist_medium-dark_skin_tone:': '👨 🏾 \\u200d 💻', ':man_technologist_medium-light_skin_tone:': '👨 🏼 \\u200d 💻', ':man_technologist_medium_skin_tone:': '👨 🏽 \\u200d 💻', ':man_tipping_hand:': '💁 \\u200d ♂ ️', ':man_tipping_hand_dark_skin_tone:': '💁 🏿 \\u200d ♂ ️', ':man_tipping_hand_light_skin_tone:': '💁 🏻 \\u200d ♂ ️', ':man_tipping_hand_medium-dark_skin_tone:': '💁 🏾 \\u200d ♂ ️', ':man_tipping_hand_medium-light_skin_tone:': '💁 🏼 \\u200d ♂ ️', ':man_tipping_hand_medium_skin_tone:': '💁 🏽 \\u200d ♂ ️', ':man_walking:': '🚶 \\u200d ♂ ️', ':man_walking_dark_skin_tone:': '🚶 🏿 \\u200d ♂ ️', ':man_walking_light_skin_tone:': '🚶 🏻 \\u200d ♂ ️', ':man_walking_medium-dark_skin_tone:': '🚶 🏾 \\u200d ♂ ️', ':man_walking_medium-light_skin_tone:': '🚶 🏼 \\u200d ♂ ️', ':man_walking_medium_skin_tone:': '🚶 🏽 \\u200d ♂ ️', ':man_wearing_turban:': '👳 \\u200d ♂ ️', ':man_wearing_turban_dark_skin_tone:': '👳 🏿 \\u200d ♂ ️', ':man_wearing_turban_light_skin_tone:': '👳 🏻 \\u200d ♂ ️', ':man_wearing_turban_medium-dark_skin_tone:': '👳 🏾 \\u200d ♂ ️', ':man_wearing_turban_medium-light_skin_tone:': '👳 🏼 \\u200d ♂ ️', ':man_wearing_turban_medium_skin_tone:': '👳 🏽 \\u200d ♂ ️', ':man_with_Chinese_cap:': '👲', ':man_with_Chinese_cap_dark_skin_tone:': '👲 🏿', ':man_with_Chinese_cap_light_skin_tone:': '👲 🏻', ':man_with_Chinese_cap_medium-dark_skin_tone:': '👲 🏾', ':man_with_Chinese_cap_medium-light_skin_tone:': '👲 🏼', ':man_with_Chinese_cap_medium_skin_tone:': '👲 🏽', ':mantelpiece_clock:': '🕰', ':man’s_shoe:': '👞', ':map_of_Japan:': '🗾', ':maple_leaf:': '🍁', ':martial_arts_uniform:': '🥋', ':meat_on_bone:': '🍖', ':medical_symbol:': '⚕', ':medium-dark_skin_tone:': '🏾', ':medium-light_skin_tone:': '🏼', ':medium_skin_tone:': '🏽', ':megaphone:': '📣', ':melon:': '🍈', ':memo:': '📝', ':men_with_bunny_ears_partying:': '👯 \\u200d ♂ ️', ':men_wrestling:': '🤼 \\u200d ♂ ️', ':menorah:': '🕎', ':men’s_room:': '🚹', ':metro:': '🚇', ':microphone:': '🎤', ':microscope:': '🔬', ':middle_finger:': '🖕', ':middle_finger_dark_skin_tone:': '🖕 🏿', ':middle_finger_light_skin_tone:': '🖕 🏻', ':middle_finger_medium-dark_skin_tone:': '🖕 🏾', ':middle_finger_medium-light_skin_tone:': '🖕 🏼', ':middle_finger_medium_skin_tone:': '🖕 🏽', ':military_medal:': '🎖', ':milky_way:': '🌌', ':minibus:': '🚐', ':moai:': '🗿', ':mobile_phone:': '📱', ':mobile_phone_off:': '📴', ':mobile_phone_with_arrow:': '📲', ':money-mouth_face:': '🤑', ':money_bag:': '💰', ':money_with_wings:': '💸', ':monkey:': '🐒', ':monkey_face:': '🐵', ':monorail:': '🚝', ':moon_viewing_ceremony:': '🎑', ':mosque:': '🕌', ':motor_boat:': '🛥', ':motor_scooter:': '🛵', ':motorcycle:': '🏍', ':motorway:': '🛣', ':mount_fuji:': '🗻', ':mountain:': '⛰', ':mountain_cableway:': '🚠', ':mountain_railway:': '🚞', ':mouse:': '🐁', ':mouse_face:': '🐭', ':mouth:': '👄', ':movie_camera:': '🎥', ':mushroom:': '🍄', ':musical_keyboard:': '🎹', ':musical_note:': '🎵', ':musical_notes:': '🎶', ':musical_score:': '🎼', ':muted_speaker:': '🔇', ':nail_polish:': '💅', ':nail_polish_dark_skin_tone:': '💅 🏿', ':nail_polish_light_skin_tone:': '💅 🏻', ':nail_polish_medium-dark_skin_tone:': '💅 🏾', ':nail_polish_medium-light_skin_tone:': '💅 🏼', ':nail_polish_medium_skin_tone:': '💅 🏽', ':name_badge:': '📛', ':national_park:': '🏞', ':nauseated_face:': '🤢', ':necktie:': '👔', ':nerd_face:': '🤓', ':neutral_face:': '😐', ':new_moon:': '🌑', ':new_moon_face:': '🌚', ':newspaper:': '📰', ':next_track_button:': '⏭', ':night_with_stars:': '🌃', ':nine-thirty:': '🕤', ':nine_o’clock:': '🕘', ':no_bicycles:': '🚳', ':no_entry:': '⛔', ':no_littering:': '🚯', ':no_mobile_phones:': '📵', ':no_one_under_eighteen:': '🔞', ':no_pedestrians:': '🚷', ':no_smoking:': '🚭', ':non-potable_water:': '🚱', ':nose:': '👃', ':nose_dark_skin_tone:': '👃 🏿', ':nose_light_skin_tone:': '👃 🏻', ':nose_medium-dark_skin_tone:': '👃 🏾', ':nose_medium-light_skin_tone:': '👃 🏼', ':nose_medium_skin_tone:': '👃 🏽', ':notebook:': '📓', ':notebook_with_decorative_cover:': '📔', ':nut_and_bolt:': '🔩', ':octopus:': '🐙', ':oden:': '🍢', ':office_building:': '🏢', ':ogre:': '👹', ':oil_drum:': '🛢', ':old_key:': '🗝', ':old_man:': '👴', ':old_man_dark_skin_tone:': '👴 🏿', ':old_man_light_skin_tone:': '👴 🏻', ':old_man_medium-dark_skin_tone:': '👴 🏾', ':old_man_medium-light_skin_tone:': '👴 🏼', ':old_man_medium_skin_tone:': '👴 🏽', ':old_woman:': '👵', ':old_woman_dark_skin_tone:': '👵 🏿', ':old_woman_light_skin_tone:': '👵 🏻', ':old_woman_medium-dark_skin_tone:': '👵 🏾', ':old_woman_medium-light_skin_tone:': '👵 🏼', ':old_woman_medium_skin_tone:': '👵 🏽', ':om:': '🕉', ':oncoming_automobile:': '🚘', ':oncoming_bus:': '🚍', ':oncoming_fist:': '👊', ':oncoming_fist_dark_skin_tone:': '👊 🏿', ':oncoming_fist_light_skin_tone:': '👊 🏻', ':oncoming_fist_medium-dark_skin_tone:': '👊 🏾', ':oncoming_fist_medium-light_skin_tone:': '👊 🏼', ':oncoming_fist_medium_skin_tone:': '👊 🏽', ':oncoming_police_car:': '🚔', ':oncoming_taxi:': '🚖', ':one-thirty:': '🕜', ':one_o’clock:': '🕐', ':open_book:': '📖', ':open_file_folder:': '📂', ':open_hands:': '👐', ':open_hands_dark_skin_tone:': '👐 🏿', ':open_hands_light_skin_tone:': '👐 🏻', ':open_hands_medium-dark_skin_tone:': '👐 🏾', ':open_hands_medium-light_skin_tone:': '👐 🏼', ':open_hands_medium_skin_tone:': '👐 🏽', ':open_mailbox_with_lowered_flag:': '📭', ':open_mailbox_with_raised_flag:': '📬', ':optical_disk:': '💿', ':orange_book:': '📙', ':orthodox_cross:': '☦', ':outbox_tray:': '📤', ':owl:': '🦉', ':ox:': '🐂', ':package:': '📦', ':page_facing_up:': '📄', ':page_with_curl:': '📃', ':pager:': '📟', ':paintbrush:': '🖌', ':palm_tree:': '🌴', ':pancakes:': '🥞', ':panda_face:': '🐼', ':paperclip:': '📎', ':part_alternation_mark:': '〽', ':party_popper:': '🎉', ':passenger_ship:': '🛳', ':passport_control:': '🛂', ':pause_button:': '⏸', ':paw_prints:': '🐾', ':peace_symbol:': '☮', ':peach:': '🍑', ':peanuts:': '🥜', ':pear:': '🍐', ':pen:': '🖊', ':pencil:': '✏', ':penguin:': '🐧', ':pensive_face:': '😔', ':people_with_bunny_ears_partying:': '👯', ':people_wrestling:': '🤼', ':performing_arts:': '🎭', ':persevering_face:': '😣', ':person_biking:': '🚴', ':person_biking_dark_skin_tone:': '🚴 🏿', ':person_biking_light_skin_tone:': '🚴 🏻', ':person_biking_medium-dark_skin_tone:': '🚴 🏾', ':person_biking_medium-light_skin_tone:': '🚴 🏼', ':person_biking_medium_skin_tone:': '🚴 🏽', ':person_bouncing_ball:': '⛹', ':person_bouncing_ball_dark_skin_tone:': '⛹ 🏿', ':person_bouncing_ball_light_skin_tone:': '⛹ 🏻', ':person_bouncing_ball_medium-dark_skin_tone:': '⛹ 🏾', ':person_bouncing_ball_medium-light_skin_tone:': '⛹ 🏼', ':person_bouncing_ball_medium_skin_tone:': '⛹ 🏽', ':person_bowing:': '🙇', ':person_bowing_dark_skin_tone:': '🙇 🏿', ':person_bowing_light_skin_tone:': '🙇 🏻', ':person_bowing_medium-dark_skin_tone:': '🙇 🏾', ':person_bowing_medium-light_skin_tone:': '🙇 🏼', ':person_bowing_medium_skin_tone:': '🙇 🏽', ':person_cartwheeling:': '🤸', ':person_cartwheeling_dark_skin_tone:': '🤸 🏿', ':person_cartwheeling_light_skin_tone:': '🤸 🏻', ':person_cartwheeling_medium-dark_skin_tone:': '🤸 🏾', ':person_cartwheeling_medium-light_skin_tone:': '🤸 🏼', ':person_cartwheeling_medium_skin_tone:': '🤸 🏽', ':person_facepalming:': '🤦', ':person_facepalming_dark_skin_tone:': '🤦 🏿', ':person_facepalming_light_skin_tone:': '🤦 🏻', ':person_facepalming_medium-dark_skin_tone:': '🤦 🏾', ':person_facepalming_medium-light_skin_tone:': '🤦 🏼', ':person_facepalming_medium_skin_tone:': '🤦 🏽', ':person_fencing:': '🤺', ':person_frowning:': '🙍', ':person_frowning_dark_skin_tone:': '🙍 🏿', ':person_frowning_light_skin_tone:': '🙍 🏻', ':person_frowning_medium-dark_skin_tone:': '🙍 🏾', ':person_frowning_medium-light_skin_tone:': '🙍 🏼', ':person_frowning_medium_skin_tone:': '🙍 🏽', ':person_gesturing_NO:': '🙅', ':person_gesturing_NO_dark_skin_tone:': '🙅 🏿', ':person_gesturing_NO_light_skin_tone:': '🙅 🏻', ':person_gesturing_NO_medium-dark_skin_tone:': '🙅 🏾', ':person_gesturing_NO_medium-light_skin_tone:': '🙅 🏼', ':person_gesturing_NO_medium_skin_tone:': '🙅 🏽', ':person_gesturing_OK:': '🙆', ':person_gesturing_OK_dark_skin_tone:': '🙆 🏿', ':person_gesturing_OK_light_skin_tone:': '🙆 🏻', ':person_gesturing_OK_medium-dark_skin_tone:': '🙆 🏾', ':person_gesturing_OK_medium-light_skin_tone:': '🙆 🏼', ':person_gesturing_OK_medium_skin_tone:': '🙆 🏽', ':person_getting_haircut:': '💇', ':person_getting_haircut_dark_skin_tone:': '💇 🏿', ':person_getting_haircut_light_skin_tone:': '💇 🏻', ':person_getting_haircut_medium-dark_skin_tone:': '💇 🏾', ':person_getting_haircut_medium-light_skin_tone:': '💇 🏼', ':person_getting_haircut_medium_skin_tone:': '💇 🏽', ':person_getting_massage:': '💆', ':person_getting_massage_dark_skin_tone:': '💆 🏿', ':person_getting_massage_light_skin_tone:': '💆 🏻', ':person_getting_massage_medium-dark_skin_tone:': '💆 🏾', ':person_getting_massage_medium-light_skin_tone:': '💆 🏼', ':person_getting_massage_medium_skin_tone:': '💆 🏽', ':person_golfing:': '🏌', ':person_golfing_dark_skin_tone:': '🏌 🏿', ':person_golfing_light_skin_tone:': '🏌 🏻', ':person_golfing_medium-dark_skin_tone:': '🏌 🏾', ':person_golfing_medium-light_skin_tone:': '🏌 🏼', ':person_golfing_medium_skin_tone:': '🏌 🏽', ':person_in_bed:': '🛌', ':person_in_bed_dark_skin_tone:': '🛌 🏿', ':person_in_bed_light_skin_tone:': '🛌 🏻', ':person_in_bed_medium-dark_skin_tone:': '🛌 🏾', ':person_in_bed_medium-light_skin_tone:': '🛌 🏼', ':person_in_bed_medium_skin_tone:': '🛌 🏽', ':person_juggling:': '🤹', ':person_juggling_dark_skin_tone:': '🤹 🏿', ':person_juggling_light_skin_tone:': '🤹 🏻', ':person_juggling_medium-dark_skin_tone:': '🤹 🏾', ':person_juggling_medium-light_skin_tone:': '🤹 🏼', ':person_juggling_medium_skin_tone:': '🤹 🏽', ':person_lifting_weights:': '🏋', ':person_lifting_weights_dark_skin_tone:': '🏋 🏿', ':person_lifting_weights_light_skin_tone:': '🏋 🏻', ':person_lifting_weights_medium-dark_skin_tone:': '🏋 🏾', ':person_lifting_weights_medium-light_skin_tone:': '🏋 🏼', ':person_lifting_weights_medium_skin_tone:': '🏋 🏽', ':person_mountain_biking:': '🚵', ':person_mountain_biking_dark_skin_tone:': '🚵 🏿', ':person_mountain_biking_light_skin_tone:': '🚵 🏻', ':person_mountain_biking_medium-dark_skin_tone:': '🚵 🏾', ':person_mountain_biking_medium-light_skin_tone:': '🚵 🏼', ':person_mountain_biking_medium_skin_tone:': '🚵 🏽', ':person_playing_handball:': '🤾', ':person_playing_handball_dark_skin_tone:': '🤾 🏿', ':person_playing_handball_light_skin_tone:': '🤾 🏻', ':person_playing_handball_medium-dark_skin_tone:': '🤾 🏾', ':person_playing_handball_medium-light_skin_tone:': '🤾 🏼', ':person_playing_handball_medium_skin_tone:': '🤾 🏽', ':person_playing_water_polo:': '🤽', ':person_playing_water_polo_dark_skin_tone:': '🤽 🏿', ':person_playing_water_polo_light_skin_tone:': '🤽 🏻', ':person_playing_water_polo_medium-dark_skin_tone:': '🤽 🏾', ':person_playing_water_polo_medium-light_skin_tone:': '🤽 🏼', ':person_playing_water_polo_medium_skin_tone:': '🤽 🏽', ':person_pouting:': '🙎', ':person_pouting_dark_skin_tone:': '🙎 🏿', ':person_pouting_light_skin_tone:': '🙎 🏻', ':person_pouting_medium-dark_skin_tone:': '🙎 🏾', ':person_pouting_medium-light_skin_tone:': '🙎 🏼', ':person_pouting_medium_skin_tone:': '🙎 🏽', ':person_raising_hand:': '🙋', ':person_raising_hand_dark_skin_tone:': '🙋 🏿', ':person_raising_hand_light_skin_tone:': '🙋 🏻', ':person_raising_hand_medium-dark_skin_tone:': '🙋 🏾', ':person_raising_hand_medium-light_skin_tone:': '🙋 🏼', ':person_raising_hand_medium_skin_tone:': '🙋 🏽', ':person_rowing_boat:': '🚣', ':person_rowing_boat_dark_skin_tone:': '🚣 🏿', ':person_rowing_boat_light_skin_tone:': '🚣 🏻', ':person_rowing_boat_medium-dark_skin_tone:': '🚣 🏾', ':person_rowing_boat_medium-light_skin_tone:': '🚣 🏼', ':person_rowing_boat_medium_skin_tone:': '🚣 🏽', ':person_running:': '🏃', ':person_running_dark_skin_tone:': '🏃 🏿', ':person_running_light_skin_tone:': '🏃 🏻', ':person_running_medium-dark_skin_tone:': '🏃 🏾', ':person_running_medium-light_skin_tone:': '🏃 🏼', ':person_running_medium_skin_tone:': '🏃 🏽', ':person_shrugging:': '🤷', ':person_shrugging_dark_skin_tone:': '🤷 🏿', ':person_shrugging_light_skin_tone:': '🤷 🏻', ':person_shrugging_medium-dark_skin_tone:': '🤷 🏾', ':person_shrugging_medium-light_skin_tone:': '🤷 🏼', ':person_shrugging_medium_skin_tone:': '🤷 🏽', ':person_surfing:': '🏄', ':person_surfing_dark_skin_tone:': '🏄 🏿', ':person_surfing_light_skin_tone:': '🏄 🏻', ':person_surfing_medium-dark_skin_tone:': '🏄 🏾', ':person_surfing_medium-light_skin_tone:': '🏄 🏼', ':person_surfing_medium_skin_tone:': '🏄 🏽', ':person_swimming:': '🏊', ':person_swimming_dark_skin_tone:': '🏊 🏿', ':person_swimming_light_skin_tone:': '🏊 🏻', ':person_swimming_medium-dark_skin_tone:': '🏊 🏾', ':person_swimming_medium-light_skin_tone:': '🏊 🏼', ':person_swimming_medium_skin_tone:': '🏊 🏽', ':person_taking_bath:': '🛀', ':person_taking_bath_dark_skin_tone:': '🛀 🏿', ':person_taking_bath_light_skin_tone:': '🛀 🏻', ':person_taking_bath_medium-dark_skin_tone:': '🛀 🏾', ':person_taking_bath_medium-light_skin_tone:': '🛀 🏼', ':person_taking_bath_medium_skin_tone:': '🛀 🏽', ':person_tipping_hand:': '💁', ':person_tipping_hand_dark_skin_tone:': '💁 🏿', ':person_tipping_hand_light_skin_tone:': '💁 🏻', ':person_tipping_hand_medium-dark_skin_tone:': '💁 🏾', ':person_tipping_hand_medium-light_skin_tone:': '💁 🏼', ':person_tipping_hand_medium_skin_tone:': '💁 🏽', ':person_walking:': '🚶', ':person_walking_dark_skin_tone:': '🚶 🏿', ':person_walking_light_skin_tone:': '🚶 🏻', ':person_walking_medium-dark_skin_tone:': '🚶 🏾', ':person_walking_medium-light_skin_tone:': '🚶 🏼', ':person_walking_medium_skin_tone:': '🚶 🏽', ':person_wearing_turban:': '👳', ':person_wearing_turban_dark_skin_tone:': '👳 🏿', ':person_wearing_turban_light_skin_tone:': '👳 🏻', ':person_wearing_turban_medium-dark_skin_tone:': '👳 🏾', ':person_wearing_turban_medium-light_skin_tone:': '👳 🏼', ':person_wearing_turban_medium_skin_tone:': '👳 🏽', ':pick:': '⛏', ':pig:': '🐖', ':pig_face:': '🐷', ':pig_nose:': '🐽', ':pile_of_poo:': '💩', ':pill:': '💊', ':pine_decoration:': '🎍', ':pineapple:': '🍍', ':ping_pong:': '🏓', ':pistol:': '🔫', ':pizza:': '🍕', ':place_of_worship:': '🛐', ':play_button:': '▶', ':play_or_pause_button:': '⏯', ':police_car:': '🚓', ':police_car_light:': '🚨', ':police_officer:': '👮', ':police_officer_dark_skin_tone:': '👮 🏿', ':police_officer_light_skin_tone:': '👮 🏻', ':police_officer_medium-dark_skin_tone:': '👮 🏾', ':police_officer_medium-light_skin_tone:': '👮 🏼', ':police_officer_medium_skin_tone:': '👮 🏽', ':poodle:': '🐩', ':pool_8_ball:': '🎱', ':popcorn:': '🍿', ':post_office:': '🏤', ':postal_horn:': '📯', ':postbox:': '📮', ':pot_of_food:': '🍲', ':potable_water:': '🚰', ':potato:': '🥔', ':poultry_leg:': '🍗', ':pound_banknote:': '💷', ':pouting_cat_face:': '😾', ':pouting_face:': '😡', ':prayer_beads:': '📿', ':pregnant_woman:': '🤰', ':pregnant_woman_dark_skin_tone:': '🤰 🏿', ':pregnant_woman_light_skin_tone:': '🤰 🏻', ':pregnant_woman_medium-dark_skin_tone:': '🤰 🏾', ':pregnant_woman_medium-light_skin_tone:': '🤰 🏼', ':pregnant_woman_medium_skin_tone:': '🤰 🏽', ':prince:': '🤴', ':prince_dark_skin_tone:': '🤴 🏿', ':prince_light_skin_tone:': '🤴 🏻', ':prince_medium-dark_skin_tone:': '🤴 🏾', ':prince_medium-light_skin_tone:': '🤴 🏼', ':prince_medium_skin_tone:': '🤴 🏽', ':princess:': '👸', ':princess_dark_skin_tone:': '👸 🏿', ':princess_light_skin_tone:': '👸 🏻', ':princess_medium-dark_skin_tone:': '👸 🏾', ':princess_medium-light_skin_tone:': '👸 🏼', ':princess_medium_skin_tone:': '👸 🏽', ':printer:': '🖨', ':prohibited:': '🚫', ':purple_heart:': '💜', ':purse:': '👛', ':pushpin:': '📌', ':question_mark:': '❓', ':rabbit:': '🐇', ':rabbit_face:': '🐰', ':racing_car:': '🏎', ':radio:': '📻', ':radio_button:': '🔘', ':radioactive:': '☢', ':railway_car:': '🚃', ':railway_track:': '🛤', ':rainbow:': '🌈', ':rainbow_flag:': '🏳 ️ \\u200d 🌈', ':raised_back_of_hand:': '🤚', ':raised_back_of_hand_dark_skin_tone:': '🤚 🏿', ':raised_back_of_hand_light_skin_tone:': '🤚 🏻', ':raised_back_of_hand_medium-dark_skin_tone:': '🤚 🏾', ':raised_back_of_hand_medium-light_skin_tone:': '🤚 🏼', ':raised_back_of_hand_medium_skin_tone:': '🤚 🏽', ':raised_fist:': '✊', ':raised_fist_dark_skin_tone:': '✊ 🏿', ':raised_fist_light_skin_tone:': '✊ 🏻', ':raised_fist_medium-dark_skin_tone:': '✊ 🏾', ':raised_fist_medium-light_skin_tone:': '✊ 🏼', ':raised_fist_medium_skin_tone:': '✊ 🏽', ':raised_hand:': '✋', ':raised_hand_dark_skin_tone:': '✋ 🏿', ':raised_hand_light_skin_tone:': '✋ 🏻', ':raised_hand_medium-dark_skin_tone:': '✋ 🏾', ':raised_hand_medium-light_skin_tone:': '✋ 🏼', ':raised_hand_medium_skin_tone:': '✋ 🏽', ':raised_hand_with_fingers_splayed:': '🖐', ':raised_hand_with_fingers_splayed_dark_skin_tone:': '🖐 🏿', ':raised_hand_with_fingers_splayed_light_skin_tone:': '🖐 🏻', ':raised_hand_with_fingers_splayed_medium-dark_skin_tone:': '🖐 🏾', ':raised_hand_with_fingers_splayed_medium-light_skin_tone:': '🖐 🏼', ':raised_hand_with_fingers_splayed_medium_skin_tone:': '🖐 🏽', ':raising_hands:': '🙌', ':raising_hands_dark_skin_tone:': '🙌 🏿', ':raising_hands_light_skin_tone:': '🙌 🏻', ':raising_hands_medium-dark_skin_tone:': '🙌 🏾', ':raising_hands_medium-light_skin_tone:': '🙌 🏼', ':raising_hands_medium_skin_tone:': '🙌 🏽', ':ram:': '🐏', ':rat:': '🐀', ':record_button:': '⏺', ':recycling_symbol:': '♻', ':red_apple:': '🍎', ':red_circle:': '🔴', ':red_heart:': '❤', ':red_paper_lantern:': '🏮', ':red_triangle_pointed_down:': '🔻', ':red_triangle_pointed_up:': '🔺', ':registered:': '®', ':relieved_face:': '😌', ':reminder_ribbon:': '🎗', ':repeat_button:': '🔁', ':repeat_single_button:': '🔂', ':rescue_worker’s_helmet:': '⛑', ':restroom:': '🚻', ':reverse_button:': '◀', ':revolving_hearts:': '💞', ':rhinoceros:': '🦏', ':ribbon:': '🎀', ':rice_ball:': '🍙', ':rice_cracker:': '🍘', ':right-facing_fist:': '🤜', ':right-facing_fist_dark_skin_tone:': '🤜 🏿', ':right-facing_fist_light_skin_tone:': '🤜 🏻', ':right-facing_fist_medium-dark_skin_tone:': '🤜 🏾', ':right-facing_fist_medium-light_skin_tone:': '🤜 🏼', ':right-facing_fist_medium_skin_tone:': '🤜 🏽', ':right-pointing_magnifying_glass:': '🔎', ':right_anger_bubble:': '🗯', ':right_arrow:': '➡', ':right_arrow_curving_down:': '⤵', ':right_arrow_curving_left:': '↩', ':right_arrow_curving_up:': '⤴', ':ring:': '💍', ':roasted_sweet_potato:': '🍠', ':robot_face:': '🤖', ':rocket:': '🚀', ':rolled-up_newspaper:': '🗞', ':roller_coaster:': '🎢', ':rolling_on_the_floor_laughing:': '🤣', ':rooster:': '🐓', ':rose:': '🌹', ':rosette:': '🏵', ':round_pushpin:': '📍', ':rugby_football:': '🏉', ':running_shirt:': '🎽', ':running_shoe:': '👟', ':sailboat:': '⛵', ':sake:': '🍶', ':satellite:': '🛰', ':satellite_antenna:': '📡', ':saxophone:': '🎷', ':school:': '🏫', ':school_backpack:': '🎒', ':scissors:': '✂', ':scorpion:': '🦂', ':scroll:': '📜', ':seat:': '💺', ':see-no-evil_monkey:': '🙈', ':seedling:': '🌱', ':selfie:': '🤳', ':selfie_dark_skin_tone:': '🤳 🏿', ':selfie_light_skin_tone:': '🤳 🏻', ':selfie_medium-dark_skin_tone:': '🤳 🏾', ':selfie_medium-light_skin_tone:': '🤳 🏼', ':selfie_medium_skin_tone:': '🤳 🏽', ':seven-thirty:': '🕢', ':seven_o’clock:': '🕖', ':shallow_pan_of_food:': '🥘', ':shamrock:': '☘', ':shark:': '🦈', ':shaved_ice:': '🍧', ':sheaf_of_rice:': '🌾', ':sheep:': '🐑', ':shield:': '🛡', ':shinto_shrine:': '⛩', ':ship:': '🚢', ':shooting_star:': '🌠', ':shopping_bags:': '🛍', ':shopping_cart:': '🛒', ':shortcake:': '🍰', ':shower:': '🚿', ':shrimp:': '🦐', ':shuffle_tracks_button:': '🔀', ':sign_of_the_horns:': '🤘', ':sign_of_the_horns_dark_skin_tone:': '🤘 🏿', ':sign_of_the_horns_light_skin_tone:': '🤘 🏻', ':sign_of_the_horns_medium-dark_skin_tone:': '🤘 🏾', ':sign_of_the_horns_medium-light_skin_tone:': '🤘 🏼', ':sign_of_the_horns_medium_skin_tone:': '🤘 🏽', ':six-thirty:': '🕡', ':six_o’clock:': '🕕', ':skier:': '⛷', ':skis:': '🎿', ':skull:': '💀', ':skull_and_crossbones:': '☠', ':sleeping_face:': '😴', ':sleepy_face:': '😪', ':slightly_frowning_face:': '🙁', ':slightly_smiling_face:': '🙂', ':slot_machine:': '🎰', ':small_airplane:': '🛩', ':small_blue_diamond:': '🔹', ':small_orange_diamond:': '🔸', ':smiling_cat_face_with_heart-eyes:': '😻', ':smiling_cat_face_with_open_mouth:': '😺', ':smiling_face:': '☺', ':smiling_face_with_halo:': '😇', ':smiling_face_with_heart-eyes:': '😍', ':smiling_face_with_horns:': '😈', ':smiling_face_with_open_mouth:': '😃', ':smiling_face_with_open_mouth_&_closed_eyes:': '😆', ':smiling_face_with_open_mouth_&_cold_sweat:': '😅', ':smiling_face_with_open_mouth_&_smiling_eyes:': '😄', ':smiling_face_with_smiling_eyes:': '😊', ':smiling_face_with_sunglasses:': '😎', ':smirking_face:': '😏', ':snail:': '🐌', ':snake:': '🐍', ':sneezing_face:': '🤧', ':snow-capped_mountain:': '🏔', ':snowboarder:': '🏂', ':snowboarder_dark_skin_tone:': '🏂 🏿', ':snowboarder_light_skin_tone:': '🏂 🏻', ':snowboarder_medium-dark_skin_tone:': '🏂 🏾', ':snowboarder_medium-light_skin_tone:': '🏂 🏼', ':snowboarder_medium_skin_tone:': '🏂 🏽', ':snowflake:': '❄', ':snowman:': '☃', ':snowman_without_snow:': '⛄', ':soccer_ball:': '⚽', ':soft_ice_cream:': '🍦', ':spade_suit:': '♠', ':spaghetti:': '🍝', ':sparkle:': '❇', ':sparkler:': '🎇', ':sparkles:': '✨', ':sparkling_heart:': '💖', ':speak-no-evil_monkey:': '🙊', ':speaker_high_volume:': '🔊', ':speaker_low_volume:': '🔈', ':speaker_medium_volume:': '🔉', ':speaking_head:': '🗣', ':speech_balloon:': '💬', ':speedboat:': '🚤', ':spider:': '🕷', ':spider_web:': '🕸', ':spiral_calendar:': '🗓', ':spiral_notepad:': '🗒', ':spiral_shell:': '🐚', ':spoon:': '🥄', ':sport_utility_vehicle:': '🚙', ':sports_medal:': '🏅', ':spouting_whale:': '🐳', ':squid:': '🦑', ':stadium:': '🏟', ':star_and_crescent:': '☪', ':star_of_David:': '✡', ':station:': '🚉', ':steaming_bowl:': '🍜', ':stop_button:': '⏹', ':stop_sign:': '🛑', ':stopwatch:': '⏱', ':straight_ruler:': '📏', ':strawberry:': '🍓', ':studio_microphone:': '🎙', ':stuffed_flatbread:': '🥙', ':sun:': '☀', ':sun_behind_cloud:': '⛅', ':sun_behind_large_cloud:': '🌥', ':sun_behind_rain_cloud:': '🌦', ':sun_behind_small_cloud:': '🌤', ':sun_with_face:': '🌞', ':sunflower:': '🌻', ':sunglasses:': '🕶', ':sunrise:': '🌅', ':sunrise_over_mountains:': '🌄', ':sunset:': '🌇', ':sushi:': '🍣', ':suspension_railway:': '🚟', ':sweat_droplets:': '💦', ':synagogue:': '🕍', ':syringe:': '💉', ':t-shirt:': '👕', ':taco:': '🌮', ':tanabata_tree:': '🎋', ':tangerine:': '🍊', ':taxi:': '🚕', ':teacup_without_handle:': '🍵', ':tear-off_calendar:': '📆', ':telephone:': '☎', ':telephone_receiver:': '📞', ':telescope:': '🔭', ':television:': '📺', ':ten-thirty:': '🕥', ':ten_o’clock:': '🕙', ':tennis:': '🎾', ':tent:': '⛺', ':thermometer:': '🌡', ':thinking_face:': '🤔', ':thought_balloon:': '💭', ':three-thirty:': '🕞', ':three_o’clock:': '🕒', ':thumbs_down:': '👎', ':thumbs_down_dark_skin_tone:': '👎 🏿', ':thumbs_down_light_skin_tone:': '👎 🏻', ':thumbs_down_medium-dark_skin_tone:': '👎 🏾', ':thumbs_down_medium-light_skin_tone:': '👎 🏼', ':thumbs_down_medium_skin_tone:': '👎 🏽', ':thumbs_up:': '👍', ':thumbs_up_dark_skin_tone:': '👍 🏿', ':thumbs_up_light_skin_tone:': '👍 🏻', ':thumbs_up_medium-dark_skin_tone:': '👍 🏾', ':thumbs_up_medium-light_skin_tone:': '👍 🏼', ':thumbs_up_medium_skin_tone:': '👍 🏽', ':ticket:': '🎫', ':tiger:': '🐅', ':tiger_face:': '🐯', ':timer_clock:': '⏲', ':tired_face:': '😫', ':toilet:': '🚽', ':tomato:': '🍅', ':tongue:': '👅', ':top_hat:': '🎩', ':tornado:': '🌪', ':trackball:': '🖲', ':tractor:': '🚜', ':trade_mark:': '™', ':train:': '🚆', ':tram:': '🚊', ':tram_car:': '🚋', ':triangular_flag:': '🚩', ':triangular_ruler:': '📐', ':trident_emblem:': '🔱', ':trolleybus:': '🚎', ':trophy:': '🏆', ':tropical_drink:': '🍹', ':tropical_fish:': '🐠', ':trumpet:': '🎺', ':tulip:': '🌷', ':tumbler_glass:': '🥃', ':turkey:': '🦃', ':turtle:': '🐢', ':twelve-thirty:': '🕧', ':twelve_o’clock:': '🕛', ':two-hump_camel:': '🐫', ':two-thirty:': '🕝', ':two_hearts:': '💕', ':two_men_holding_hands:': '👬', ':two_o’clock:': '🕑', ':two_women_holding_hands:': '👭', ':umbrella:': '☂', ':umbrella_on_ground:': '⛱', ':umbrella_with_rain_drops:': '☔', ':unamused_face:': '😒', ':unicorn_face:': '🦄', ':unlocked:': '🔓', ':up-down_arrow:': '↕', ':up-left_arrow:': '↖', ':up-right_arrow:': '↗', ':up_arrow:': '⬆', ':up_button:': '🔼', ':upside-down_face:': '🙃', ':vertical_traffic_light:': '🚦', ':vibration_mode:': '📳', ':victory_hand:': '✌', ':victory_hand_dark_skin_tone:': '✌ 🏿', ':victory_hand_light_skin_tone:': '✌ 🏻', ':victory_hand_medium-dark_skin_tone:': '✌ 🏾', ':victory_hand_medium-light_skin_tone:': '✌ 🏼', ':victory_hand_medium_skin_tone:': '✌ 🏽', ':video_camera:': '📹', ':video_game:': '🎮', ':videocassette:': '📼', ':violin:': '🎻', ':volcano:': '🌋', ':volleyball:': '🏐', ':vulcan_salute:': '🖖', ':vulcan_salute_dark_skin_tone:': '🖖 🏿', ':vulcan_salute_light_skin_tone:': '🖖 🏻', ':vulcan_salute_medium-dark_skin_tone:': '🖖 🏾', ':vulcan_salute_medium-light_skin_tone:': '🖖 🏼', ':vulcan_salute_medium_skin_tone:': '🖖 🏽', ':waning_crescent_moon:': '🌘', ':waning_gibbous_moon:': '🌖', ':warning:': '⚠', ':wastebasket:': '🗑', ':watch:': '⌚', ':water_buffalo:': '🐃', ':water_closet:': '🚾', ':water_wave:': '🌊', ':watermelon:': '🍉', ':waving_hand:': '👋', ':waving_hand_dark_skin_tone:': '👋 🏿', ':waving_hand_light_skin_tone:': '👋 🏻', ':waving_hand_medium-dark_skin_tone:': '👋 🏾', ':waving_hand_medium-light_skin_tone:': '👋 🏼', ':waving_hand_medium_skin_tone:': '👋 🏽', ':wavy_dash:': '〰', ':waxing_crescent_moon:': '🌒', ':waxing_gibbous_moon:': '🌔', ':weary_cat_face:': '🙀', ':weary_face:': '😩', ':wedding:': '💒', ':whale:': '🐋', ':wheel_of_dharma:': '☸', ':wheelchair_symbol:': '♿', ':white_circle:': '⚪', ':white_exclamation_mark:': '❕', ':white_flag:': '🏳', ':white_flower:': '💮', ':white_heavy_check_mark:': '✅', ':white_large_square:': '⬜', ':white_medium-small_square:': '◽', ':white_medium_square:': '◻', ':white_medium_star:': '⭐', ':white_question_mark:': '❔', ':white_small_square:': '▫', ':white_square_button:': '🔳', ':wilted_flower:': '🥀', ':wind_chime:': '🎐', ':wind_face:': '🌬', ':wine_glass:': '🍷', ':winking_face:': '😉', ':wolf_face:': '🐺', ':woman:': '👩', ':woman_artist:': '👩 \\u200d 🎨', ':woman_artist_dark_skin_tone:': '👩 🏿 \\u200d 🎨', ':woman_artist_light_skin_tone:': '👩 🏻 \\u200d 🎨', ':woman_artist_medium-dark_skin_tone:': '👩 🏾 \\u200d 🎨', ':woman_artist_medium-light_skin_tone:': '👩 🏼 \\u200d 🎨', ':woman_artist_medium_skin_tone:': '👩 🏽 \\u200d 🎨', ':woman_astronaut:': '👩 \\u200d 🚀', ':woman_astronaut_dark_skin_tone:': '👩 🏿 \\u200d 🚀', ':woman_astronaut_light_skin_tone:': '👩 🏻 \\u200d 🚀', ':woman_astronaut_medium-dark_skin_tone:': '👩 🏾 \\u200d 🚀', ':woman_astronaut_medium-light_skin_tone:': '👩 🏼 \\u200d 🚀', ':woman_astronaut_medium_skin_tone:': '👩 🏽 \\u200d 🚀', ':woman_biking:': '🚴 \\u200d ♀ ️', ':woman_biking_dark_skin_tone:': '🚴 🏿 \\u200d ♀ ️', ':woman_biking_light_skin_tone:': '🚴 🏻 \\u200d ♀ ️', ':woman_biking_medium-dark_skin_tone:': '🚴 🏾 \\u200d ♀ ️', ':woman_biking_medium-light_skin_tone:': '🚴 🏼 \\u200d ♀ ️', ':woman_biking_medium_skin_tone:': '🚴 🏽 \\u200d ♀ ️', ':woman_bouncing_ball:': '⛹ ️ \\u200d ♀ ️', ':woman_bouncing_ball_dark_skin_tone:': '⛹ 🏿 \\u200d ♀ ️', ':woman_bouncing_ball_light_skin_tone:': '⛹ 🏻 \\u200d ♀ ️', ':woman_bouncing_ball_medium-dark_skin_tone:': '⛹ 🏾 \\u200d ♀ ️', ':woman_bouncing_ball_medium-light_skin_tone:': '⛹ 🏼 \\u200d ♀ ️', ':woman_bouncing_ball_medium_skin_tone:': '⛹ 🏽 \\u200d ♀ ️', ':woman_bowing:': '🙇 \\u200d ♀ ️', ':woman_bowing_dark_skin_tone:': '🙇 🏿 \\u200d ♀ ️', ':woman_bowing_light_skin_tone:': '🙇 🏻 \\u200d ♀ ️', ':woman_bowing_medium-dark_skin_tone:': '🙇 🏾 \\u200d ♀ ️', ':woman_bowing_medium-light_skin_tone:': '🙇 🏼 \\u200d ♀ ️', ':woman_bowing_medium_skin_tone:': '🙇 🏽 \\u200d ♀ ️', ':woman_cartwheeling:': '🤸 \\u200d ♀ ️', ':woman_cartwheeling_dark_skin_tone:': '🤸 🏿 \\u200d ♀ ️', ':woman_cartwheeling_light_skin_tone:': '🤸 🏻 \\u200d ♀ ️', ':woman_cartwheeling_medium-dark_skin_tone:': '🤸 🏾 \\u200d ♀ ️', ':woman_cartwheeling_medium-light_skin_tone:': '🤸 🏼 \\u200d ♀ ️', ':woman_cartwheeling_medium_skin_tone:': '🤸 🏽 \\u200d ♀ ️', ':woman_construction_worker:': '👷 \\u200d ♀ ️', ':woman_construction_worker_dark_skin_tone:': '👷 🏿 \\u200d ♀ ️', ':woman_construction_worker_light_skin_tone:': '👷 🏻 \\u200d ♀ ️', ':woman_construction_worker_medium-dark_skin_tone:': '👷 🏾 \\u200d ♀ ️', ':woman_construction_worker_medium-light_skin_tone:': '👷 🏼 \\u200d ♀ ️', ':woman_construction_worker_medium_skin_tone:': '👷 🏽 \\u200d ♀ ️', ':woman_cook:': '👩 \\u200d 🍳', ':woman_cook_dark_skin_tone:': '👩 🏿 \\u200d 🍳', ':woman_cook_light_skin_tone:': '👩 🏻 \\u200d 🍳', ':woman_cook_medium-dark_skin_tone:': '👩 🏾 \\u200d 🍳', ':woman_cook_medium-light_skin_tone:': '👩 🏼 \\u200d 🍳', ':woman_cook_medium_skin_tone:': '👩 🏽 \\u200d 🍳', ':woman_dancing:': '💃', ':woman_dancing_dark_skin_tone:': '💃 🏿', ':woman_dancing_light_skin_tone:': '💃 🏻', ':woman_dancing_medium-dark_skin_tone:': '💃 🏾', ':woman_dancing_medium-light_skin_tone:': '💃 🏼', ':woman_dancing_medium_skin_tone:': '💃 🏽', ':woman_dark_skin_tone:': '👩 🏿', ':woman_detective:': '🕵 ️ \\u200d ♀ ️', ':woman_detective_dark_skin_tone:': '🕵 🏿 \\u200d ♀ ️', ':woman_detective_light_skin_tone:': '🕵 🏻 \\u200d ♀ ️', ':woman_detective_medium-dark_skin_tone:': '🕵 🏾 \\u200d ♀ ️', ':woman_detective_medium-light_skin_tone:': '🕵 🏼 \\u200d ♀ ️', ':woman_detective_medium_skin_tone:': '🕵 🏽 \\u200d ♀ ️', ':woman_facepalming:': '🤦 \\u200d ♀ ️', ':woman_facepalming_dark_skin_tone:': '🤦 🏿 \\u200d ♀ ️', ':woman_facepalming_light_skin_tone:': '🤦 🏻 \\u200d ♀ ️', ':woman_facepalming_medium-dark_skin_tone:': '🤦 🏾 \\u200d ♀ ️', ':woman_facepalming_medium-light_skin_tone:': '🤦 🏼 \\u200d ♀ ️', ':woman_facepalming_medium_skin_tone:': '🤦 🏽 \\u200d ♀ ️', ':woman_factory_worker:': '👩 \\u200d 🏭', ':woman_factory_worker_dark_skin_tone:': '👩 🏿 \\u200d 🏭', ':woman_factory_worker_light_skin_tone:': '👩 🏻 \\u200d 🏭', ':woman_factory_worker_medium-dark_skin_tone:': '👩 🏾 \\u200d 🏭', ':woman_factory_worker_medium-light_skin_tone:': '👩 🏼 \\u200d 🏭', ':woman_factory_worker_medium_skin_tone:': '👩 🏽 \\u200d 🏭', ':woman_farmer:': '👩 \\u200d 🌾', ':woman_farmer_dark_skin_tone:': '👩 🏿 \\u200d 🌾', ':woman_farmer_light_skin_tone:': '👩 🏻 \\u200d 🌾', ':woman_farmer_medium-dark_skin_tone:': '👩 🏾 \\u200d 🌾', ':woman_farmer_medium-light_skin_tone:': '👩 🏼 \\u200d 🌾', ':woman_farmer_medium_skin_tone:': '👩 🏽 \\u200d 🌾', ':woman_firefighter:': '👩 \\u200d 🚒', ':woman_firefighter_dark_skin_tone:': '👩 🏿 \\u200d 🚒', ':woman_firefighter_light_skin_tone:': '👩 🏻 \\u200d 🚒', ':woman_firefighter_medium-dark_skin_tone:': '👩 🏾 \\u200d 🚒', ':woman_firefighter_medium-light_skin_tone:': '👩 🏼 \\u200d 🚒', ':woman_firefighter_medium_skin_tone:': '👩 🏽 \\u200d 🚒', ':woman_frowning:': '🙍 \\u200d ♀ ️', ':woman_frowning_dark_skin_tone:': '🙍 🏿 \\u200d ♀ ️', ':woman_frowning_light_skin_tone:': '🙍 🏻 \\u200d ♀ ️', ':woman_frowning_medium-dark_skin_tone:': '🙍 🏾 \\u200d ♀ ️', ':woman_frowning_medium-light_skin_tone:': '🙍 🏼 \\u200d ♀ ️', ':woman_frowning_medium_skin_tone:': '🙍 🏽 \\u200d ♀ ️', ':woman_gesturing_NO:': '🙅 \\u200d ♀ ️', ':woman_gesturing_NO_dark_skin_tone:': '🙅 🏿 \\u200d ♀ ️', ':woman_gesturing_NO_light_skin_tone:': '🙅 🏻 \\u200d ♀ ️', ':woman_gesturing_NO_medium-dark_skin_tone:': '🙅 🏾 \\u200d ♀ ️', ':woman_gesturing_NO_medium-light_skin_tone:': '🙅 🏼 \\u200d ♀ ️', ':woman_gesturing_NO_medium_skin_tone:': '🙅 🏽 \\u200d ♀ ️', ':woman_gesturing_OK:': '🙆 \\u200d ♀ ️', ':woman_gesturing_OK_dark_skin_tone:': '🙆 🏿 \\u200d ♀ ️', ':woman_gesturing_OK_light_skin_tone:': '🙆 🏻 \\u200d ♀ ️', ':woman_gesturing_OK_medium-dark_skin_tone:': '🙆 🏾 \\u200d ♀ ️', ':woman_gesturing_OK_medium-light_skin_tone:': '🙆 🏼 \\u200d ♀ ️', ':woman_gesturing_OK_medium_skin_tone:': '🙆 🏽 \\u200d ♀ ️', ':woman_getting_haircut:': '💇 \\u200d ♀ ️', ':woman_getting_haircut_dark_skin_tone:': '💇 🏿 \\u200d ♀ ️', ':woman_getting_haircut_light_skin_tone:': '💇 🏻 \\u200d ♀ ️', ':woman_getting_haircut_medium-dark_skin_tone:': '💇 🏾 \\u200d ♀ ️', ':woman_getting_haircut_medium-light_skin_tone:': '💇 🏼 \\u200d ♀ ️', ':woman_getting_haircut_medium_skin_tone:': '💇 🏽 \\u200d ♀ ️', ':woman_getting_massage:': '💆 \\u200d ♀ ️', ':woman_getting_massage_dark_skin_tone:': '💆 🏿 \\u200d ♀ ️', ':woman_getting_massage_light_skin_tone:': '💆 🏻 \\u200d ♀ ️', ':woman_getting_massage_medium-dark_skin_tone:': '💆 🏾 \\u200d ♀ ️', ':woman_getting_massage_medium-light_skin_tone:': '💆 🏼 \\u200d ♀ ️', ':woman_getting_massage_medium_skin_tone:': '💆 🏽 \\u200d ♀ ️', ':woman_golfing:': '🏌 ️ \\u200d ♀ ️', ':woman_golfing_dark_skin_tone:': '🏌 🏿 \\u200d ♀ ️', ':woman_golfing_light_skin_tone:': '🏌 🏻 \\u200d ♀ ️', ':woman_golfing_medium-dark_skin_tone:': '🏌 🏾 \\u200d ♀ ️', ':woman_golfing_medium-light_skin_tone:': '🏌 🏼 \\u200d ♀ ️', ':woman_golfing_medium_skin_tone:': '🏌 🏽 \\u200d ♀ ️', ':woman_guard:': '💂 \\u200d ♀ ️', ':woman_guard_dark_skin_tone:': '💂 🏿 \\u200d ♀ ️', ':woman_guard_light_skin_tone:': '💂 🏻 \\u200d ♀ ️', ':woman_guard_medium-dark_skin_tone:': '💂 🏾 \\u200d ♀ ️', ':woman_guard_medium-light_skin_tone:': '💂 🏼 \\u200d ♀ ️', ':woman_guard_medium_skin_tone:': '💂 🏽 \\u200d ♀ ️', ':woman_health_worker:': '👩 \\u200d ⚕ ️', ':woman_health_worker_dark_skin_tone:': '👩 🏿 \\u200d ⚕ ️', ':woman_health_worker_light_skin_tone:': '👩 🏻 \\u200d ⚕ ️', ':woman_health_worker_medium-dark_skin_tone:': '👩 🏾 \\u200d ⚕ ️', ':woman_health_worker_medium-light_skin_tone:': '👩 🏼 \\u200d ⚕ ️', ':woman_health_worker_medium_skin_tone:': '👩 🏽 \\u200d ⚕ ️', ':woman_judge:': '👩 \\u200d ⚖ ️', ':woman_judge_dark_skin_tone:': '👩 🏿 \\u200d ⚖ ️', ':woman_judge_light_skin_tone:': '👩 🏻 \\u200d ⚖ ️', ':woman_judge_medium-dark_skin_tone:': '👩 🏾 \\u200d ⚖ ️', ':woman_judge_medium-light_skin_tone:': '👩 🏼 \\u200d ⚖ ️', ':woman_judge_medium_skin_tone:': '👩 🏽 \\u200d ⚖ ️', ':woman_juggling:': '🤹 \\u200d ♀ ️', ':woman_juggling_dark_skin_tone:': '🤹 🏿 \\u200d ♀ ️', ':woman_juggling_light_skin_tone:': '🤹 🏻 \\u200d ♀ ️', ':woman_juggling_medium-dark_skin_tone:': '🤹 🏾 \\u200d ♀ ️', ':woman_juggling_medium-light_skin_tone:': '🤹 🏼 \\u200d ♀ ️', ':woman_juggling_medium_skin_tone:': '🤹 🏽 \\u200d ♀ ️', ':woman_lifting_weights:': '🏋 ️ \\u200d ♀ ️', ':woman_lifting_weights_dark_skin_tone:': '🏋 🏿 \\u200d ♀ ️', ':woman_lifting_weights_light_skin_tone:': '🏋 🏻 \\u200d ♀ ️', ':woman_lifting_weights_medium-dark_skin_tone:': '🏋 🏾 \\u200d ♀ ️', ':woman_lifting_weights_medium-light_skin_tone:': '🏋 🏼 \\u200d ♀ ️', ':woman_lifting_weights_medium_skin_tone:': '🏋 🏽 \\u200d ♀ ️', ':woman_light_skin_tone:': '👩 🏻', ':woman_mechanic:': '👩 \\u200d 🔧', ':woman_mechanic_dark_skin_tone:': '👩 🏿 \\u200d 🔧', ':woman_mechanic_light_skin_tone:': '👩 🏻 \\u200d 🔧', ':woman_mechanic_medium-dark_skin_tone:': '👩 🏾 \\u200d 🔧', ':woman_mechanic_medium-light_skin_tone:': '👩 🏼 \\u200d 🔧', ':woman_mechanic_medium_skin_tone:': '👩 🏽 \\u200d 🔧', ':woman_medium-dark_skin_tone:': '👩 🏾', ':woman_medium-light_skin_tone:': '👩 🏼', ':woman_medium_skin_tone:': '👩 🏽', ':woman_mountain_biking:': '🚵 \\u200d ♀ ️', ':woman_mountain_biking_dark_skin_tone:': '🚵 🏿 \\u200d ♀ ️', ':woman_mountain_biking_light_skin_tone:': '🚵 🏻 \\u200d ♀ ️', ':woman_mountain_biking_medium-dark_skin_tone:': '🚵 🏾 \\u200d ♀ ️', ':woman_mountain_biking_medium-light_skin_tone:': '🚵 🏼 \\u200d ♀ ️', ':woman_mountain_biking_medium_skin_tone:': '🚵 🏽 \\u200d ♀ ️', ':woman_office_worker:': '👩 \\u200d 💼', ':woman_office_worker_dark_skin_tone:': '👩 🏿 \\u200d 💼', ':woman_office_worker_light_skin_tone:': '👩 🏻 \\u200d 💼', ':woman_office_worker_medium-dark_skin_tone:': '👩 🏾 \\u200d 💼', ':woman_office_worker_medium-light_skin_tone:': '👩 🏼 \\u200d 💼', ':woman_office_worker_medium_skin_tone:': '👩 🏽 \\u200d 💼', ':woman_pilot:': '👩 \\u200d ✈ ️', ':woman_pilot_dark_skin_tone:': '👩 🏿 \\u200d ✈ ️', ':woman_pilot_light_skin_tone:': '👩 🏻 \\u200d ✈ ️', ':woman_pilot_medium-dark_skin_tone:': '👩 🏾 \\u200d ✈ ️', ':woman_pilot_medium-light_skin_tone:': '👩 🏼 \\u200d ✈ ️', ':woman_pilot_medium_skin_tone:': '👩 🏽 \\u200d ✈ ️', ':woman_playing_handball:': '🤾 \\u200d ♀ ️', ':woman_playing_handball_dark_skin_tone:': '🤾 🏿 \\u200d ♀ ️', ':woman_playing_handball_light_skin_tone:': '🤾 🏻 \\u200d ♀ ️', ':woman_playing_handball_medium-dark_skin_tone:': '🤾 🏾 \\u200d ♀ ️', ':woman_playing_handball_medium-light_skin_tone:': '🤾 🏼 \\u200d ♀ ️', ':woman_playing_handball_medium_skin_tone:': '🤾 🏽 \\u200d ♀ ️', ':woman_playing_water_polo:': '🤽 \\u200d ♀ ️', ':woman_playing_water_polo_dark_skin_tone:': '🤽 🏿 \\u200d ♀ ️', ':woman_playing_water_polo_light_skin_tone:': '🤽 🏻 \\u200d ♀ ️', ':woman_playing_water_polo_medium-dark_skin_tone:': '🤽 🏾 \\u200d ♀ ️', ':woman_playing_water_polo_medium-light_skin_tone:': '🤽 🏼 \\u200d ♀ ️', ':woman_playing_water_polo_medium_skin_tone:': '🤽 🏽 \\u200d ♀ ️', ':woman_police_officer:': '👮 \\u200d ♀ ️', ':woman_police_officer_dark_skin_tone:': '👮 🏿 \\u200d ♀ ️', ':woman_police_officer_light_skin_tone:': '👮 🏻 \\u200d ♀ ️', ':woman_police_officer_medium-dark_skin_tone:': '👮 🏾 \\u200d ♀ ️', ':woman_police_officer_medium-light_skin_tone:': '👮 🏼 \\u200d ♀ ️', ':woman_police_officer_medium_skin_tone:': '👮 🏽 \\u200d ♀ ️', ':woman_pouting:': '🙎 \\u200d ♀ ️', ':woman_pouting_dark_skin_tone:': '🙎 🏿 \\u200d ♀ ️', ':woman_pouting_light_skin_tone:': '🙎 🏻 \\u200d ♀ ️', ':woman_pouting_medium-dark_skin_tone:': '🙎 🏾 \\u200d ♀ ️', ':woman_pouting_medium-light_skin_tone:': '🙎 🏼 \\u200d ♀ ️', ':woman_pouting_medium_skin_tone:': '🙎 🏽 \\u200d ♀ ️', ':woman_raising_hand:': '🙋 \\u200d ♀ ️', ':woman_raising_hand_dark_skin_tone:': '🙋 🏿 \\u200d ♀ ️', ':woman_raising_hand_light_skin_tone:': '🙋 🏻 \\u200d ♀ ️', ':woman_raising_hand_medium-dark_skin_tone:': '🙋 🏾 \\u200d ♀ ️', ':woman_raising_hand_medium-light_skin_tone:': '🙋 🏼 \\u200d ♀ ️', ':woman_raising_hand_medium_skin_tone:': '🙋 🏽 \\u200d ♀ ️', ':woman_rowing_boat:': '🚣 \\u200d ♀ ️', ':woman_rowing_boat_dark_skin_tone:': '🚣 🏿 \\u200d ♀ ️', ':woman_rowing_boat_light_skin_tone:': '🚣 🏻 \\u200d ♀ ️', ':woman_rowing_boat_medium-dark_skin_tone:': '🚣 🏾 \\u200d ♀ ️', ':woman_rowing_boat_medium-light_skin_tone:': '🚣 🏼 \\u200d ♀ ️', ':woman_rowing_boat_medium_skin_tone:': '🚣 🏽 \\u200d ♀ ️', ':woman_running:': '🏃 \\u200d ♀ ️', ':woman_running_dark_skin_tone:': '🏃 🏿 \\u200d ♀ ️', ':woman_running_light_skin_tone:': '🏃 🏻 \\u200d ♀ ️', ':woman_running_medium-dark_skin_tone:': '🏃 🏾 \\u200d ♀ ️', ':woman_running_medium-light_skin_tone:': '🏃 🏼 \\u200d ♀ ️', ':woman_running_medium_skin_tone:': '🏃 🏽 \\u200d ♀ ️', ':woman_scientist:': '👩 \\u200d 🔬', ':woman_scientist_dark_skin_tone:': '👩 🏿 \\u200d 🔬', ':woman_scientist_light_skin_tone:': '👩 🏻 \\u200d 🔬', ':woman_scientist_medium-dark_skin_tone:': '👩 🏾 \\u200d 🔬', ':woman_scientist_medium-light_skin_tone:': '👩 🏼 \\u200d 🔬', ':woman_scientist_medium_skin_tone:': '👩 🏽 \\u200d 🔬', ':woman_shrugging:': '🤷 \\u200d ♀ ️', ':woman_shrugging_dark_skin_tone:': '🤷 🏿 \\u200d ♀ ️', ':woman_shrugging_light_skin_tone:': '🤷 🏻 \\u200d ♀ ️', ':woman_shrugging_medium-dark_skin_tone:': '🤷 🏾 \\u200d ♀ ️', ':woman_shrugging_medium-light_skin_tone:': '🤷 🏼 \\u200d ♀ ️', ':woman_shrugging_medium_skin_tone:': '🤷 🏽 \\u200d ♀ ️', ':woman_singer:': '👩 \\u200d 🎤', ':woman_singer_dark_skin_tone:': '👩 🏿 \\u200d 🎤', ':woman_singer_light_skin_tone:': '👩 🏻 \\u200d 🎤', ':woman_singer_medium-dark_skin_tone:': '👩 🏾 \\u200d 🎤', ':woman_singer_medium-light_skin_tone:': '👩 🏼 \\u200d 🎤', ':woman_singer_medium_skin_tone:': '👩 🏽 \\u200d 🎤', ':woman_student:': '👩 \\u200d 🎓', ':woman_student_dark_skin_tone:': '👩 🏿 \\u200d 🎓', ':woman_student_light_skin_tone:': '👩 🏻 \\u200d 🎓', ':woman_student_medium-dark_skin_tone:': '👩 🏾 \\u200d 🎓', ':woman_student_medium-light_skin_tone:': '👩 🏼 \\u200d 🎓', ':woman_student_medium_skin_tone:': '👩 🏽 \\u200d 🎓', ':woman_surfing:': '🏄 \\u200d ♀ ️', ':woman_surfing_dark_skin_tone:': '🏄 🏿 \\u200d ♀ ️', ':woman_surfing_light_skin_tone:': '🏄 🏻 \\u200d ♀ ️', ':woman_surfing_medium-dark_skin_tone:': '🏄 🏾 \\u200d ♀ ️', ':woman_surfing_medium-light_skin_tone:': '🏄 🏼 \\u200d ♀ ️', ':woman_surfing_medium_skin_tone:': '🏄 🏽 \\u200d ♀ ️', ':woman_swimming:': '🏊 \\u200d ♀ ️', ':woman_swimming_dark_skin_tone:': '🏊 🏿 \\u200d ♀ ️', ':woman_swimming_light_skin_tone:': '🏊 🏻 \\u200d ♀ ️', ':woman_swimming_medium-dark_skin_tone:': '🏊 🏾 \\u200d ♀ ️', ':woman_swimming_medium-light_skin_tone:': '🏊 🏼 \\u200d ♀ ️', ':woman_swimming_medium_skin_tone:': '🏊 🏽 \\u200d ♀ ️', ':woman_teacher:': '👩 \\u200d 🏫', ':woman_teacher_dark_skin_tone:': '👩 🏿 \\u200d 🏫', ':woman_teacher_light_skin_tone:': '👩 🏻 \\u200d 🏫', ':woman_teacher_medium-dark_skin_tone:': '👩 🏾 \\u200d 🏫', ':woman_teacher_medium-light_skin_tone:': '👩 🏼 \\u200d 🏫', ':woman_teacher_medium_skin_tone:': '👩 🏽 \\u200d 🏫', ':woman_technologist:': '👩 \\u200d 💻', ':woman_technologist_dark_skin_tone:': '👩 🏿 \\u200d 💻', ':woman_technologist_light_skin_tone:': '👩 🏻 \\u200d 💻', ':woman_technologist_medium-dark_skin_tone:': '👩 🏾 \\u200d 💻', ':woman_technologist_medium-light_skin_tone:': '👩 🏼 \\u200d 💻', ':woman_technologist_medium_skin_tone:': '👩 🏽 \\u200d 💻', ':woman_tipping_hand:': '💁 \\u200d ♀ ️', ':woman_tipping_hand_dark_skin_tone:': '💁 🏿 \\u200d ♀ ️', ':woman_tipping_hand_light_skin_tone:': '💁 🏻 \\u200d ♀ ️', ':woman_tipping_hand_medium-dark_skin_tone:': '💁 🏾 \\u200d ♀ ️', ':woman_tipping_hand_medium-light_skin_tone:': '💁 🏼 \\u200d ♀ ️', ':woman_tipping_hand_medium_skin_tone:': '💁 🏽 \\u200d ♀ ️', ':woman_walking:': '🚶 \\u200d ♀ ️', ':woman_walking_dark_skin_tone:': '🚶 🏿 \\u200d ♀ ️', ':woman_walking_light_skin_tone:': '🚶 🏻 \\u200d ♀ ️', ':woman_walking_medium-dark_skin_tone:': '🚶 🏾 \\u200d ♀ ️', ':woman_walking_medium-light_skin_tone:': '🚶 🏼 \\u200d ♀ ️', ':woman_walking_medium_skin_tone:': '🚶 🏽 \\u200d ♀ ️', ':woman_wearing_turban:': '👳 \\u200d ♀ ️', ':woman_wearing_turban_dark_skin_tone:': '👳 🏿 \\u200d ♀ ️', ':woman_wearing_turban_light_skin_tone:': '👳 🏻 \\u200d ♀ ️', ':woman_wearing_turban_medium-dark_skin_tone:': '👳 🏾 \\u200d ♀ ️', ':woman_wearing_turban_medium-light_skin_tone:': '👳 🏼 \\u200d ♀ ️', ':woman_wearing_turban_medium_skin_tone:': '👳 🏽 \\u200d ♀ ️', ':woman’s_boot:': '👢', ':woman’s_clothes:': '👚', ':woman’s_hat:': '👒', ':woman’s_sandal:': '👡', ':women_with_bunny_ears_partying:': '👯 \\u200d ♀ ️', ':women_wrestling:': '🤼 \\u200d ♀ ️', ':women’s_room:': '🚺', ':world_map:': '🗺', ':worried_face:': '😟', ':wrapped_gift:': '🎁', ':wrench:': '🔧', ':writing_hand:': '✍', ':writing_hand_dark_skin_tone:': '✍ 🏿', ':writing_hand_light_skin_tone:': '✍ 🏻', ':writing_hand_medium-dark_skin_tone:': '✍ 🏾', ':writing_hand_medium-light_skin_tone:': '✍ 🏼', ':writing_hand_medium_skin_tone:': '✍ 🏽', ':yellow_heart:': '💛', ':yen_banknote:': '💴', ':yin_yang:': '☯', ':zipper-mouth_face:': '🤐', ':zzz:': '💤', ':Åland_Islands:': '🇦 🇽'}\n"
          ],
          "name": "stdout"
        }
      ]
    },
    {
      "cell_type": "code",
      "metadata": {
        "colab": {
          "base_uri": "https://localhost:8080/",
          "height": 204
        },
        "id": "kJthaZNG4PaW",
        "outputId": "05217d11-18bf-4aa0-b51e-455aadb48452"
      },
      "source": [
        "tweets_df.head()"
      ],
      "execution_count": null,
      "outputs": [
        {
          "output_type": "execute_result",
          "data": {
            "text/html": [
              "<div>\n",
              "<style scoped>\n",
              "    .dataframe tbody tr th:only-of-type {\n",
              "        vertical-align: middle;\n",
              "    }\n",
              "\n",
              "    .dataframe tbody tr th {\n",
              "        vertical-align: top;\n",
              "    }\n",
              "\n",
              "    .dataframe thead th {\n",
              "        text-align: right;\n",
              "    }\n",
              "</style>\n",
              "<table border=\"1\" class=\"dataframe\">\n",
              "  <thead>\n",
              "    <tr style=\"text-align: right;\">\n",
              "      <th></th>\n",
              "      <th>geo</th>\n",
              "      <th>text</th>\n",
              "      <th>user</th>\n",
              "      <th>location</th>\n",
              "    </tr>\n",
              "  </thead>\n",
              "  <tbody>\n",
              "    <tr>\n",
              "      <th>0</th>\n",
              "      <td>None</td>\n",
              "      <td>globalists planned covid19 pandemic 10 years e...</td>\n",
              "      <td>Mark79641317</td>\n",
              "      <td>Mallow, Ireland</td>\n",
              "    </tr>\n",
              "    <tr>\n",
              "      <th>1</th>\n",
              "      <td>None</td>\n",
              "      <td>mastercard foundation tuesday announced 13 bil...</td>\n",
              "      <td>SABCNews</td>\n",
              "      <td>South Africa</td>\n",
              "    </tr>\n",
              "    <tr>\n",
              "      <th>2</th>\n",
              "      <td>None</td>\n",
              "      <td>24000 covid19 infections far june sri lanka no...</td>\n",
              "      <td>NewsfirstSL</td>\n",
              "      <td>Colombo, Sri Lanka</td>\n",
              "    </tr>\n",
              "    <tr>\n",
              "      <th>3</th>\n",
              "      <td>None</td>\n",
              "      <td>covid19 travel update south korea seeks travel...</td>\n",
              "      <td>Al_Maldives</td>\n",
              "      <td></td>\n",
              "    </tr>\n",
              "    <tr>\n",
              "      <th>4</th>\n",
              "      <td>None</td>\n",
              "      <td>covid19 home isolation carewe help 18004194948...</td>\n",
              "      <td>QuickwellR</td>\n",
              "      <td></td>\n",
              "    </tr>\n",
              "  </tbody>\n",
              "</table>\n",
              "</div>"
            ],
            "text/plain": [
              "    geo  ...            location\n",
              "0  None  ...    Mallow, Ireland \n",
              "1  None  ...        South Africa\n",
              "2  None  ...  Colombo, Sri Lanka\n",
              "3  None  ...                    \n",
              "4  None  ...                    \n",
              "\n",
              "[5 rows x 4 columns]"
            ]
          },
          "metadata": {
            "tags": []
          },
          "execution_count": 129
        }
      ]
    },
    {
      "cell_type": "code",
      "metadata": {
        "id": "mg-mrSwQ4Sn3"
      },
      "source": [
        "tweets_df.to_csv(\"/content/drive/MyDrive/covid_tweets_clean1.csv\")"
      ],
      "execution_count": null,
      "outputs": []
    },
    {
      "cell_type": "code",
      "metadata": {
        "id": "8KW6GCU639I0"
      },
      "source": [
        "import spacy\n",
        "nlp = spacy.load(\"en_core_web_sm\")\n",
        "\n"
      ],
      "execution_count": null,
      "outputs": []
    },
    {
      "cell_type": "code",
      "metadata": {
        "colab": {
          "background_save": true
        },
        "id": "ObG8JKub3saL"
      },
      "source": [
        "\n",
        "tweets_df[\"entities\"] = tweets_df[\"text\"].apply(lambda x: [(ent.text,ent.label_) for ent in nlp(x).ents])\n",
        "\n",
        "\n",
        "\n",
        "\n"
      ],
      "execution_count": null,
      "outputs": []
    },
    {
      "cell_type": "code",
      "metadata": {
        "colab": {
          "base_uri": "https://localhost:8080/"
        },
        "id": "MY32MPBG8Bey",
        "outputId": "da818ffd-b1f6-4f5c-ba60-297fc3e67a77"
      },
      "source": [
        "#!pip install nltk.sentiment\n",
        "import nltk.sentiment.vader #import SentimentIntensiityAnalyzer\n",
        "nltk.download(\"vader_lexicon\")"
      ],
      "execution_count": null,
      "outputs": [
        {
          "output_type": "stream",
          "text": [
            "[nltk_data] Downloading package vader_lexicon to /root/nltk_data...\n",
            "[nltk_data]   Package vader_lexicon is already up-to-date!\n"
          ],
          "name": "stdout"
        },
        {
          "output_type": "execute_result",
          "data": {
            "text/plain": [
              "True"
            ]
          },
          "metadata": {
            "tags": []
          },
          "execution_count": 135
        }
      ]
    },
    {
      "cell_type": "code",
      "metadata": {
        "id": "rzjIx3kq8jUW"
      },
      "source": [
        "sia = nltk.sentiment.vader.SentimentIntensityAnalyzer()"
      ],
      "execution_count": null,
      "outputs": []
    },
    {
      "cell_type": "code",
      "metadata": {
        "id": "lfUpNBA8At1A"
      },
      "source": [
        "tweets_df[\"sentiment\"] = tweets_df[\"text\"].apply(lambda x: sia.polarity_scores(x))"
      ],
      "execution_count": null,
      "outputs": []
    },
    {
      "cell_type": "code",
      "metadata": {
        "colab": {
          "base_uri": "https://localhost:8080/"
        },
        "id": "Lmsyw71HBkAb",
        "outputId": "9809f868-8747-414b-fe36-a82b71a9e05f"
      },
      "source": [
        "tweets_df.shape"
      ],
      "execution_count": null,
      "outputs": [
        {
          "output_type": "execute_result",
          "data": {
            "text/plain": [
              "(12409, 6)"
            ]
          },
          "metadata": {
            "tags": []
          },
          "execution_count": 140
        }
      ]
    },
    {
      "cell_type": "code",
      "metadata": {
        "id": "Q55M1POVBmVr"
      },
      "source": [
        "tweets_df.to_csv(\"final_tweets_df_9062021.csv\")"
      ],
      "execution_count": null,
      "outputs": []
    },
    {
      "cell_type": "markdown",
      "metadata": {
        "id": "SO1_X8hLMavZ"
      },
      "source": [
        ""
      ]
    }
  ]
}