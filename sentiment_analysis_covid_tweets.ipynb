{
  "nbformat": 4,
  "nbformat_minor": 0,
  "metadata": {
    "accelerator": "GPU",
    "colab": {
      "name": "sentiment_analysis_covid_tweets.ipynb",
      "provenance": []
    },
    "kernelspec": {
      "display_name": "Python 3",
      "name": "python3"
    },
    "language_info": {
      "name": "python"
    }
  },
  "cells": [
    {
      "cell_type": "markdown",
      "metadata": {
        "id": "d66HjaGQMcQM"
      },
      "source": [
        "# SENTIMENT ANALYSIS OF COVID-19 TWEETS"
      ]
    },
    {
      "cell_type": "markdown",
      "metadata": {
        "id": "HqGyVwXYMyGv"
      },
      "source": [
        "This Notebook is to \n",
        "\n",
        "Text Preprocessing:\n",
        "\n",
        "Tokenization\n",
        "\n",
        "Entity Recognition\n",
        "\n",
        "Score"
      ]
    },
    {
      "cell_type": "markdown",
      "metadata": {
        "id": "xshVBGADNKDx"
      },
      "source": [
        "The repository contains analysis of 1500 tweets associated with novel coronavirus COVID-19, which commenced on January 28,2020.\n",
        "\n",
        "**DATA COLLECTION**\n",
        "\n",
        "I used the Twitter's search API to gather historical tweets.\n",
        "\n",
        "**DATA PREPROCESSING**\n",
        "1. Conversion of tweets text to lowercase\n",
        "2. Removal of Punctuations\n",
        "3. Removal of Stopwords\n",
        "4. Replacement of Emoji with text \n",
        "\n",
        "**Named Entity Recognition**\n",
        "\n",
        "Named entity recognition algorithm of 'spacy' library was used to find entities in tweets\n",
        "\n",
        "**Polarity Scores**\n",
        "The tweets are classified based on positive,negative and neutral polarity scores.\n",
        "\n",
        "**Interpretation of Compound Score:**\n",
        "The Compound score is a metric that calculates the sum of all the lexicon ratings which have been normalized between -1(most extreme negative) and +1 (most extreme positive).\n",
        "positive sentiment : (compound score >= 0.05) \n",
        "neutral sentiment : (compound score > -0.05) and (compound score < 0.05) \n",
        "negative sentiment : (compound score <= -0.05)\n",
        "\n",
        "\n"
      ]
    },
    {
      "cell_type": "code",
      "metadata": {
        "id": "UMugYeZ-eXXz"
      },
      "source": [
        "import pandas as pd\n",
        "import json"
      ],
      "execution_count": 1,
      "outputs": []
    },
    {
      "cell_type": "code",
      "metadata": {
        "colab": {
          "base_uri": "https://localhost:8080/"
        },
        "id": "qQvT_FUF1ZLx",
        "outputId": "3d805579-4303-45fa-ecf5-a1eead98e3e2"
      },
      "source": [
        "import tensorflow as tf\n",
        "\n",
        "# Get the GPU device name.\n",
        "device_name = tf.test.gpu_device_name()\n",
        "\n",
        "# The device name should look like the following:\n",
        "if device_name == '/device:GPU:0':\n",
        "    print('Found GPU at: {}'.format(device_name))\n",
        "else:\n",
        "    raise SystemError('GPU device not found')"
      ],
      "execution_count": 2,
      "outputs": [
        {
          "output_type": "stream",
          "text": [
            "Found GPU at: /device:GPU:0\n"
          ],
          "name": "stdout"
        }
      ]
    },
    {
      "cell_type": "code",
      "metadata": {
        "colab": {
          "base_uri": "https://localhost:8080/"
        },
        "id": "6cQEG3551iX1",
        "outputId": "4291c07f-f58b-48e9-ba62-a8db4edfd4a2"
      },
      "source": [
        "import torch\n",
        "\n",
        "# If there's a GPU available...\n",
        "if torch.cuda.is_available():    \n",
        "\n",
        "    # Tell PyTorch to use the GPU.    \n",
        "    device = torch.device(\"cuda\")\n",
        "\n",
        "    print('There are %d GPU(s) available.' % torch.cuda.device_count())\n",
        "\n",
        "    print('We will use the GPU:', torch.cuda.get_device_name(0))\n",
        "\n",
        "# If not...\n",
        "else:\n",
        "    print('No GPU available, using the CPU instead.')\n",
        "    device = torch.device(\"cpu\")"
      ],
      "execution_count": 3,
      "outputs": [
        {
          "output_type": "stream",
          "text": [
            "There are 1 GPU(s) available.\n",
            "We will use the GPU: Tesla T4\n"
          ],
          "name": "stdout"
        }
      ]
    },
    {
      "cell_type": "code",
      "metadata": {
        "colab": {
          "base_uri": "https://localhost:8080/"
        },
        "id": "y-coE7AvtcHP",
        "outputId": "111cf571-3dac-47f5-84a5-ddac8e2fb6e7"
      },
      "source": [
        "from google.colab import drive\n",
        "drive.mount(\"/content/drive\")"
      ],
      "execution_count": 4,
      "outputs": [
        {
          "output_type": "stream",
          "text": [
            "Mounted at /content/drive\n"
          ],
          "name": "stdout"
        }
      ]
    },
    {
      "cell_type": "code",
      "metadata": {
        "id": "IBBYBzwRwKdu"
      },
      "source": [
        "import tweepy as tw\n",
        "\n",
        "with open(\"/content/drive/MyDrive/twitter_keys.json\",'r') as f:\n",
        "  data = json.load(f)"
      ],
      "execution_count": null,
      "outputs": []
    },
    {
      "cell_type": "code",
      "metadata": {
        "id": "MQSfkDtzxsTe"
      },
      "source": [
        "auth = tw.OAuthHandler(data[\"consumer_key\"],data[\"consumer_secret\"])\n",
        "api = tw.API(auth,wait_on_rate_limit=True)"
      ],
      "execution_count": null,
      "outputs": []
    },
    {
      "cell_type": "code",
      "metadata": {
        "id": "sMmif2B9xtCm"
      },
      "source": [
        "search_words = [\"#coronavirus\",\"#covid19\",\"#covid-19\"]\n",
        "date_since = \"2020-04-30\""
      ],
      "execution_count": null,
      "outputs": []
    },
    {
      "cell_type": "code",
      "metadata": {
        "id": "4KPukYz7y2FL"
      },
      "source": [
        "tweets = tw.Cursor(api.search,q=search_words,lang=\"en\",since=date_since,count=1500).items()"
      ],
      "execution_count": null,
      "outputs": []
    },
    {
      "cell_type": "code",
      "metadata": {
        "colab": {
          "base_uri": "https://localhost:8080/"
        },
        "id": "t8phcHPaW0n7",
        "outputId": "9b27bc44-6925-4fc9-eca5-ff448e5f3512"
      },
      "source": [
        "tweets"
      ],
      "execution_count": null,
      "outputs": [
        {
          "output_type": "execute_result",
          "data": {
            "text/plain": [
              "<tweepy.cursor.ItemIterator at 0x7f3f7f5ec210>"
            ]
          },
          "metadata": {
            "tags": []
          },
          "execution_count": 110
        }
      ]
    },
    {
      "cell_type": "code",
      "metadata": {
        "id": "Kp2ZxCrKzSb_"
      },
      "source": [
        "tweet_details = [[tweet.geo,tweet.text,tweet.user.screen_name,tweet.user.location] for tweet in tweets]\n",
        "\n",
        "\n"
      ],
      "execution_count": null,
      "outputs": []
    },
    {
      "cell_type": "code",
      "metadata": {
        "id": "IXPjmNmrztXh"
      },
      "source": [
        "tweets_df = pd.DataFrame(data=tweet_details,columns=[\"geo\",\"text\",\"user\",\"location\"])"
      ],
      "execution_count": null,
      "outputs": []
    },
    {
      "cell_type": "code",
      "metadata": {
        "id": "5MfILWeL0CWZ"
      },
      "source": [
        "tweets_df.to_csv(\"/content/drive/MyDrive/covid_tweets.csv\"). ##Saving tweets in a csv file"
      ],
      "execution_count": null,
      "outputs": []
    },
    {
      "cell_type": "code",
      "metadata": {
        "colab": {
          "base_uri": "https://localhost:8080/",
          "height": 204
        },
        "id": "MVUW3KTr2JuU",
        "outputId": "cf7fa83a-d2c6-4a7d-83d8-11fc56f74449"
      },
      "source": [
        "tweets_df.head()"
      ],
      "execution_count": null,
      "outputs": [
        {
          "output_type": "execute_result",
          "data": {
            "text/html": [
              "<div>\n",
              "<style scoped>\n",
              "    .dataframe tbody tr th:only-of-type {\n",
              "        vertical-align: middle;\n",
              "    }\n",
              "\n",
              "    .dataframe tbody tr th {\n",
              "        vertical-align: top;\n",
              "    }\n",
              "\n",
              "    .dataframe thead th {\n",
              "        text-align: right;\n",
              "    }\n",
              "</style>\n",
              "<table border=\"1\" class=\"dataframe\">\n",
              "  <thead>\n",
              "    <tr style=\"text-align: right;\">\n",
              "      <th></th>\n",
              "      <th>geo</th>\n",
              "      <th>text</th>\n",
              "      <th>user</th>\n",
              "      <th>location</th>\n",
              "    </tr>\n",
              "  </thead>\n",
              "  <tbody>\n",
              "    <tr>\n",
              "      <th>0</th>\n",
              "      <td>None</td>\n",
              "      <td>RT @sapiofoxxxxxxxy: How globalists planned th...</td>\n",
              "      <td>Mark79641317</td>\n",
              "      <td>Mallow, Ireland</td>\n",
              "    </tr>\n",
              "    <tr>\n",
              "      <th>1</th>\n",
              "      <td>None</td>\n",
              "      <td>The Mastercard Foundation on Tuesday announced...</td>\n",
              "      <td>SABCNews</td>\n",
              "      <td>South Africa</td>\n",
              "    </tr>\n",
              "    <tr>\n",
              "      <th>2</th>\n",
              "      <td>None</td>\n",
              "      <td>24,000+ COVID-19 infections so far in June in ...</td>\n",
              "      <td>NewsfirstSL</td>\n",
              "      <td>Colombo, Sri Lanka</td>\n",
              "    </tr>\n",
              "    <tr>\n",
              "      <th>3</th>\n",
              "      <td>None</td>\n",
              "      <td>Covid-19 travel update: South Korea seeks trav...</td>\n",
              "      <td>Al_Maldives</td>\n",
              "      <td></td>\n",
              "    </tr>\n",
              "    <tr>\n",
              "      <th>4</th>\n",
              "      <td>None</td>\n",
              "      <td>COVID-19 Home Isolation Care\\nWe are here to H...</td>\n",
              "      <td>QuickwellR</td>\n",
              "      <td></td>\n",
              "    </tr>\n",
              "  </tbody>\n",
              "</table>\n",
              "</div>"
            ],
            "text/plain": [
              "    geo  ...            location\n",
              "0  None  ...    Mallow, Ireland \n",
              "1  None  ...        South Africa\n",
              "2  None  ...  Colombo, Sri Lanka\n",
              "3  None  ...                    \n",
              "4  None  ...                    \n",
              "\n",
              "[5 rows x 4 columns]"
            ]
          },
          "metadata": {
            "tags": []
          },
          "execution_count": 121
        }
      ]
    },
    {
      "cell_type": "code",
      "metadata": {
        "colab": {
          "base_uri": "https://localhost:8080/"
        },
        "id": "HiVBbvxp2aVv",
        "outputId": "dcd28d98-a5d4-4890-a3a1-e36eae41bc31"
      },
      "source": [
        "tweets_df[\"location\"].value_counts()"
      ],
      "execution_count": null,
      "outputs": [
        {
          "output_type": "execute_result",
          "data": {
            "text/plain": [
              "                                 3689\n",
              "Los Angeles, CA                  2573\n",
              "India                             341\n",
              "United Kingdom                    255\n",
              "Karlsruhe, Germany                233\n",
              "                                 ... \n",
              "patreon.com/wordglass               1\n",
              "Aurangabad | Maharashtra            1\n",
              "Bellevue, WA #Navy #Unity2020       1\n",
              "San Marcos, TX                      1\n",
              "Unknown                             1\n",
              "Name: location, Length: 1692, dtype: int64"
            ]
          },
          "metadata": {
            "tags": []
          },
          "execution_count": 122
        }
      ]
    },
    {
      "cell_type": "markdown",
      "metadata": {
        "id": "WIazQc2eajnj"
      },
      "source": [
        "**DATA PREPROCESSING**\n"
      ]
    },
    {
      "cell_type": "code",
      "metadata": {
        "id": "WpK58Ru72hjF"
      },
      "source": [
        "\n",
        "##Removing mentions\n",
        "import re\n",
        "def clean_tweet_text(text):\n",
        "  text = re.sub(\"RT @[\\w]*:\",\"\",text)\n",
        "  text = re.sub(\"@[\\w]*\",\"\",text)\n",
        "  text = re.sub(\"\\n\",\"\",text)\n",
        "  return text"
      ],
      "execution_count": null,
      "outputs": []
    },
    {
      "cell_type": "code",
      "metadata": {
        "id": "clrtcBk44EhK"
      },
      "source": [
        "tweets_df[\"text\"] = tweets_df[\"text\"].apply(lambda x: clean_tweet_text(x))"
      ],
      "execution_count": null,
      "outputs": []
    },
    {
      "cell_type": "code",
      "metadata": {
        "id": "UJqqHy8ynExi"
      },
      "source": [
        "##Converting into lowercase\n",
        "\n",
        "tweets_df[\"text\"] =  tweets_df['text'].str.lower()"
      ],
      "execution_count": null,
      "outputs": []
    },
    {
      "cell_type": "code",
      "metadata": {
        "id": "Mk2E0XElnqdT"
      },
      "source": [
        "##Removing punctuations\n",
        "\n",
        "tweets_df['text'] = tweets_df['text'].str.replace('[^\\w\\s]','')"
      ],
      "execution_count": null,
      "outputs": []
    },
    {
      "cell_type": "code",
      "metadata": {
        "id": "GdEIpKmSGCgV"
      },
      "source": [
        "#Spelling correction\n",
        "from textblob import TextBlob\n",
        "clean_text[\"text\"] = clean_text['text'].apply(lambda x: str(TextBlob(x).correct()))"
      ],
      "execution_count": null,
      "outputs": []
    },
    {
      "cell_type": "code",
      "metadata": {
        "colab": {
          "base_uri": "https://localhost:8080/"
        },
        "id": "-SR1piqFoVuH",
        "outputId": "07543e02-bded-49bc-b9de-3bf0ffc0b762"
      },
      "source": [
        "##Stop-word removal\n",
        "\n",
        "import nltk\n",
        "from nltk.corpus import stopwords \n",
        "nltk.download('stopwords')\n",
        "\n",
        "#STOPWORDS = set(sw.words('english'))\n",
        "\n",
        "def remove_stopwords(text):\n",
        "  return \" \".join([word for word in str(text).split() if word not in stopwords.words()])\n",
        "\n",
        "##Applying the removal of stopwords\n",
        "\n",
        "tweets_df[\"text\"] = tweets_df[\"text\"].apply(remove_stopwords)"
      ],
      "execution_count": null,
      "outputs": [
        {
          "output_type": "stream",
          "text": [
            "[nltk_data] Downloading package stopwords to /root/nltk_data...\n",
            "[nltk_data]   Package stopwords is already up-to-date!\n"
          ],
          "name": "stdout"
        }
      ]
    },
    {
      "cell_type": "code",
      "metadata": {
        "colab": {
          "background_save": true
        },
        "id": "I6PIzyKWMFcf"
      },
      "source": [
        "##Replacing emoji with text [Emoji conversion into text]\n",
        "\n",
        "import pickle\n",
        "import re\n",
        "\n",
        "with open(\"/content/drive/MyDrive/Emoji_Dict.p\",'rb') as emoji_file:\n",
        "  print(emoji_file)\n",
        "  emoji_dict = pickle.load(emoji_file)\n",
        "  print(emoji_dict)\n",
        "emoji_dict = {v: k for k, v in emoji_dict.items()} \n",
        "\n",
        "def convert_emojis_to_word(text):\n",
        "    \n",
        "    for emot in emoji_dict:\n",
        "        text = re.sub(emot,emoji_dict[emot].replace(':',\"\"),text)\n",
        "        #text = re.sub(r'('+emot+')', \"_\".join(emoji_dict[emot].replace(\",\",\"\").replace(\":\",\"\").split()), text)\n",
        "    return text\n",
        "\n",
        "#convert_emojis_to_word(\"I won 🥇 in 🏏\")\n",
        "\n",
        "tweets_df[\"text\"] = tweets_df[\"text\"].apply(convert_emojis_to_word)\n"
      ],
      "execution_count": null,
      "outputs": []
    },
    {
      "cell_type": "code",
      "metadata": {
        "colab": {
          "base_uri": "https://localhost:8080/",
          "height": 204
        },
        "id": "kJthaZNG4PaW",
        "outputId": "05217d11-18bf-4aa0-b51e-455aadb48452"
      },
      "source": [
        "tweets_df.head()"
      ],
      "execution_count": null,
      "outputs": [
        {
          "output_type": "execute_result",
          "data": {
            "text/html": [
              "<div>\n",
              "<style scoped>\n",
              "    .dataframe tbody tr th:only-of-type {\n",
              "        vertical-align: middle;\n",
              "    }\n",
              "\n",
              "    .dataframe tbody tr th {\n",
              "        vertical-align: top;\n",
              "    }\n",
              "\n",
              "    .dataframe thead th {\n",
              "        text-align: right;\n",
              "    }\n",
              "</style>\n",
              "<table border=\"1\" class=\"dataframe\">\n",
              "  <thead>\n",
              "    <tr style=\"text-align: right;\">\n",
              "      <th></th>\n",
              "      <th>geo</th>\n",
              "      <th>text</th>\n",
              "      <th>user</th>\n",
              "      <th>location</th>\n",
              "    </tr>\n",
              "  </thead>\n",
              "  <tbody>\n",
              "    <tr>\n",
              "      <th>0</th>\n",
              "      <td>None</td>\n",
              "      <td>globalists planned covid19 pandemic 10 years e...</td>\n",
              "      <td>Mark79641317</td>\n",
              "      <td>Mallow, Ireland</td>\n",
              "    </tr>\n",
              "    <tr>\n",
              "      <th>1</th>\n",
              "      <td>None</td>\n",
              "      <td>mastercard foundation tuesday announced 13 bil...</td>\n",
              "      <td>SABCNews</td>\n",
              "      <td>South Africa</td>\n",
              "    </tr>\n",
              "    <tr>\n",
              "      <th>2</th>\n",
              "      <td>None</td>\n",
              "      <td>24000 covid19 infections far june sri lanka no...</td>\n",
              "      <td>NewsfirstSL</td>\n",
              "      <td>Colombo, Sri Lanka</td>\n",
              "    </tr>\n",
              "    <tr>\n",
              "      <th>3</th>\n",
              "      <td>None</td>\n",
              "      <td>covid19 travel update south korea seeks travel...</td>\n",
              "      <td>Al_Maldives</td>\n",
              "      <td></td>\n",
              "    </tr>\n",
              "    <tr>\n",
              "      <th>4</th>\n",
              "      <td>None</td>\n",
              "      <td>covid19 home isolation carewe help 18004194948...</td>\n",
              "      <td>QuickwellR</td>\n",
              "      <td></td>\n",
              "    </tr>\n",
              "  </tbody>\n",
              "</table>\n",
              "</div>"
            ],
            "text/plain": [
              "    geo  ...            location\n",
              "0  None  ...    Mallow, Ireland \n",
              "1  None  ...        South Africa\n",
              "2  None  ...  Colombo, Sri Lanka\n",
              "3  None  ...                    \n",
              "4  None  ...                    \n",
              "\n",
              "[5 rows x 4 columns]"
            ]
          },
          "metadata": {
            "tags": []
          },
          "execution_count": 129
        }
      ]
    },
    {
      "cell_type": "code",
      "metadata": {
        "id": "mg-mrSwQ4Sn3"
      },
      "source": [
        "tweets_df.to_csv(\"/content/drive/MyDrive/covid_tweets_clean1.csv\")"
      ],
      "execution_count": null,
      "outputs": []
    },
    {
      "cell_type": "code",
      "metadata": {
        "id": "8KW6GCU639I0"
      },
      "source": [
        "import spacy\n",
        "nlp = spacy.load(\"en_core_web_sm\")\n",
        "\n"
      ],
      "execution_count": null,
      "outputs": []
    },
    {
      "cell_type": "code",
      "metadata": {
        "colab": {
          "background_save": true
        },
        "id": "ObG8JKub3saL"
      },
      "source": [
        "\n",
        "tweets_df[\"entities\"] = tweets_df[\"text\"].apply(lambda x: [(ent.text,ent.label_) for ent in nlp(x).ents])\n",
        "\n",
        "\n",
        "\n",
        "\n"
      ],
      "execution_count": null,
      "outputs": []
    },
    {
      "cell_type": "code",
      "metadata": {
        "colab": {
          "base_uri": "https://localhost:8080/"
        },
        "id": "MY32MPBG8Bey",
        "outputId": "da818ffd-b1f6-4f5c-ba60-297fc3e67a77"
      },
      "source": [
        "#!pip install nltk.sentiment\n",
        "import nltk.sentiment.vader #import SentimentIntensiityAnalyzer\n",
        "nltk.download(\"vader_lexicon\")"
      ],
      "execution_count": null,
      "outputs": [
        {
          "output_type": "stream",
          "text": [
            "[nltk_data] Downloading package vader_lexicon to /root/nltk_data...\n",
            "[nltk_data]   Package vader_lexicon is already up-to-date!\n"
          ],
          "name": "stdout"
        },
        {
          "output_type": "execute_result",
          "data": {
            "text/plain": [
              "True"
            ]
          },
          "metadata": {
            "tags": []
          },
          "execution_count": 135
        }
      ]
    },
    {
      "cell_type": "code",
      "metadata": {
        "id": "rzjIx3kq8jUW"
      },
      "source": [
        "sia = nltk.sentiment.vader.SentimentIntensityAnalyzer()"
      ],
      "execution_count": null,
      "outputs": []
    },
    {
      "cell_type": "code",
      "metadata": {
        "id": "lfUpNBA8At1A"
      },
      "source": [
        "tweets_df[\"sentiment\"] = tweets_df[\"text\"].apply(lambda x: sia.polarity_scores(x))"
      ],
      "execution_count": null,
      "outputs": []
    },
    {
      "cell_type": "code",
      "metadata": {
        "colab": {
          "base_uri": "https://localhost:8080/"
        },
        "id": "Lmsyw71HBkAb",
        "outputId": "9809f868-8747-414b-fe36-a82b71a9e05f"
      },
      "source": [
        "tweets_df.shape"
      ],
      "execution_count": null,
      "outputs": [
        {
          "output_type": "execute_result",
          "data": {
            "text/plain": [
              "(12409, 6)"
            ]
          },
          "metadata": {
            "tags": []
          },
          "execution_count": 140
        }
      ]
    },
    {
      "cell_type": "code",
      "metadata": {
        "id": "Q55M1POVBmVr"
      },
      "source": [
        "tweets_df.to_csv(\"final_tweets_df_9062021.csv\")"
      ],
      "execution_count": null,
      "outputs": []
    },
    {
      "cell_type": "markdown",
      "metadata": {
        "id": "SO1_X8hLMavZ"
      },
      "source": [
        ""
      ]
    }
  ]
}
